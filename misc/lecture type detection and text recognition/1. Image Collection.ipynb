{
 "cells": [
  {
   "cell_type": "markdown",
   "metadata": {},
   "source": [
    "# 1. Import Dependencies"
   ]
  },
  {
   "cell_type": "code",
   "execution_count": 1,
   "metadata": {},
   "outputs": [
    {
     "name": "stdout",
     "output_type": "stream",
     "text": [
      "Requirement already satisfied: opencv-python in c:\\users\\orphe\\pycharmprojects\\testiamo\\venv\\lib\\site-packages\\opencv_python-4.5.2.52-py3.7-win-amd64.egg (4.5.2.52)\n",
      "Requirement already satisfied: numpy>=1.14.5 in c:\\users\\orphe\\pycharmprojects\\testiamo\\venv\\lib\\site-packages (from opencv-python) (1.19.2)\n"
     ]
    },
    {
     "name": "stderr",
     "output_type": "stream",
     "text": [
      "WARNING: You are using pip version 20.2.4; however, version 21.3.1 is available.\n",
      "You should consider upgrading via the 'c:\\users\\orphe\\pycharmprojects\\testiamo\\venv\\scripts\\python.exe -m pip install --upgrade pip' command.\n"
     ]
    }
   ],
   "source": [
    "!pip install opencv-python"
   ]
  },
  {
   "cell_type": "code",
   "execution_count": 2,
   "metadata": {},
   "outputs": [],
   "source": [
    "# Import opencv\n",
    "import cv2 \n",
    "\n",
    "# Import uuid\n",
    "import uuid\n",
    "\n",
    "# Import Operating System\n",
    "import os\n",
    "\n",
    "# Import time\n",
    "import time"
   ]
  },
  {
   "cell_type": "markdown",
   "metadata": {},
   "source": [
    "# 2. Define Images to Collect"
   ]
  },
  {
   "cell_type": "code",
   "execution_count": 3,
   "metadata": {},
   "outputs": [],
   "source": [
    "labels = ['lavagna']"
   ]
  },
  {
   "cell_type": "markdown",
   "metadata": {},
   "source": [
    "# 3. Setup Folders "
   ]
  },
  {
   "cell_type": "code",
   "execution_count": 5,
   "metadata": {},
   "outputs": [],
   "source": [
    "IMAGES_PATH = os.path.join('Tensorflow', 'workspace', 'images', 'collectedimages')"
   ]
  },
  {
   "cell_type": "code",
   "execution_count": 11,
   "metadata": {},
   "outputs": [
    {
     "name": "stdout",
     "output_type": "stream",
     "text": [
      "Tensorflow\\workspace\\images\\collectedimages\n"
     ]
    }
   ],
   "source": [
    "print(IMAGES_PATH)"
   ]
  },
  {
   "cell_type": "code",
   "execution_count": 5,
   "metadata": {},
   "outputs": [],
   "source": [
    "if not os.path.exists(IMAGES_PATH):\n",
    "    if os.name == 'posix':\n",
    "        !mkdir -p {IMAGES_PATH}\n",
    "    if os.name == 'nt':\n",
    "         !mkdir {IMAGES_PATH}\n",
    "for label in labels:\n",
    "    path = os.path.join(IMAGES_PATH, label)\n",
    "    if not os.path.exists(path):\n",
    "        !mkdir {path}"
   ]
  },
  {
   "cell_type": "markdown",
   "metadata": {},
   "source": [
    "# 4. Capture Images"
   ]
  },
  {
   "cell_type": "code",
   "execution_count": 6,
   "metadata": {},
   "outputs": [
    {
     "name": "stdout",
     "output_type": "stream",
     "text": [
      "Collecting images for thumbsup\n",
      "Collecting image 0\n",
      "Collecting image 1\n",
      "Collecting image 2\n",
      "Collecting image 3\n",
      "Collecting image 4\n",
      "Collecting images for thumbsdown\n",
      "Collecting image 0\n",
      "Collecting image 1\n",
      "Collecting image 2\n",
      "Collecting image 3\n",
      "Collecting image 4\n",
      "Collecting images for thankyou\n",
      "Collecting image 0\n",
      "Collecting image 1\n",
      "Collecting image 2\n",
      "Collecting image 3\n",
      "Collecting image 4\n",
      "Collecting images for livelong\n",
      "Collecting image 0\n",
      "Collecting image 1\n",
      "Collecting image 2\n",
      "Collecting image 3\n",
      "Collecting image 4\n"
     ]
    }
   ],
   "source": [
    "for label in labels:\n",
    "    cap = cv2.VideoCapture(0)\n",
    "    print('Collecting images for {}'.format(label))\n",
    "    time.sleep(5)\n",
    "    for imgnum in range(number_imgs):\n",
    "        print('Collecting image {}'.format(imgnum))\n",
    "        ret, frame = cap.read()\n",
    "        imgname = os.path.join(IMAGES_PATH,label,label+'.'+'{}.jpg'.format(str(uuid.uuid1())))\n",
    "        cv2.imwrite(imgname, frame)\n",
    "        cv2.imshow('frame', frame)\n",
    "        time.sleep(2)\n",
    "\n",
    "        if cv2.waitKey(1) & 0xFF == ord('q'):\n",
    "            break\n",
    "cap.release()\n",
    "cv2.destroyAllWindows()"
   ]
  },
  {
   "cell_type": "markdown",
   "metadata": {},
   "source": [
    "# 5. Image Labelling"
   ]
  },
  {
   "cell_type": "code",
   "execution_count": 6,
   "metadata": {},
   "outputs": [
    {
     "name": "stdout",
     "output_type": "stream",
     "text": [
      "Requirement already satisfied: pyqt5 in c:\\users\\orphe\\desktop\\bibbia 2\\semantic web technologies\\progetto_swt_tfod\\tfodcourse\\tfod\\lib\\site-packages (5.15.4)\n",
      "Requirement already satisfied: lxml in c:\\users\\orphe\\desktop\\bibbia 2\\semantic web technologies\\progetto_swt_tfod\\tfodcourse\\tfod\\lib\\site-packages (4.6.3)\n",
      "Requirement already satisfied: PyQt5-Qt5>=5.15 in c:\\users\\orphe\\desktop\\bibbia 2\\semantic web technologies\\progetto_swt_tfod\\tfodcourse\\tfod\\lib\\site-packages (from pyqt5) (5.15.2)\n",
      "Requirement already satisfied: PyQt5-sip<13,>=12.8 in c:\\users\\orphe\\desktop\\bibbia 2\\semantic web technologies\\progetto_swt_tfod\\tfodcourse\\tfod\\lib\\site-packages (from pyqt5) (12.8.1)\n"
     ]
    }
   ],
   "source": [
    "!pip install --upgrade pyqt5 lxml"
   ]
  },
  {
   "cell_type": "code",
   "execution_count": 8,
   "metadata": {
    "collapsed": true
   },
   "outputs": [
    {
     "name": "stdout",
     "output_type": "stream",
     "text": [
      "Package             Version\n",
      "------------------- --------\n",
      "argon2-cffi         20.1.0\n",
      "async-generator     1.10\n",
      "attrs               21.2.0\n",
      "backcall            0.2.0\n",
      "bleach              3.3.0\n",
      "cffi                1.14.5\n",
      "colorama            0.4.4\n",
      "decorator           5.0.7\n",
      "defusedxml          0.7.1\n",
      "entrypoints         0.3\n",
      "importlib-metadata  4.0.1\n",
      "ipykernel           5.5.4\n",
      "ipython             7.23.1\n",
      "ipython-genutils    0.2.0\n",
      "ipywidgets          7.6.3\n",
      "jedi                0.18.0\n",
      "Jinja2              2.11.3\n",
      "jsonschema          3.2.0\n",
      "jupyter             1.0.0\n",
      "jupyter-client      6.1.12\n",
      "jupyter-console     6.4.0\n",
      "jupyter-core        4.7.1\n",
      "jupyterlab-pygments 0.1.2\n",
      "jupyterlab-widgets  1.0.0\n",
      "lxml                4.6.3\n",
      "MarkupSafe          1.1.1\n",
      "matplotlib-inline   0.1.2\n",
      "mistune             0.8.4\n",
      "nbclient            0.5.3\n",
      "nbconvert           6.0.7\n",
      "nbformat            5.1.3\n",
      "nest-asyncio        1.5.1\n",
      "notebook            6.3.0\n",
      "numpy               1.20.3\n",
      "opencv-python       4.5.2.52\n",
      "packaging           20.9\n",
      "pandocfilters       1.4.3\n",
      "parso               0.8.2\n",
      "pickleshare         0.7.5\n",
      "pip                 21.1.1\n",
      "prometheus-client   0.10.1\n",
      "prompt-toolkit      3.0.18\n",
      "pycparser           2.20\n",
      "Pygments            2.9.0\n",
      "pyparsing           2.4.7\n",
      "PyQt5               5.15.4\n",
      "PyQt5-Qt5           5.15.2\n",
      "PyQt5-sip           12.8.1\n",
      "pyrsistent          0.17.3\n",
      "python-dateutil     2.8.1\n",
      "pywin32             300\n",
      "pywinpty            0.5.7\n",
      "pyzmq               22.0.3\n",
      "qtconsole           5.1.0\n",
      "QtPy                1.9.0\n",
      "Send2Trash          1.5.0\n",
      "setuptools          41.2.0\n",
      "six                 1.16.0\n",
      "terminado           0.9.5\n",
      "testpath            0.4.4\n",
      "tornado             6.1\n",
      "traitlets           5.0.5\n",
      "typing-extensions   3.10.0.0\n",
      "wcwidth             0.2.5\n",
      "webencodings        0.5.1\n",
      "widgetsnbextension  3.5.1\n",
      "zipp                3.4.1\n"
     ]
    }
   ],
   "source": [
    "!pip list"
   ]
  },
  {
   "cell_type": "code",
   "execution_count": 13,
   "metadata": {},
   "outputs": [],
   "source": [
    "LABELIMG_PATH = os.path.join('Tensorflow', 'labelimg')"
   ]
  },
  {
   "cell_type": "code",
   "execution_count": 14,
   "metadata": {},
   "outputs": [
    {
     "name": "stderr",
     "output_type": "stream",
     "text": [
      "Cloning into 'Tensorflow\\labelimg'...\n"
     ]
    }
   ],
   "source": [
    "if not os.path.exists(LABELIMG_PATH):\n",
    "    !mkdir {LABELIMG_PATH}\n",
    "    !git clone https://github.com/tzutalin/labelImg {LABELIMG_PATH}"
   ]
  },
  {
   "cell_type": "code",
   "execution_count": 15,
   "metadata": {},
   "outputs": [],
   "source": [
    "if os.name == 'posix':\n",
    "    !make qt5py3\n",
    "if os.name =='nt':\n",
    "    !cd {LABELIMG_PATH} && pyrcc5 -o libs/resources.py resources.qrc"
   ]
  },
  {
   "cell_type": "code",
   "execution_count": 16,
   "metadata": {},
   "outputs": [
    {
     "name": "stdout",
     "output_type": "stream",
     "text": [
      "Image:C:\\Users\\Orphe\\Desktop\\Bibbia 2\\Semantic Web Technologies\\Progetto_SWT_TFOD\\TFODCourse\\Tensorflow\\workspace\\images\\collectedimages\\livelong\\livelong.000f66b4-b265-11eb-901a-086266b476b9.jpg -> Annotation:C:/Users/Orphe/Desktop/Bibbia 2/Semantic Web Technologies/Progetto_SWT_TFOD/TFODCourse/Tensorflow/workspace/images/collectedimages/livelong/livelong.000f66b4-b265-11eb-901a-086266b476b9.xml\n",
      "Image:C:\\Users\\Orphe\\Desktop\\Bibbia 2\\Semantic Web Technologies\\Progetto_SWT_TFOD\\TFODCourse\\Tensorflow\\workspace\\images\\collectedimages\\livelong\\livelong.027a7d08-b265-11eb-9cc2-086266b476b9.jpg -> Annotation:C:/Users/Orphe/Desktop/Bibbia 2/Semantic Web Technologies/Progetto_SWT_TFOD/TFODCourse/Tensorflow/workspace/images/collectedimages/livelong/livelong.027a7d08-b265-11eb-9cc2-086266b476b9.xml\n",
      "Image:C:\\Users\\Orphe\\Desktop\\Bibbia 2\\Semantic Web Technologies\\Progetto_SWT_TFOD\\TFODCourse\\Tensorflow\\workspace\\images\\collectedimages\\livelong\\livelong.0144b6d4-b265-11eb-aea6-086266b476b9.jpg -> Annotation:C:/Users/Orphe/Desktop/Bibbia 2/Semantic Web Technologies/Progetto_SWT_TFOD/TFODCourse/Tensorflow/workspace/images/collectedimages/livelong/livelong.0144b6d4-b265-11eb-aea6-086266b476b9.xml\n",
      "Image:C:\\Users\\Orphe\\Desktop\\Bibbia 2\\Semantic Web Technologies\\Progetto_SWT_TFOD\\TFODCourse\\Tensorflow\\workspace\\images\\collectedimages\\livelong\\livelong.fda28cf4-b264-11eb-91db-086266b476b9.jpg -> Annotation:C:/Users/Orphe/Desktop/Bibbia 2/Semantic Web Technologies/Progetto_SWT_TFOD/TFODCourse/Tensorflow/workspace/images/collectedimages/livelong/livelong.fda28cf4-b264-11eb-91db-086266b476b9.xml\n",
      "Image:C:\\Users\\Orphe\\Desktop\\Bibbia 2\\Semantic Web Technologies\\Progetto_SWT_TFOD\\TFODCourse\\Tensorflow\\workspace\\images\\collectedimages\\livelong\\livelong.fed895dc-b264-11eb-bccc-086266b476b9.jpg -> Annotation:C:/Users/Orphe/Desktop/Bibbia 2/Semantic Web Technologies/Progetto_SWT_TFOD/TFODCourse/Tensorflow/workspace/images/collectedimages/livelong/livelong.fed895dc-b264-11eb-bccc-086266b476b9.xml\n",
      "Image:C:\\Users\\Orphe\\Desktop\\Bibbia 2\\Semantic Web Technologies\\Progetto_SWT_TFOD\\TFODCourse\\Tensorflow\\workspace\\images\\collectedimages\\thankyou\\thankyou.f0a80558-b264-11eb-a50e-086266b476b9.jpg -> Annotation:C:/Users/Orphe/Desktop/Bibbia 2/Semantic Web Technologies/Progetto_SWT_TFOD/TFODCourse/Tensorflow/workspace/images/collectedimages/thankyou/thankyou.f0a80558-b264-11eb-a50e-086266b476b9.xml\n",
      "Image:C:\\Users\\Orphe\\Desktop\\Bibbia 2\\Semantic Web Technologies\\Progetto_SWT_TFOD\\TFODCourse\\Tensorflow\\workspace\\images\\collectedimages\\thankyou\\thankyou.f1df2a06-b264-11eb-a882-086266b476b9.jpg -> Annotation:C:/Users/Orphe/Desktop/Bibbia 2/Semantic Web Technologies/Progetto_SWT_TFOD/TFODCourse/Tensorflow/workspace/images/collectedimages/thankyou/thankyou.f1df2a06-b264-11eb-a882-086266b476b9.xml\n",
      "Image:C:\\Users\\Orphe\\Desktop\\Bibbia 2\\Semantic Web Technologies\\Progetto_SWT_TFOD\\TFODCourse\\Tensorflow\\workspace\\images\\collectedimages\\thankyou\\thankyou.f44b6514-b264-11eb-83f6-086266b476b9.jpg -> Annotation:C:/Users/Orphe/Desktop/Bibbia 2/Semantic Web Technologies/Progetto_SWT_TFOD/TFODCourse/Tensorflow/workspace/images/collectedimages/thankyou/thankyou.f44b6514-b264-11eb-83f6-086266b476b9.xml\n",
      "Image:C:\\Users\\Orphe\\Desktop\\Bibbia 2\\Semantic Web Technologies\\Progetto_SWT_TFOD\\TFODCourse\\Tensorflow\\workspace\\images\\collectedimages\\thankyou\\thankyou.f315ac9e-b264-11eb-b897-086266b476b9.jpg -> Annotation:C:/Users/Orphe/Desktop/Bibbia 2/Semantic Web Technologies/Progetto_SWT_TFOD/TFODCourse/Tensorflow/workspace/images/collectedimages/thankyou/thankyou.f315ac9e-b264-11eb-b897-086266b476b9.xml\n",
      "Image:C:\\Users\\Orphe\\Desktop\\Bibbia 2\\Semantic Web Technologies\\Progetto_SWT_TFOD\\TFODCourse\\Tensorflow\\workspace\\images\\collectedimages\\thankyou\\thankyou.f5827b8a-b264-11eb-b767-086266b476b9.jpg -> Annotation:C:/Users/Orphe/Desktop/Bibbia 2/Semantic Web Technologies/Progetto_SWT_TFOD/TFODCourse/Tensorflow/workspace/images/collectedimages/thankyou/thankyou.f5827b8a-b264-11eb-b767-086266b476b9.xml\n",
      "Image:C:\\Users\\Orphe\\Desktop\\Bibbia 2\\Semantic Web Technologies\\Progetto_SWT_TFOD\\TFODCourse\\Tensorflow\\workspace\\images\\collectedimages\\thumbsdown\\thumbsdown.e3a26138-b264-11eb-8785-086266b476b9.jpg -> Annotation:C:/Users/Orphe/Desktop/Bibbia 2/Semantic Web Technologies/Progetto_SWT_TFOD/TFODCourse/Tensorflow/workspace/images/collectedimages/thumbsdown/thumbsdown.e3a26138-b264-11eb-8785-086266b476b9.xml\n",
      "Image:C:\\Users\\Orphe\\Desktop\\Bibbia 2\\Semantic Web Technologies\\Progetto_SWT_TFOD\\TFODCourse\\Tensorflow\\workspace\\images\\collectedimages\\thumbsdown\\thumbsdown.e4d63dde-b264-11eb-bc7e-086266b476b9.jpg -> Annotation:C:/Users/Orphe/Desktop/Bibbia 2/Semantic Web Technologies/Progetto_SWT_TFOD/TFODCourse/Tensorflow/workspace/images/collectedimages/thumbsdown/thumbsdown.e4d63dde-b264-11eb-bc7e-086266b476b9.xml\n",
      "Image:C:\\Users\\Orphe\\Desktop\\Bibbia 2\\Semantic Web Technologies\\Progetto_SWT_TFOD\\TFODCourse\\Tensorflow\\workspace\\images\\collectedimages\\thumbsdown\\thumbsdown.e60d05d4-b264-11eb-80ea-086266b476b9.jpg -> Annotation:C:/Users/Orphe/Desktop/Bibbia 2/Semantic Web Technologies/Progetto_SWT_TFOD/TFODCourse/Tensorflow/workspace/images/collectedimages/thumbsdown/thumbsdown.e60d05d4-b264-11eb-80ea-086266b476b9.xml\n",
      "Cancel creation.\n",
      "Cancel creation.\n",
      "Image:C:\\Users\\Orphe\\Desktop\\Bibbia 2\\Semantic Web Technologies\\Progetto_SWT_TFOD\\TFODCourse\\Tensorflow\\workspace\\images\\collectedimages\\thumbsdown\\thumbsdown.e87ac69a-b264-11eb-b49a-086266b476b9.jpg -> Annotation:C:/Users/Orphe/Desktop/Bibbia 2/Semantic Web Technologies/Progetto_SWT_TFOD/TFODCourse/Tensorflow/workspace/images/collectedimages/thumbsdown/thumbsdown.e87ac69a-b264-11eb-b49a-086266b476b9.xml\n",
      "Image:C:\\Users\\Orphe\\Desktop\\Bibbia 2\\Semantic Web Technologies\\Progetto_SWT_TFOD\\TFODCourse\\Tensorflow\\workspace\\images\\collectedimages\\thumbsdown\\thumbsdown.e743d864-b264-11eb-af73-086266b476b9.jpg -> Annotation:C:/Users/Orphe/Desktop/Bibbia 2/Semantic Web Technologies/Progetto_SWT_TFOD/TFODCourse/Tensorflow/workspace/images/collectedimages/thumbsdown/thumbsdown.e743d864-b264-11eb-af73-086266b476b9.xml\n",
      "Image:C:\\Users\\Orphe\\Desktop\\Bibbia 2\\Semantic Web Technologies\\Progetto_SWT_TFOD\\TFODCourse\\Tensorflow\\workspace\\images\\collectedimages\\thumbsup\\thumbsup.4ff5cf1a-b264-11eb-974f-086266b476b9.jpg -> Annotation:C:/Users/Orphe/Desktop/Bibbia 2/Semantic Web Technologies/Progetto_SWT_TFOD/TFODCourse/Tensorflow/workspace/images/collectedimages/thumbsup/thumbsup.4ff5cf1a-b264-11eb-974f-086266b476b9.xml\n",
      "Image:C:\\Users\\Orphe\\Desktop\\Bibbia 2\\Semantic Web Technologies\\Progetto_SWT_TFOD\\TFODCourse\\Tensorflow\\workspace\\images\\collectedimages\\thumbsup\\thumbsup.539a218c-b264-11eb-8f61-086266b476b9.jpg -> Annotation:C:/Users/Orphe/Desktop/Bibbia 2/Semantic Web Technologies/Progetto_SWT_TFOD/TFODCourse/Tensorflow/workspace/images/collectedimages/thumbsup/thumbsup.539a218c-b264-11eb-8f61-086266b476b9.xml\n",
      "Image:C:\\Users\\Orphe\\Desktop\\Bibbia 2\\Semantic Web Technologies\\Progetto_SWT_TFOD\\TFODCourse\\Tensorflow\\workspace\\images\\collectedimages\\thumbsup\\thumbsup.5129e1a2-b264-11eb-8594-086266b476b9.jpg -> Annotation:C:/Users/Orphe/Desktop/Bibbia 2/Semantic Web Technologies/Progetto_SWT_TFOD/TFODCourse/Tensorflow/workspace/images/collectedimages/thumbsup/thumbsup.5129e1a2-b264-11eb-8594-086266b476b9.xml\n",
      "Image:C:\\Users\\Orphe\\Desktop\\Bibbia 2\\Semantic Web Technologies\\Progetto_SWT_TFOD\\TFODCourse\\Tensorflow\\workspace\\images\\collectedimages\\thumbsup\\thumbsup.5264172c-b264-11eb-9fc5-086266b476b9.jpg -> Annotation:C:/Users/Orphe/Desktop/Bibbia 2/Semantic Web Technologies/Progetto_SWT_TFOD/TFODCourse/Tensorflow/workspace/images/collectedimages/thumbsup/thumbsup.5264172c-b264-11eb-9fc5-086266b476b9.xml\n",
      "Image:C:\\Users\\Orphe\\Desktop\\Bibbia 2\\Semantic Web Technologies\\Progetto_SWT_TFOD\\TFODCourse\\Tensorflow\\workspace\\images\\collectedimages\\thumbsup\\thumbsup.d6ab2a02-b264-11eb-8f33-086266b476b9.jpg -> Annotation:C:/Users/Orphe/Desktop/Bibbia 2/Semantic Web Technologies/Progetto_SWT_TFOD/TFODCourse/Tensorflow/workspace/images/collectedimages/thumbsup/thumbsup.d6ab2a02-b264-11eb-8f33-086266b476b9.xml\n",
      "Image:C:\\Users\\Orphe\\Desktop\\Bibbia 2\\Semantic Web Technologies\\Progetto_SWT_TFOD\\TFODCourse\\Tensorflow\\workspace\\images\\collectedimages\\thumbsup\\thumbsup.d7e6c71e-b264-11eb-a5b6-086266b476b9.jpg -> Annotation:C:/Users/Orphe/Desktop/Bibbia 2/Semantic Web Technologies/Progetto_SWT_TFOD/TFODCourse/Tensorflow/workspace/images/collectedimages/thumbsup/thumbsup.d7e6c71e-b264-11eb-a5b6-086266b476b9.xml\n",
      "Image:C:\\Users\\Orphe\\Desktop\\Bibbia 2\\Semantic Web Technologies\\Progetto_SWT_TFOD\\TFODCourse\\Tensorflow\\workspace\\images\\collectedimages\\thumbsup\\thumbsup.d91b1580-b264-11eb-9b89-086266b476b9.jpg -> Annotation:C:/Users/Orphe/Desktop/Bibbia 2/Semantic Web Technologies/Progetto_SWT_TFOD/TFODCourse/Tensorflow/workspace/images/collectedimages/thumbsup/thumbsup.d91b1580-b264-11eb-9b89-086266b476b9.xml\n",
      "Image:C:\\Users\\Orphe\\Desktop\\Bibbia 2\\Semantic Web Technologies\\Progetto_SWT_TFOD\\TFODCourse\\Tensorflow\\workspace\\images\\collectedimages\\thumbsup\\thumbsup.da50cfa4-b264-11eb-bd52-086266b476b9.jpg -> Annotation:C:/Users/Orphe/Desktop/Bibbia 2/Semantic Web Technologies/Progetto_SWT_TFOD/TFODCourse/Tensorflow/workspace/images/collectedimages/thumbsup/thumbsup.da50cfa4-b264-11eb-bd52-086266b476b9.xml\n",
      "Image:C:\\Users\\Orphe\\Desktop\\Bibbia 2\\Semantic Web Technologies\\Progetto_SWT_TFOD\\TFODCourse\\Tensorflow\\workspace\\images\\collectedimages\\thumbsup\\thumbsup.db87524a-b264-11eb-bdbb-086266b476b9.jpg -> Annotation:C:/Users/Orphe/Desktop/Bibbia 2/Semantic Web Technologies/Progetto_SWT_TFOD/TFODCourse/Tensorflow/workspace/images/collectedimages/thumbsup/thumbsup.db87524a-b264-11eb-bdbb-086266b476b9.xml\n"
     ]
    }
   ],
   "source": [
    "!cd {LABELIMG_PATH} && python labelImg.py"
   ]
  },
  {
   "cell_type": "markdown",
   "metadata": {},
   "source": [
    "# 6. Move them into a Training and Testing Partition"
   ]
  },
  {
   "cell_type": "markdown",
   "metadata": {},
   "source": [
    "# OPTIONAL - 7. Compress them for Colab Training"
   ]
  },
  {
   "cell_type": "code",
   "execution_count": 20,
   "metadata": {},
   "outputs": [],
   "source": [
    "TRAIN_PATH = os.path.join('Tensorflow', 'workspace', 'images', 'train')\n",
    "TEST_PATH = os.path.join('Tensorflow', 'workspace', 'images', 'test')\n",
    "ARCHIVE_PATH = os.path.join('Tensorflow', 'workspace', 'images', 'archive.tar.gz')"
   ]
  },
  {
   "cell_type": "code",
   "execution_count": 21,
   "metadata": {},
   "outputs": [],
   "source": [
    "!tar -czf {ARCHIVE_PATH} {TRAIN_PATH} {TEST_PATH}"
   ]
  },
  {
   "cell_type": "code",
   "execution_count": null,
   "metadata": {},
   "outputs": [],
   "source": []
  }
 ],
 "metadata": {
  "kernelspec": {
   "display_name": "tfodj",
   "language": "python",
   "name": "tfodj"
  },
  "language_info": {
   "codemirror_mode": {
    "name": "ipython",
    "version": 3
   },
   "file_extension": ".py",
   "mimetype": "text/x-python",
   "name": "python",
   "nbconvert_exporter": "python",
   "pygments_lexer": "ipython3",
   "version": "3.7.7"
  }
 },
 "nbformat": 4,
 "nbformat_minor": 2
}
