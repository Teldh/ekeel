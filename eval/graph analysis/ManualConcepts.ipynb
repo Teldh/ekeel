{
 "cells": [
  {
   "cell_type": "code",
   "execution_count": 1,
   "metadata": {},
   "outputs": [],
   "source": [
    "import networkx as nx\n",
    "import igraph as igraph\n",
    "import pandas as pd\n",
    "import numpy as np\n",
    "from networkx.readwrite import json_graph\n",
    "import json\n",
    "import codecs\n",
    "import csv\n",
    "import ast\n",
    "from collections import defaultdict"
   ]
  },
  {
   "cell_type": "code",
   "execution_count": 33,
   "metadata": {},
   "outputs": [
    {
     "name": "stdout",
     "output_type": "stream",
     "text": [
      "terminology_set_nospace len: 126\n",
      "F rel: 419\n",
      "F len: 221\n",
      "F dif manual: 116\n"
     ]
    },
    {
     "ename": "AttributeError",
     "evalue": "'list' object has no attribute 'difference'",
     "output_type": "error",
     "traceback": [
      "\u001b[0;31m---------------------------------------------------------------------------\u001b[0m",
      "\u001b[0;31mAttributeError\u001b[0m                            Traceback (most recent call last)",
      "\u001b[0;32m<ipython-input-33-04446172be83>\u001b[0m in \u001b[0;36m<module>\u001b[0;34m\u001b[0m\n\u001b[1;32m     24\u001b[0m     \u001b[0mprint\u001b[0m\u001b[0;34m(\u001b[0m\u001b[0;34m'F len:'\u001b[0m\u001b[0;34m,\u001b[0m \u001b[0mlen\u001b[0m\u001b[0;34m(\u001b[0m\u001b[0mconcepts_f_set\u001b[0m\u001b[0;34m)\u001b[0m\u001b[0;34m)\u001b[0m\u001b[0;34m\u001b[0m\u001b[0;34m\u001b[0m\u001b[0m\n\u001b[1;32m     25\u001b[0m     \u001b[0mprint\u001b[0m\u001b[0;34m(\u001b[0m\u001b[0;34m'F dif manual:'\u001b[0m\u001b[0;34m,\u001b[0m \u001b[0mlen\u001b[0m\u001b[0;34m(\u001b[0m\u001b[0mconcepts_f_set\u001b[0m\u001b[0;34m.\u001b[0m\u001b[0mdifference\u001b[0m\u001b[0;34m(\u001b[0m\u001b[0mterminology_set\u001b[0m\u001b[0;34m)\u001b[0m\u001b[0;34m)\u001b[0m\u001b[0;34m)\u001b[0m\u001b[0;34m\u001b[0m\u001b[0;34m\u001b[0m\u001b[0m\n\u001b[0;32m---> 26\u001b[0;31m     \u001b[0mprint\u001b[0m\u001b[0;34m(\u001b[0m\u001b[0;34m'manual Manual dif F:'\u001b[0m\u001b[0;34m,\u001b[0m \u001b[0mlen\u001b[0m\u001b[0;34m(\u001b[0m\u001b[0mterminology_set\u001b[0m\u001b[0;34m.\u001b[0m\u001b[0mdifference\u001b[0m\u001b[0;34m(\u001b[0m\u001b[0mconcepts_f_set\u001b[0m\u001b[0;34m)\u001b[0m\u001b[0;34m)\u001b[0m\u001b[0;34m)\u001b[0m\u001b[0;34m\u001b[0m\u001b[0;34m\u001b[0m\u001b[0m\n\u001b[0m\u001b[1;32m     27\u001b[0m \u001b[0;34m\u001b[0m\u001b[0m\n\u001b[1;32m     28\u001b[0m \u001b[0;32mwith\u001b[0m \u001b[0mopen\u001b[0m\u001b[0;34m(\u001b[0m\u001b[0;34m'../input_data/annotazioni2/chiara.json'\u001b[0m\u001b[0;34m,\u001b[0m \u001b[0;34m'r'\u001b[0m\u001b[0;34m,\u001b[0m \u001b[0mencoding\u001b[0m\u001b[0;34m=\u001b[0m\u001b[0;34m'utf-8'\u001b[0m\u001b[0;34m)\u001b[0m \u001b[0;32mas\u001b[0m \u001b[0mjson_data2\u001b[0m\u001b[0;34m:\u001b[0m\u001b[0;34m\u001b[0m\u001b[0;34m\u001b[0m\u001b[0m\n",
      "\u001b[0;31mAttributeError\u001b[0m: 'list' object has no attribute 'difference'"
     ]
    }
   ],
   "source": [
    "terminology_set = set()\n",
    "terminology_set_nospace = set()\n",
    " \n",
    "# Qui sostituire la giusta terminologia   \n",
    "with open('../input_data/starting_terminology.txt', 'r', encoding='utf-8') as f:\n",
    "    readcontent = f.read()\n",
    "    terminology_set= readcontent.splitlines()\n",
    "    # print('terminology_set:',len(terminology_set))\n",
    "    # for item in iter(terminology_set):\n",
    "        # item_nospace= item.replace(\" \",\"_\")\n",
    "        # print(item)\n",
    "        # terminology_set_nospace.add(item_nospace)\n",
    "    # print('terminology_set len:',terminology_set)\n",
    "    print('terminology_set_nospace len:', len(terminology_set))\n",
    "       \n",
    "\n",
    "with open('../input_data/annotazioni2/frosina.json', 'r', encoding='utf-8') as json_data1:\n",
    "    parsed_json1 = (json.loads(json_data1.read()))\n",
    "    concepts_f_set = set()\n",
    "    for internal_dic1 in parsed_json1[\"savedInsertedRelations\"]:\n",
    "        concepts_f_set.add(internal_dic1[\"prerequisite\"])\n",
    "        concepts_f_set.add(internal_dic1[\"advanced\"]) \n",
    "    print('F rel:', len(parsed_json1[\"savedInsertedRelations\"]))\n",
    "    print('F len:', len(concepts_f_set))\n",
    "    print('F dif manual:', len(concepts_f_set.difference(terminology_set)))\n",
    "    print('manual Manual dif F:', len(terminology_set.difference(concepts_f_set)))\n",
    "    \n",
    "with open('../input_data/annotazioni2/chiara.json', 'r', encoding='utf-8') as json_data2:\n",
    "    parsed_json2 = (json.loads(json_data2.read()))\n",
    "    concepts_c_set = set()\n",
    "    for internal_dic2 in parsed_json2[\"savedInsertedRelations\"]:\n",
    "        concepts_c_set.add(internal_dic2[\"prerequisite\"])\n",
    "        concepts_c_set.add(internal_dic2[\"advanced\"]) \n",
    "with open('../input_data/annotazioni2/samuele.json', 'r', encoding='utf-8') as json_data3:\n",
    "    parsed_json3 = (json.loads(json_data3.read()))\n",
    "    concepts_s_set = set()\n",
    "    for internal_dic3 in parsed_json3[\"savedInsertedRelations\"]:\n",
    "        concepts_s_set.add(internal_dic3[\"prerequisite\"])\n",
    "        concepts_s_set.add(internal_dic3[\"advanced\"])\n",
    "with open('../input_data/annotazioni2/AndreaGarrone.json', 'r', encoding='utf-8') as json_data4:\n",
    "    parsed_json4 = (json.loads(json_data4.read()))\n",
    "    concepts_a_set = set()\n",
    "    for internal_dic4 in parsed_json4[\"savedInsertedRelations\"]:\n",
    "        concepts_a_set.add(internal_dic4[\"prerequisite\"])\n",
    "        concepts_a_set.add(internal_dic4[\"advanced\"])\n",
    "with open('../input_data/annotazioni2/MarcoMochi.json', 'r', encoding='utf-8') as json_data5:\n",
    "    parsed_json5 = (json.loads(json_data5.read()))\n",
    "    concepts_m_set = set()\n",
    "    for internal_dic5 in parsed_json5[\"savedInsertedRelations\"]:\n",
    "        concepts_m_set.add(internal_dic5[\"prerequisite\"])\n",
    "        concepts_m_set.add(internal_dic5[\"advanced\"])\n",
    "with open('../input_data/annotazioni/ILENIA_2019-m11-d25-h12-m46-s35.json', 'r', encoding='utf-8') as json_data6:\n",
    "    parsed_json6 = (json.loads(json_data6.read()))\n",
    "    concepts_i_set = set()\n",
    "    for internal_dic6 in parsed_json6[\"savedInsertedRelations\"]:\n",
    "        concepts_m_set.add(internal_dic6[\"prerequisite\"])\n",
    "        concepts_m_set.add(internal_dic6[\"advanced\"])\n",
    "        "
   ]
  },
  {
   "cell_type": "code",
   "execution_count": null,
   "metadata": {},
   "outputs": [],
   "source": []
  }
 ],
 "metadata": {
  "kernelspec": {
   "display_name": "Python 3",
   "language": "python",
   "name": "python3"
  },
  "language_info": {
   "codemirror_mode": {
    "name": "ipython",
    "version": 3
   },
   "file_extension": ".py",
   "mimetype": "text/x-python",
   "name": "python",
   "nbconvert_exporter": "python",
   "pygments_lexer": "ipython3",
   "version": "3.6.8"
  }
 },
 "nbformat": 4,
 "nbformat_minor": 4
}
