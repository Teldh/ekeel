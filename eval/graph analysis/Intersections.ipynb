{
 "cells": [
  {
   "cell_type": "code",
   "execution_count": 6,
   "metadata": {},
   "outputs": [],
   "source": [
    "import pandas as pd\n",
    "import numpy as np\n",
    "from networkx.readwrite import json_graph\n",
    "import json\n",
    "import codecs\n",
    "import csv\n",
    "import ast\n",
    "from collections import defaultdict"
   ]
  },
  {
   "cell_type": "code",
   "execution_count": 7,
   "metadata": {},
   "outputs": [
    {
     "name": "stdout",
     "output_type": "stream",
     "text": [
      "# of prereq rel: 419\n",
      "F unique rel len: 410\n",
      "# of prereq rel: 301\n",
      "C unique rel len: 284\n",
      "# of prereq rel: 454\n",
      "C unique rel len: 435\n",
      "# of prereq rel: 666\n",
      "C unique rel len: 279\n",
      "# of prereq rel: 282\n",
      "C unique rel len: 275\n"
     ]
    }
   ],
   "source": [
    "# frosina.json\n",
    "# chiara.json\n",
    "# samuele.json\n",
    "# AndreaGarrone.json\n",
    "# MarcoMochi.json\n",
    "# annotazioni/ILENIA_2019-m11-d25-h12-m46-s35.json\n",
    "\n",
    "with open('../input_data/annotazioni2/frosina.json', 'r', encoding='utf-8') as json_data1:\n",
    "    parsed_json1 = (json.loads(json_data1.read()))\n",
    "    rel_set1 = set()\n",
    "    for internal_dic1 in parsed_json1[\"savedInsertedRelations\"]:\n",
    "        rel1=internal_dic1[\"prerequisite\"]+'$'+internal_dic1[\"advanced\"]\n",
    "        rel_set1.add(rel1)\n",
    "    print('# of prereq rel:', len(parsed_json1[\"savedInsertedRelations\"]))\n",
    "    print('F unique rel len:',len(rel_set1))\n",
    "    \n",
    "with open('../input_data/annotazioni2/chiara.json', 'r', encoding='utf-8') as json_data2:\n",
    "    parsed_json2 = (json.loads(json_data2.read()))\n",
    "    rel_set2 = set()\n",
    "    for internal_dic2 in parsed_json2[\"savedInsertedRelations\"]:\n",
    "        rel2=internal_dic2[\"prerequisite\"]+'$'+internal_dic2[\"advanced\"]\n",
    "        rel_set2.add(rel2)\n",
    "    print('# of prereq rel:', len(parsed_json2[\"savedInsertedRelations\"]))\n",
    "    print('C unique rel len:',len(rel_set2))\n",
    "\n",
    "with open('../input_data/annotazioni2/samuele.json', 'r', encoding='utf-8') as json_data3:\n",
    "    parsed_json3 = (json.loads(json_data3.read()))\n",
    "    rel_set3 = set()\n",
    "    for internal_dic3 in parsed_json3[\"savedInsertedRelations\"]:\n",
    "        rel3=internal_dic3[\"prerequisite\"]+'$'+internal_dic3[\"advanced\"]\n",
    "        rel_set3.add(rel3)\n",
    "    print('# of prereq rel:', len(parsed_json3[\"savedInsertedRelations\"]))\n",
    "    print('C unique rel len:',len(rel_set3))\n",
    "        \n",
    "with open('../input_data/annotazioni2/AndreaGarrone.json', 'r', encoding='utf-8') as json_data4:\n",
    "    parsed_json4 = (json.loads(json_data4.read()))\n",
    "    rel_set4 = set()\n",
    "    for internal_dic4 in parsed_json4[\"savedInsertedRelations\"]:\n",
    "        rel4=internal_dic4[\"prerequisite\"]+'$'+internal_dic4[\"advanced\"]\n",
    "        rel_set4.add(rel4)\n",
    "    print('# of prereq rel:', len(parsed_json4[\"savedInsertedRelations\"]))\n",
    "    print('C unique rel len:',len(rel_set4))\n",
    "    \n",
    "with open('../input_data/annotazioni2/MarcoMochi.json', 'r', encoding='utf-8') as json_data5:\n",
    "    parsed_json5 = (json.loads(json_data5.read()))\n",
    "    rel_set5 = set()\n",
    "    for internal_dic5 in parsed_json5[\"savedInsertedRelations\"]:\n",
    "        rel5=internal_dic5[\"prerequisite\"]+'$'+internal_dic5[\"advanced\"]\n",
    "        rel_set5.add(rel5)\n",
    "    print('# of prereq rel:', len(parsed_json5[\"savedInsertedRelations\"]))\n",
    "    print('C unique rel len:',len(rel_set5))\n",
    "    "
   ]
  },
  {
   "cell_type": "code",
   "execution_count": 28,
   "metadata": {},
   "outputs": [
    {
     "name": "stdout",
     "output_type": "stream",
     "text": [
      "Frosi & Chiara 98\n"
     ]
    }
   ],
   "source": [
    "print(\"Frosi & Chiara\",len(rel_set5.intersection(rel_set1)))"
   ]
  },
  {
   "cell_type": "code",
   "execution_count": null,
   "metadata": {},
   "outputs": [],
   "source": []
  }
 ],
 "metadata": {
  "kernelspec": {
   "display_name": "Python 3",
   "language": "python",
   "name": "python3"
  },
  "language_info": {
   "codemirror_mode": {
    "name": "ipython",
    "version": 3
   },
   "file_extension": ".py",
   "mimetype": "text/x-python",
   "name": "python",
   "nbconvert_exporter": "python",
   "pygments_lexer": "ipython3",
   "version": "3.6.8"
  }
 },
 "nbformat": 4,
 "nbformat_minor": 4
}
