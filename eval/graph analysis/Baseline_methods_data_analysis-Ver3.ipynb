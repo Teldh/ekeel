{
 "cells": [
  {
   "cell_type": "markdown",
   "metadata": {},
   "source": [
    "\n",
    "### Confronto tra output dei Baselines Methods e la Gold combinata"
   ]
  },
  {
   "cell_type": "code",
   "execution_count": 1,
   "metadata": {
    "pycharm": {
     "is_executing": false
    }
   },
   "outputs": [],
   "source": [
    "import pandas as pd\n",
    "import numpy as np\n",
    "from sklearn.metrics import precision_recall_fscore_support, precision_score"
   ]
  },
  {
   "cell_type": "markdown",
   "metadata": {},
   "source": [
    "#### Importo il csv degli output dei Baseline"
   ]
  },
  {
   "cell_type": "code",
   "execution_count": 2,
   "metadata": {
    "pycharm": {
     "is_executing": false
    }
   },
   "outputs": [
    {
     "name": "stdout",
     "output_type": "stream",
     "text": [
      "<class 'pandas.core.frame.DataFrame'>\n",
      "RangeIndex: 118680 entries, 0 to 118679\n",
      "Data columns (total 12 columns):\n",
      "lemma1    118680 non-null object\n",
      "lemma2    118680 non-null object\n",
      "bid       118680 non-null int64\n",
      "cap       118680 non-null int64\n",
      "m1        118680 non-null int64\n",
      "m2        118680 non-null int64\n",
      "m2_a      118680 non-null int64\n",
      "m3        118680 non-null float64\n",
      "m4        0 non-null float64\n",
      "m4_a      0 non-null float64\n",
      "m4_b      0 non-null float64\n",
      "m5        118680 non-null float64\n",
      "dtypes: float64(5), int64(5), object(2)\n",
      "memory usage: 10.9+ MB\n"
     ]
    }
   ],
   "source": [
    "# df = pd.read_csv(\"main_baseline__methods_ver2.csv\", sep=\";\")\n",
    "df = pd.read_csv(\"main_baseline__methods_v3.csv\", sep=\";\")\n",
    "df.info()"
   ]
  },
  {
   "cell_type": "code",
   "execution_count": 3,
   "metadata": {
    "pycharm": {
     "is_executing": false
    }
   },
   "outputs": [
    {
     "data": {
      "text/html": [
       "<div>\n",
       "<style scoped>\n",
       "    .dataframe tbody tr th:only-of-type {\n",
       "        vertical-align: middle;\n",
       "    }\n",
       "\n",
       "    .dataframe tbody tr th {\n",
       "        vertical-align: top;\n",
       "    }\n",
       "\n",
       "    .dataframe thead th {\n",
       "        text-align: right;\n",
       "    }\n",
       "</style>\n",
       "<table border=\"1\" class=\"dataframe\">\n",
       "  <thead>\n",
       "    <tr style=\"text-align: right;\">\n",
       "      <th></th>\n",
       "      <th>lemma1</th>\n",
       "      <th>lemma2</th>\n",
       "      <th>bid</th>\n",
       "      <th>cap</th>\n",
       "      <th>m1</th>\n",
       "      <th>m2</th>\n",
       "      <th>m2_a</th>\n",
       "      <th>m3</th>\n",
       "      <th>m4</th>\n",
       "      <th>m4_a</th>\n",
       "      <th>m4_b</th>\n",
       "      <th>m5</th>\n",
       "    </tr>\n",
       "  </thead>\n",
       "  <tbody>\n",
       "    <tr>\n",
       "      <th>0</th>\n",
       "      <td>malicious software</td>\n",
       "      <td>grid compute</td>\n",
       "      <td>1</td>\n",
       "      <td>4</td>\n",
       "      <td>0</td>\n",
       "      <td>0</td>\n",
       "      <td>0</td>\n",
       "      <td>0.005479</td>\n",
       "      <td>NaN</td>\n",
       "      <td>NaN</td>\n",
       "      <td>NaN</td>\n",
       "      <td>3.000000</td>\n",
       "    </tr>\n",
       "    <tr>\n",
       "      <th>1</th>\n",
       "      <td>malicious software</td>\n",
       "      <td>forwarding table</td>\n",
       "      <td>1</td>\n",
       "      <td>4</td>\n",
       "      <td>0</td>\n",
       "      <td>0</td>\n",
       "      <td>0</td>\n",
       "      <td>0.029773</td>\n",
       "      <td>NaN</td>\n",
       "      <td>NaN</td>\n",
       "      <td>NaN</td>\n",
       "      <td>0.800000</td>\n",
       "    </tr>\n",
       "    <tr>\n",
       "      <th>2</th>\n",
       "      <td>malicious software</td>\n",
       "      <td>transmission control protocol/internet protoco...</td>\n",
       "      <td>1</td>\n",
       "      <td>4</td>\n",
       "      <td>0</td>\n",
       "      <td>0</td>\n",
       "      <td>0</td>\n",
       "      <td>0.007305</td>\n",
       "      <td>NaN</td>\n",
       "      <td>NaN</td>\n",
       "      <td>NaN</td>\n",
       "      <td>0.000000</td>\n",
       "    </tr>\n",
       "    <tr>\n",
       "      <th>3</th>\n",
       "      <td>malicious software</td>\n",
       "      <td>phone technology</td>\n",
       "      <td>1</td>\n",
       "      <td>4</td>\n",
       "      <td>0</td>\n",
       "      <td>0</td>\n",
       "      <td>0</td>\n",
       "      <td>-0.024576</td>\n",
       "      <td>NaN</td>\n",
       "      <td>NaN</td>\n",
       "      <td>NaN</td>\n",
       "      <td>2.500000</td>\n",
       "    </tr>\n",
       "    <tr>\n",
       "      <th>4</th>\n",
       "      <td>malicious software</td>\n",
       "      <td>hop count</td>\n",
       "      <td>1</td>\n",
       "      <td>4</td>\n",
       "      <td>0</td>\n",
       "      <td>0</td>\n",
       "      <td>0</td>\n",
       "      <td>-0.040389</td>\n",
       "      <td>NaN</td>\n",
       "      <td>NaN</td>\n",
       "      <td>NaN</td>\n",
       "      <td>-0.666667</td>\n",
       "    </tr>\n",
       "  </tbody>\n",
       "</table>\n",
       "</div>"
      ],
      "text/plain": [
       "               lemma1                                             lemma2  bid  \\\n",
       "0  malicious software                                       grid compute    1   \n",
       "1  malicious software                                   forwarding table    1   \n",
       "2  malicious software  transmission control protocol/internet protoco...    1   \n",
       "3  malicious software                                   phone technology    1   \n",
       "4  malicious software                                          hop count    1   \n",
       "\n",
       "   cap  m1  m2  m2_a        m3  m4  m4_a  m4_b        m5  \n",
       "0    4   0   0     0  0.005479 NaN   NaN   NaN  3.000000  \n",
       "1    4   0   0     0  0.029773 NaN   NaN   NaN  0.800000  \n",
       "2    4   0   0     0  0.007305 NaN   NaN   NaN  0.000000  \n",
       "3    4   0   0     0 -0.024576 NaN   NaN   NaN  2.500000  \n",
       "4    4   0   0     0 -0.040389 NaN   NaN   NaN -0.666667  "
      ]
     },
     "execution_count": 3,
     "metadata": {},
     "output_type": "execute_result"
    }
   ],
   "source": [
    "df.head()"
   ]
  },
  {
   "cell_type": "markdown",
   "metadata": {},
   "source": [
    "#### Trasformo la colonna m3 da object a float"
   ]
  },
  {
   "cell_type": "code",
   "execution_count": 88,
   "metadata": {
    "pycharm": {
     "is_executing": false
    }
   },
   "outputs": [],
   "source": [
    "# df['m3'] = df['m3'].str.replace(',',\".\").astype(float)"
   ]
  },
  {
   "cell_type": "code",
   "execution_count": 89,
   "metadata": {
    "pycharm": {
     "is_executing": false
    }
   },
   "outputs": [],
   "source": [
    "# df['m5'] = df['m5'].str.replace(',',\".\").astype(float)"
   ]
  },
  {
   "cell_type": "code",
   "execution_count": 90,
   "metadata": {
    "pycharm": {
     "is_executing": false
    }
   },
   "outputs": [
    {
     "name": "stdout",
     "output_type": "stream",
     "text": [
      "<class 'pandas.core.frame.DataFrame'>\n",
      "RangeIndex: 118680 entries, 0 to 118679\n",
      "Data columns (total 12 columns):\n",
      "lemma1    118680 non-null object\n",
      "lemma2    118680 non-null object\n",
      "bid       118680 non-null int64\n",
      "cap       118680 non-null int64\n",
      "m1        118680 non-null int64\n",
      "m2        118680 non-null int64\n",
      "m2_a      118680 non-null int64\n",
      "m3        118680 non-null float64\n",
      "m4        0 non-null float64\n",
      "m4_a      0 non-null float64\n",
      "m4_b      0 non-null float64\n",
      "m5        118680 non-null float64\n",
      "dtypes: float64(5), int64(5), object(2)\n",
      "memory usage: 10.9+ MB\n"
     ]
    }
   ],
   "source": [
    "df.info()"
   ]
  },
  {
   "cell_type": "markdown",
   "metadata": {},
   "source": [
    "#### Creo una colonna nuova \"comb\" che è la combinazione del lemma2+lemma1"
   ]
  },
  {
   "cell_type": "code",
   "execution_count": 91,
   "metadata": {
    "pycharm": {
     "is_executing": false
    }
   },
   "outputs": [],
   "source": [
    "# df[\"new\"] = df[\"lemma1\"] +\",\"+ df[\"lemma2\"]\n",
    "df[\"comb\"] = df[\"lemma2\"] +\"$\"+ df[\"lemma1\"]"
   ]
  },
  {
   "cell_type": "code",
   "execution_count": 92,
   "metadata": {
    "pycharm": {
     "is_executing": false
    }
   },
   "outputs": [
    {
     "data": {
      "text/html": [
       "<div>\n",
       "<style scoped>\n",
       "    .dataframe tbody tr th:only-of-type {\n",
       "        vertical-align: middle;\n",
       "    }\n",
       "\n",
       "    .dataframe tbody tr th {\n",
       "        vertical-align: top;\n",
       "    }\n",
       "\n",
       "    .dataframe thead th {\n",
       "        text-align: right;\n",
       "    }\n",
       "</style>\n",
       "<table border=\"1\" class=\"dataframe\">\n",
       "  <thead>\n",
       "    <tr style=\"text-align: right;\">\n",
       "      <th></th>\n",
       "      <th>lemma1</th>\n",
       "      <th>lemma2</th>\n",
       "      <th>bid</th>\n",
       "      <th>cap</th>\n",
       "      <th>m1</th>\n",
       "      <th>m2</th>\n",
       "      <th>m2_a</th>\n",
       "      <th>m3</th>\n",
       "      <th>m4</th>\n",
       "      <th>m4_a</th>\n",
       "      <th>m4_b</th>\n",
       "      <th>m5</th>\n",
       "      <th>comb</th>\n",
       "    </tr>\n",
       "  </thead>\n",
       "  <tbody>\n",
       "    <tr>\n",
       "      <th>0</th>\n",
       "      <td>malicious software</td>\n",
       "      <td>grid compute</td>\n",
       "      <td>1</td>\n",
       "      <td>4</td>\n",
       "      <td>0</td>\n",
       "      <td>0</td>\n",
       "      <td>0</td>\n",
       "      <td>0.005479</td>\n",
       "      <td>NaN</td>\n",
       "      <td>NaN</td>\n",
       "      <td>NaN</td>\n",
       "      <td>3.000000</td>\n",
       "      <td>grid compute$malicious software</td>\n",
       "    </tr>\n",
       "    <tr>\n",
       "      <th>1</th>\n",
       "      <td>malicious software</td>\n",
       "      <td>forwarding table</td>\n",
       "      <td>1</td>\n",
       "      <td>4</td>\n",
       "      <td>0</td>\n",
       "      <td>0</td>\n",
       "      <td>0</td>\n",
       "      <td>0.029773</td>\n",
       "      <td>NaN</td>\n",
       "      <td>NaN</td>\n",
       "      <td>NaN</td>\n",
       "      <td>0.800000</td>\n",
       "      <td>forwarding table$malicious software</td>\n",
       "    </tr>\n",
       "    <tr>\n",
       "      <th>2</th>\n",
       "      <td>malicious software</td>\n",
       "      <td>transmission control protocol/internet protoco...</td>\n",
       "      <td>1</td>\n",
       "      <td>4</td>\n",
       "      <td>0</td>\n",
       "      <td>0</td>\n",
       "      <td>0</td>\n",
       "      <td>0.007305</td>\n",
       "      <td>NaN</td>\n",
       "      <td>NaN</td>\n",
       "      <td>NaN</td>\n",
       "      <td>0.000000</td>\n",
       "      <td>transmission control protocol/internet protoco...</td>\n",
       "    </tr>\n",
       "    <tr>\n",
       "      <th>3</th>\n",
       "      <td>malicious software</td>\n",
       "      <td>phone technology</td>\n",
       "      <td>1</td>\n",
       "      <td>4</td>\n",
       "      <td>0</td>\n",
       "      <td>0</td>\n",
       "      <td>0</td>\n",
       "      <td>-0.024576</td>\n",
       "      <td>NaN</td>\n",
       "      <td>NaN</td>\n",
       "      <td>NaN</td>\n",
       "      <td>2.500000</td>\n",
       "      <td>phone technology$malicious software</td>\n",
       "    </tr>\n",
       "    <tr>\n",
       "      <th>4</th>\n",
       "      <td>malicious software</td>\n",
       "      <td>hop count</td>\n",
       "      <td>1</td>\n",
       "      <td>4</td>\n",
       "      <td>0</td>\n",
       "      <td>0</td>\n",
       "      <td>0</td>\n",
       "      <td>-0.040389</td>\n",
       "      <td>NaN</td>\n",
       "      <td>NaN</td>\n",
       "      <td>NaN</td>\n",
       "      <td>-0.666667</td>\n",
       "      <td>hop count$malicious software</td>\n",
       "    </tr>\n",
       "    <tr>\n",
       "      <th>5</th>\n",
       "      <td>malicious software</td>\n",
       "      <td>internet protocol version four</td>\n",
       "      <td>1</td>\n",
       "      <td>4</td>\n",
       "      <td>0</td>\n",
       "      <td>0</td>\n",
       "      <td>0</td>\n",
       "      <td>-0.061239</td>\n",
       "      <td>NaN</td>\n",
       "      <td>NaN</td>\n",
       "      <td>NaN</td>\n",
       "      <td>1.750000</td>\n",
       "      <td>internet protocol version four$malicious software</td>\n",
       "    </tr>\n",
       "    <tr>\n",
       "      <th>6</th>\n",
       "      <td>malicious software</td>\n",
       "      <td>anticybersquatting consumer protection act</td>\n",
       "      <td>1</td>\n",
       "      <td>4</td>\n",
       "      <td>0</td>\n",
       "      <td>0</td>\n",
       "      <td>0</td>\n",
       "      <td>0.000000</td>\n",
       "      <td>NaN</td>\n",
       "      <td>NaN</td>\n",
       "      <td>NaN</td>\n",
       "      <td>-2.000000</td>\n",
       "      <td>anticybersquatting consumer protection act$mal...</td>\n",
       "    </tr>\n",
       "    <tr>\n",
       "      <th>7</th>\n",
       "      <td>malicious software</td>\n",
       "      <td>connectionless protocol</td>\n",
       "      <td>1</td>\n",
       "      <td>4</td>\n",
       "      <td>0</td>\n",
       "      <td>0</td>\n",
       "      <td>0</td>\n",
       "      <td>-0.043624</td>\n",
       "      <td>NaN</td>\n",
       "      <td>NaN</td>\n",
       "      <td>NaN</td>\n",
       "      <td>0.000000</td>\n",
       "      <td>connectionless protocol$malicious software</td>\n",
       "    </tr>\n",
       "    <tr>\n",
       "      <th>8</th>\n",
       "      <td>malicious software</td>\n",
       "      <td>port number</td>\n",
       "      <td>1</td>\n",
       "      <td>4</td>\n",
       "      <td>0</td>\n",
       "      <td>0</td>\n",
       "      <td>0</td>\n",
       "      <td>0.028619</td>\n",
       "      <td>NaN</td>\n",
       "      <td>NaN</td>\n",
       "      <td>NaN</td>\n",
       "      <td>0.400000</td>\n",
       "      <td>port number$malicious software</td>\n",
       "    </tr>\n",
       "    <tr>\n",
       "      <th>9</th>\n",
       "      <td>malicious software</td>\n",
       "      <td>encoded information</td>\n",
       "      <td>1</td>\n",
       "      <td>4</td>\n",
       "      <td>0</td>\n",
       "      <td>0</td>\n",
       "      <td>0</td>\n",
       "      <td>0.030150</td>\n",
       "      <td>NaN</td>\n",
       "      <td>NaN</td>\n",
       "      <td>NaN</td>\n",
       "      <td>2.000000</td>\n",
       "      <td>encoded information$malicious software</td>\n",
       "    </tr>\n",
       "  </tbody>\n",
       "</table>\n",
       "</div>"
      ],
      "text/plain": [
       "               lemma1                                             lemma2  bid  \\\n",
       "0  malicious software                                       grid compute    1   \n",
       "1  malicious software                                   forwarding table    1   \n",
       "2  malicious software  transmission control protocol/internet protoco...    1   \n",
       "3  malicious software                                   phone technology    1   \n",
       "4  malicious software                                          hop count    1   \n",
       "5  malicious software                     internet protocol version four    1   \n",
       "6  malicious software         anticybersquatting consumer protection act    1   \n",
       "7  malicious software                            connectionless protocol    1   \n",
       "8  malicious software                                        port number    1   \n",
       "9  malicious software                                encoded information    1   \n",
       "\n",
       "   cap  m1  m2  m2_a        m3  m4  m4_a  m4_b        m5  \\\n",
       "0    4   0   0     0  0.005479 NaN   NaN   NaN  3.000000   \n",
       "1    4   0   0     0  0.029773 NaN   NaN   NaN  0.800000   \n",
       "2    4   0   0     0  0.007305 NaN   NaN   NaN  0.000000   \n",
       "3    4   0   0     0 -0.024576 NaN   NaN   NaN  2.500000   \n",
       "4    4   0   0     0 -0.040389 NaN   NaN   NaN -0.666667   \n",
       "5    4   0   0     0 -0.061239 NaN   NaN   NaN  1.750000   \n",
       "6    4   0   0     0  0.000000 NaN   NaN   NaN -2.000000   \n",
       "7    4   0   0     0 -0.043624 NaN   NaN   NaN  0.000000   \n",
       "8    4   0   0     0  0.028619 NaN   NaN   NaN  0.400000   \n",
       "9    4   0   0     0  0.030150 NaN   NaN   NaN  2.000000   \n",
       "\n",
       "                                                comb  \n",
       "0                    grid compute$malicious software  \n",
       "1                forwarding table$malicious software  \n",
       "2  transmission control protocol/internet protoco...  \n",
       "3                phone technology$malicious software  \n",
       "4                       hop count$malicious software  \n",
       "5  internet protocol version four$malicious software  \n",
       "6  anticybersquatting consumer protection act$mal...  \n",
       "7         connectionless protocol$malicious software  \n",
       "8                     port number$malicious software  \n",
       "9             encoded information$malicious software  "
      ]
     },
     "execution_count": 92,
     "metadata": {},
     "output_type": "execute_result"
    }
   ],
   "source": [
    "df.head(10)"
   ]
  },
  {
   "cell_type": "markdown",
   "metadata": {},
   "source": [
    "#### Importo il csv della Gold combinata"
   ]
  },
  {
   "cell_type": "code",
   "execution_count": 93,
   "metadata": {
    "pycharm": {
     "is_executing": false
    }
   },
   "outputs": [],
   "source": [
    "df2 = pd.read_csv(\"gold_combinata.csv\", sep=\";\", error_bad_lines=False)"
   ]
  },
  {
   "cell_type": "markdown",
   "metadata": {},
   "source": [
    "#### Creo una colonna nuova \"comb\" che è la combinazione del lemma di prerequisito + lemma advanced (per creare coppie lemmi come nella colonna \"new\" da confrontare)"
   ]
  },
  {
   "cell_type": "code",
   "execution_count": 94,
   "metadata": {
    "pycharm": {
     "is_executing": false
    }
   },
   "outputs": [],
   "source": [
    "df2[\"comb\"] = df2[\"prerequisite\"] +\"$\"+ df2[\"advanced\"]"
   ]
  },
  {
   "cell_type": "markdown",
   "metadata": {},
   "source": [
    "#### Rendo la colonna \"comb\" in lower case e la ripulisco"
   ]
  },
  {
   "cell_type": "code",
   "execution_count": 95,
   "metadata": {
    "pycharm": {
     "is_executing": false
    }
   },
   "outputs": [
    {
     "data": {
      "text/plain": [
       "0                           computer$computer system\n",
       "1                                   computer$network\n",
       "2                            computer system$network\n",
       "3                           network$network software\n",
       "4                          software$network software\n",
       "5                      network$personal area network\n",
       "6                         network$local area network\n",
       "7                  network$metropolitan area network\n",
       "8                          network$wide area network\n",
       "9                     computer$personal area network\n",
       "10                       computer$local area network\n",
       "11                computer$metropolitan area network\n",
       "12                        computer$wide area network\n",
       "13                         machine$wide area network\n",
       "14                              network$open network\n",
       "15                                  network$internet\n",
       "16                             open network$internet\n",
       "17                              open system$internet\n",
       "18                                       network$bus\n",
       "19                                      network$star\n",
       "20                                      computer$bus\n",
       "21                                       machine$bus\n",
       "22                                     computer$star\n",
       "23                                      machine$star\n",
       "24                      bus network$ethernet network\n",
       "25                              bus$ethernet network\n",
       "26                              machine$access point\n",
       "27                                 access point$star\n",
       "28                                   bus$bus network\n",
       "29                                 star$star network\n",
       "                            ...                     \n",
       "1022                                     browser$tag\n",
       "1023    hypertext$hypertext transfer protocol server\n",
       "1024     protocol$hypertext transfer protocol server\n",
       "1025               system$extensible markup language\n",
       "1026            text file$extensible markup language\n",
       "1027                               webpage$webserver\n",
       "1028                              server$server side\n",
       "1029                server side$server-side activity\n",
       "1030                                   hypertext$php\n",
       "1031                                      system$php\n",
       "1032                              client$client side\n",
       "1033                                server$webserver\n",
       "1034                         layer$application layer\n",
       "1035                           layer$transport layer\n",
       "1036                           network$network layer\n",
       "1037                             layer$network layer\n",
       "1038                                layer$link layer\n",
       "1039        protocol$internet protocol network layer\n",
       "1040        internet$internet protocol network layer\n",
       "1041         network$internet protocol network layer\n",
       "1042           layer$internet protocol network layer\n",
       "1043                          system$computer system\n",
       "1044                     computer$malicious software\n",
       "1045                       process$denial of service\n",
       "1046               computer$denial of service attack\n",
       "1047                        system$auditing software\n",
       "1048                    system$public-key encryption\n",
       "1049             system$public-key encryption system\n",
       "1050                  internet$certificate authority\n",
       "1051                public-key$public-key encryption\n",
       "Name: comb, Length: 1052, dtype: object"
      ]
     },
     "execution_count": 95,
     "metadata": {},
     "output_type": "execute_result"
    }
   ],
   "source": [
    "df2['comb']= df2['comb'].str.lower().str.replace('s/+',\"\")\n",
    "#df2.head(10000)\n",
    "#df['new']\n",
    "df2['comb']"
   ]
  },
  {
   "cell_type": "markdown",
   "metadata": {},
   "source": [
    "#### Utilizzo \"isin\" per confrontare i valori della colonna \"comb\" con quelli della gold =>"
   ]
  },
  {
   "cell_type": "code",
   "execution_count": 96,
   "metadata": {
    "pycharm": {
     "is_executing": false
    }
   },
   "outputs": [
    {
     "data": {
      "text/plain": [
       "False    117661\n",
       "True       1019\n",
       "Name: comb, dtype: int64"
      ]
     },
     "execution_count": 96,
     "metadata": {},
     "output_type": "execute_result"
    }
   ],
   "source": [
    "# if (df['comb'].isin(df2['comb']).value_counts() #Il numero totale di coppie combacianti resta invariato perchè nel file dei baseline methods abbiamo per ogni coppia anche il suo inverso.\n",
    "condivisi=df['comb'].isin(df2['comb'])\n",
    "condivisi.value_counts()\n",
    "#pd.merge(df, df2,how='inner', on='comb')"
   ]
  },
  {
   "cell_type": "code",
   "execution_count": 97,
   "metadata": {
    "pycharm": {
     "is_executing": false
    }
   },
   "outputs": [],
   "source": [
    "import matplotlib.pyplot as plt"
   ]
  },
  {
   "cell_type": "code",
   "execution_count": 98,
   "metadata": {
    "pycharm": {
     "is_executing": false
    }
   },
   "outputs": [],
   "source": [
    "objects = ('False', 'True')\n",
    "y_pos = np.arange(len(objects))\n",
    "# performance = [119044,1018]\n",
    "performance = [117661,1019]"
   ]
  },
  {
   "cell_type": "code",
   "execution_count": 99,
   "metadata": {
    "pycharm": {
     "is_executing": false
    }
   },
   "outputs": [
    {
     "data": {
      "text/plain": [
       "Text(0.5, 1.0, 'Confronto Baselines Methods con Gold')"
      ]
     },
     "execution_count": 99,
     "metadata": {},
     "output_type": "execute_result"
    },
    {
     "data": {
      "image/png": "[encoded data removed]",
      "text/plain": [
       "<Figure size 432x288 with 1 Axes>"
      ]
     },
     "metadata": {
      "needs_background": "light"
     },
     "output_type": "display_data"
    }
   ],
   "source": [
    "plt.barh(y_pos, performance, align='center', alpha=0.5)\n",
    "plt.yticks(y_pos, objects)\n",
    "plt.xlabel('Value Count')\n",
    "plt.title('Confronto Baselines Methods con Gold')"
   ]
  },
  {
   "cell_type": "markdown",
   "metadata": {},
   "source": [
    "### Subsets "
   ]
  },
  {
   "cell_type": "markdown",
   "metadata": {},
   "source": [
    "#### Subset 1: coppie di termini con valore 1 per il metodo m1 (Iponimi/Meronimi)"
   ]
  },
  {
   "cell_type": "code",
   "execution_count": 100,
   "metadata": {
    "pycharm": {
     "is_executing": false
    }
   },
   "outputs": [
    {
     "data": {
      "text/html": [
       "<div>\n",
       "<style scoped>\n",
       "    .dataframe tbody tr th:only-of-type {\n",
       "        vertical-align: middle;\n",
       "    }\n",
       "\n",
       "    .dataframe tbody tr th {\n",
       "        vertical-align: top;\n",
       "    }\n",
       "\n",
       "    .dataframe thead th {\n",
       "        text-align: right;\n",
       "    }\n",
       "</style>\n",
       "<table border=\"1\" class=\"dataframe\">\n",
       "  <thead>\n",
       "    <tr style=\"text-align: right;\">\n",
       "      <th></th>\n",
       "      <th>lemma1</th>\n",
       "      <th>lemma2</th>\n",
       "      <th>bid</th>\n",
       "      <th>cap</th>\n",
       "      <th>m1</th>\n",
       "      <th>m2</th>\n",
       "      <th>m2_a</th>\n",
       "      <th>m3</th>\n",
       "      <th>m4</th>\n",
       "      <th>m4_a</th>\n",
       "      <th>m4_b</th>\n",
       "      <th>m5</th>\n",
       "      <th>comb</th>\n",
       "    </tr>\n",
       "  </thead>\n",
       "  <tbody>\n",
       "    <tr>\n",
       "      <th>6849</th>\n",
       "      <td>swarm</td>\n",
       "      <td>cloud</td>\n",
       "      <td>1</td>\n",
       "      <td>4</td>\n",
       "      <td>1</td>\n",
       "      <td>1</td>\n",
       "      <td>0</td>\n",
       "      <td>0.000000</td>\n",
       "      <td>NaN</td>\n",
       "      <td>NaN</td>\n",
       "      <td>NaN</td>\n",
       "      <td>0.000000</td>\n",
       "      <td>cloud$swarm</td>\n",
       "    </tr>\n",
       "    <tr>\n",
       "      <th>8619</th>\n",
       "      <td>streaming</td>\n",
       "      <td>swarm</td>\n",
       "      <td>1</td>\n",
       "      <td>4</td>\n",
       "      <td>1</td>\n",
       "      <td>1</td>\n",
       "      <td>0</td>\n",
       "      <td>-0.070879</td>\n",
       "      <td>NaN</td>\n",
       "      <td>NaN</td>\n",
       "      <td>NaN</td>\n",
       "      <td>1.000000</td>\n",
       "      <td>swarm$streaming</td>\n",
       "    </tr>\n",
       "    <tr>\n",
       "      <th>8699</th>\n",
       "      <td>streaming</td>\n",
       "      <td>process</td>\n",
       "      <td>1</td>\n",
       "      <td>4</td>\n",
       "      <td>1</td>\n",
       "      <td>1</td>\n",
       "      <td>0</td>\n",
       "      <td>-0.087676</td>\n",
       "      <td>NaN</td>\n",
       "      <td>NaN</td>\n",
       "      <td>NaN</td>\n",
       "      <td>1.000000</td>\n",
       "      <td>process$streaming</td>\n",
       "    </tr>\n",
       "    <tr>\n",
       "      <th>9471</th>\n",
       "      <td>anchor</td>\n",
       "      <td>device</td>\n",
       "      <td>1</td>\n",
       "      <td>4</td>\n",
       "      <td>1</td>\n",
       "      <td>1</td>\n",
       "      <td>0</td>\n",
       "      <td>0.000000</td>\n",
       "      <td>NaN</td>\n",
       "      <td>NaN</td>\n",
       "      <td>NaN</td>\n",
       "      <td>1.500000</td>\n",
       "      <td>device$anchor</td>\n",
       "    </tr>\n",
       "    <tr>\n",
       "      <th>9709</th>\n",
       "      <td>host</td>\n",
       "      <td>computer</td>\n",
       "      <td>1</td>\n",
       "      <td>4</td>\n",
       "      <td>1</td>\n",
       "      <td>1</td>\n",
       "      <td>0</td>\n",
       "      <td>0.000000</td>\n",
       "      <td>NaN</td>\n",
       "      <td>NaN</td>\n",
       "      <td>NaN</td>\n",
       "      <td>2.200000</td>\n",
       "      <td>computer$host</td>\n",
       "    </tr>\n",
       "    <tr>\n",
       "      <th>9751</th>\n",
       "      <td>host</td>\n",
       "      <td>machine</td>\n",
       "      <td>1</td>\n",
       "      <td>4</td>\n",
       "      <td>1</td>\n",
       "      <td>1</td>\n",
       "      <td>0</td>\n",
       "      <td>-0.130567</td>\n",
       "      <td>NaN</td>\n",
       "      <td>NaN</td>\n",
       "      <td>NaN</td>\n",
       "      <td>2.200000</td>\n",
       "      <td>machine$host</td>\n",
       "    </tr>\n",
       "    <tr>\n",
       "      <th>9797</th>\n",
       "      <td>host</td>\n",
       "      <td>server</td>\n",
       "      <td>1</td>\n",
       "      <td>4</td>\n",
       "      <td>1</td>\n",
       "      <td>1</td>\n",
       "      <td>0</td>\n",
       "      <td>0.000000</td>\n",
       "      <td>NaN</td>\n",
       "      <td>NaN</td>\n",
       "      <td>NaN</td>\n",
       "      <td>2.200000</td>\n",
       "      <td>server$host</td>\n",
       "    </tr>\n",
       "    <tr>\n",
       "      <th>9815</th>\n",
       "      <td>host</td>\n",
       "      <td>device</td>\n",
       "      <td>1</td>\n",
       "      <td>4</td>\n",
       "      <td>1</td>\n",
       "      <td>1</td>\n",
       "      <td>0</td>\n",
       "      <td>0.000000</td>\n",
       "      <td>NaN</td>\n",
       "      <td>NaN</td>\n",
       "      <td>NaN</td>\n",
       "      <td>2.666667</td>\n",
       "      <td>device$host</td>\n",
       "    </tr>\n",
       "    <tr>\n",
       "      <th>9866</th>\n",
       "      <td>host</td>\n",
       "      <td>service</td>\n",
       "      <td>1</td>\n",
       "      <td>4</td>\n",
       "      <td>1</td>\n",
       "      <td>1</td>\n",
       "      <td>0</td>\n",
       "      <td>-0.075900</td>\n",
       "      <td>NaN</td>\n",
       "      <td>NaN</td>\n",
       "      <td>NaN</td>\n",
       "      <td>2.200000</td>\n",
       "      <td>service$host</td>\n",
       "    </tr>\n",
       "    <tr>\n",
       "      <th>10159</th>\n",
       "      <td>repeater</td>\n",
       "      <td>device</td>\n",
       "      <td>1</td>\n",
       "      <td>4</td>\n",
       "      <td>1</td>\n",
       "      <td>1</td>\n",
       "      <td>0</td>\n",
       "      <td>0.011458</td>\n",
       "      <td>NaN</td>\n",
       "      <td>NaN</td>\n",
       "      <td>NaN</td>\n",
       "      <td>0.000000</td>\n",
       "      <td>device$repeater</td>\n",
       "    </tr>\n",
       "    <tr>\n",
       "      <th>12802</th>\n",
       "      <td>browser</td>\n",
       "      <td>software</td>\n",
       "      <td>1</td>\n",
       "      <td>4</td>\n",
       "      <td>1</td>\n",
       "      <td>1</td>\n",
       "      <td>0</td>\n",
       "      <td>0.048697</td>\n",
       "      <td>NaN</td>\n",
       "      <td>NaN</td>\n",
       "      <td>NaN</td>\n",
       "      <td>2.000000</td>\n",
       "      <td>software$browser</td>\n",
       "    </tr>\n",
       "    <tr>\n",
       "      <th>12880</th>\n",
       "      <td>browser</td>\n",
       "      <td>application</td>\n",
       "      <td>1</td>\n",
       "      <td>4</td>\n",
       "      <td>1</td>\n",
       "      <td>1</td>\n",
       "      <td>0</td>\n",
       "      <td>0.000000</td>\n",
       "      <td>NaN</td>\n",
       "      <td>NaN</td>\n",
       "      <td>NaN</td>\n",
       "      <td>2.000000</td>\n",
       "      <td>application$browser</td>\n",
       "    </tr>\n",
       "    <tr>\n",
       "      <th>12904</th>\n",
       "      <td>browser</td>\n",
       "      <td>program</td>\n",
       "      <td>1</td>\n",
       "      <td>4</td>\n",
       "      <td>1</td>\n",
       "      <td>1</td>\n",
       "      <td>0</td>\n",
       "      <td>0.000000</td>\n",
       "      <td>NaN</td>\n",
       "      <td>NaN</td>\n",
       "      <td>NaN</td>\n",
       "      <td>1.800000</td>\n",
       "      <td>program$browser</td>\n",
       "    </tr>\n",
       "    <tr>\n",
       "      <th>13191</th>\n",
       "      <td>router</td>\n",
       "      <td>machine</td>\n",
       "      <td>1</td>\n",
       "      <td>4</td>\n",
       "      <td>1</td>\n",
       "      <td>1</td>\n",
       "      <td>0</td>\n",
       "      <td>0.046325</td>\n",
       "      <td>NaN</td>\n",
       "      <td>NaN</td>\n",
       "      <td>NaN</td>\n",
       "      <td>1.750000</td>\n",
       "      <td>machine$router</td>\n",
       "    </tr>\n",
       "    <tr>\n",
       "      <th>13255</th>\n",
       "      <td>router</td>\n",
       "      <td>device</td>\n",
       "      <td>1</td>\n",
       "      <td>4</td>\n",
       "      <td>1</td>\n",
       "      <td>1</td>\n",
       "      <td>0</td>\n",
       "      <td>0.060344</td>\n",
       "      <td>NaN</td>\n",
       "      <td>NaN</td>\n",
       "      <td>NaN</td>\n",
       "      <td>2.000000</td>\n",
       "      <td>device$router</td>\n",
       "    </tr>\n",
       "    <tr>\n",
       "      <th>15796</th>\n",
       "      <td>administrator</td>\n",
       "      <td>head</td>\n",
       "      <td>1</td>\n",
       "      <td>4</td>\n",
       "      <td>1</td>\n",
       "      <td>1</td>\n",
       "      <td>0</td>\n",
       "      <td>0.000000</td>\n",
       "      <td>NaN</td>\n",
       "      <td>NaN</td>\n",
       "      <td>NaN</td>\n",
       "      <td>3.000000</td>\n",
       "      <td>head$administrator</td>\n",
       "    </tr>\n",
       "    <tr>\n",
       "      <th>16577</th>\n",
       "      <td>bus</td>\n",
       "      <td>system</td>\n",
       "      <td>1</td>\n",
       "      <td>4</td>\n",
       "      <td>1</td>\n",
       "      <td>1</td>\n",
       "      <td>0</td>\n",
       "      <td>0.000000</td>\n",
       "      <td>NaN</td>\n",
       "      <td>NaN</td>\n",
       "      <td>NaN</td>\n",
       "      <td>2.125000</td>\n",
       "      <td>system$bus</td>\n",
       "    </tr>\n",
       "    <tr>\n",
       "      <th>16631</th>\n",
       "      <td>bus</td>\n",
       "      <td>machine</td>\n",
       "      <td>1</td>\n",
       "      <td>4</td>\n",
       "      <td>1</td>\n",
       "      <td>1</td>\n",
       "      <td>0</td>\n",
       "      <td>0.080073</td>\n",
       "      <td>NaN</td>\n",
       "      <td>NaN</td>\n",
       "      <td>NaN</td>\n",
       "      <td>2.125000</td>\n",
       "      <td>machine$bus</td>\n",
       "    </tr>\n",
       "    <tr>\n",
       "      <th>16695</th>\n",
       "      <td>bus</td>\n",
       "      <td>device</td>\n",
       "      <td>1</td>\n",
       "      <td>4</td>\n",
       "      <td>1</td>\n",
       "      <td>1</td>\n",
       "      <td>0</td>\n",
       "      <td>0.173950</td>\n",
       "      <td>NaN</td>\n",
       "      <td>NaN</td>\n",
       "      <td>NaN</td>\n",
       "      <td>2.600000</td>\n",
       "      <td>device$bus</td>\n",
       "    </tr>\n",
       "    <tr>\n",
       "      <th>20373</th>\n",
       "      <td>supercomputer</td>\n",
       "      <td>computer</td>\n",
       "      <td>1</td>\n",
       "      <td>4</td>\n",
       "      <td>1</td>\n",
       "      <td>1</td>\n",
       "      <td>0</td>\n",
       "      <td>-0.371523</td>\n",
       "      <td>NaN</td>\n",
       "      <td>NaN</td>\n",
       "      <td>NaN</td>\n",
       "      <td>0.000000</td>\n",
       "      <td>computer$supercomputer</td>\n",
       "    </tr>\n",
       "    <tr>\n",
       "      <th>20415</th>\n",
       "      <td>supercomputer</td>\n",
       "      <td>machine</td>\n",
       "      <td>1</td>\n",
       "      <td>4</td>\n",
       "      <td>1</td>\n",
       "      <td>1</td>\n",
       "      <td>0</td>\n",
       "      <td>0.000000</td>\n",
       "      <td>NaN</td>\n",
       "      <td>NaN</td>\n",
       "      <td>NaN</td>\n",
       "      <td>0.000000</td>\n",
       "      <td>machine$supercomputer</td>\n",
       "    </tr>\n",
       "    <tr>\n",
       "      <th>20479</th>\n",
       "      <td>supercomputer</td>\n",
       "      <td>device</td>\n",
       "      <td>1</td>\n",
       "      <td>4</td>\n",
       "      <td>1</td>\n",
       "      <td>1</td>\n",
       "      <td>0</td>\n",
       "      <td>0.000000</td>\n",
       "      <td>NaN</td>\n",
       "      <td>NaN</td>\n",
       "      <td>NaN</td>\n",
       "      <td>0.000000</td>\n",
       "      <td>device$supercomputer</td>\n",
       "    </tr>\n",
       "    <tr>\n",
       "      <th>20700</th>\n",
       "      <td>datum</td>\n",
       "      <td>information</td>\n",
       "      <td>1</td>\n",
       "      <td>4</td>\n",
       "      <td>1</td>\n",
       "      <td>1</td>\n",
       "      <td>0</td>\n",
       "      <td>0.000000</td>\n",
       "      <td>NaN</td>\n",
       "      <td>NaN</td>\n",
       "      <td>NaN</td>\n",
       "      <td>0.000000</td>\n",
       "      <td>information$datum</td>\n",
       "    </tr>\n",
       "    <tr>\n",
       "      <th>21140</th>\n",
       "      <td>information</td>\n",
       "      <td>message</td>\n",
       "      <td>1</td>\n",
       "      <td>4</td>\n",
       "      <td>1</td>\n",
       "      <td>1</td>\n",
       "      <td>0</td>\n",
       "      <td>0.000000</td>\n",
       "      <td>NaN</td>\n",
       "      <td>NaN</td>\n",
       "      <td>NaN</td>\n",
       "      <td>2.000000</td>\n",
       "      <td>message$information</td>\n",
       "    </tr>\n",
       "    <tr>\n",
       "      <th>22880</th>\n",
       "      <td>system</td>\n",
       "      <td>program</td>\n",
       "      <td>1</td>\n",
       "      <td>4</td>\n",
       "      <td>1</td>\n",
       "      <td>1</td>\n",
       "      <td>0</td>\n",
       "      <td>-0.018785</td>\n",
       "      <td>NaN</td>\n",
       "      <td>NaN</td>\n",
       "      <td>NaN</td>\n",
       "      <td>1.800000</td>\n",
       "      <td>program$system</td>\n",
       "    </tr>\n",
       "    <tr>\n",
       "      <th>22904</th>\n",
       "      <td>system</td>\n",
       "      <td>body</td>\n",
       "      <td>1</td>\n",
       "      <td>4</td>\n",
       "      <td>1</td>\n",
       "      <td>1</td>\n",
       "      <td>0</td>\n",
       "      <td>0.000000</td>\n",
       "      <td>NaN</td>\n",
       "      <td>NaN</td>\n",
       "      <td>NaN</td>\n",
       "      <td>0.857143</td>\n",
       "      <td>body$system</td>\n",
       "    </tr>\n",
       "    <tr>\n",
       "      <th>23231</th>\n",
       "      <td>bridge</td>\n",
       "      <td>device</td>\n",
       "      <td>1</td>\n",
       "      <td>4</td>\n",
       "      <td>1</td>\n",
       "      <td>1</td>\n",
       "      <td>0</td>\n",
       "      <td>0.000000</td>\n",
       "      <td>NaN</td>\n",
       "      <td>NaN</td>\n",
       "      <td>NaN</td>\n",
       "      <td>0.000000</td>\n",
       "      <td>device$bridge</td>\n",
       "    </tr>\n",
       "    <tr>\n",
       "      <th>26880</th>\n",
       "      <td>computer</td>\n",
       "      <td>bus</td>\n",
       "      <td>1</td>\n",
       "      <td>4</td>\n",
       "      <td>1</td>\n",
       "      <td>1</td>\n",
       "      <td>0</td>\n",
       "      <td>0.000000</td>\n",
       "      <td>NaN</td>\n",
       "      <td>NaN</td>\n",
       "      <td>NaN</td>\n",
       "      <td>1.400000</td>\n",
       "      <td>bus$computer</td>\n",
       "    </tr>\n",
       "    <tr>\n",
       "      <th>26951</th>\n",
       "      <td>computer</td>\n",
       "      <td>machine</td>\n",
       "      <td>1</td>\n",
       "      <td>4</td>\n",
       "      <td>1</td>\n",
       "      <td>1</td>\n",
       "      <td>0</td>\n",
       "      <td>0.000000</td>\n",
       "      <td>NaN</td>\n",
       "      <td>NaN</td>\n",
       "      <td>NaN</td>\n",
       "      <td>2.000000</td>\n",
       "      <td>machine$computer</td>\n",
       "    </tr>\n",
       "    <tr>\n",
       "      <th>27015</th>\n",
       "      <td>computer</td>\n",
       "      <td>device</td>\n",
       "      <td>1</td>\n",
       "      <td>4</td>\n",
       "      <td>1</td>\n",
       "      <td>1</td>\n",
       "      <td>0</td>\n",
       "      <td>0.000000</td>\n",
       "      <td>NaN</td>\n",
       "      <td>NaN</td>\n",
       "      <td>NaN</td>\n",
       "      <td>2.285714</td>\n",
       "      <td>device$computer</td>\n",
       "    </tr>\n",
       "    <tr>\n",
       "      <th>...</th>\n",
       "      <td>...</td>\n",
       "      <td>...</td>\n",
       "      <td>...</td>\n",
       "      <td>...</td>\n",
       "      <td>...</td>\n",
       "      <td>...</td>\n",
       "      <td>...</td>\n",
       "      <td>...</td>\n",
       "      <td>...</td>\n",
       "      <td>...</td>\n",
       "      <td>...</td>\n",
       "      <td>...</td>\n",
       "      <td>...</td>\n",
       "    </tr>\n",
       "    <tr>\n",
       "      <th>83061</th>\n",
       "      <td>attack</td>\n",
       "      <td>message</td>\n",
       "      <td>1</td>\n",
       "      <td>4</td>\n",
       "      <td>1</td>\n",
       "      <td>1</td>\n",
       "      <td>0</td>\n",
       "      <td>0.057441</td>\n",
       "      <td>NaN</td>\n",
       "      <td>NaN</td>\n",
       "      <td>NaN</td>\n",
       "      <td>2.500000</td>\n",
       "      <td>message$attack</td>\n",
       "    </tr>\n",
       "    <tr>\n",
       "      <th>83564</th>\n",
       "      <td>channel</td>\n",
       "      <td>head</td>\n",
       "      <td>1</td>\n",
       "      <td>4</td>\n",
       "      <td>1</td>\n",
       "      <td>1</td>\n",
       "      <td>0</td>\n",
       "      <td>0.040596</td>\n",
       "      <td>NaN</td>\n",
       "      <td>NaN</td>\n",
       "      <td>NaN</td>\n",
       "      <td>0.000000</td>\n",
       "      <td>head$channel</td>\n",
       "    </tr>\n",
       "    <tr>\n",
       "      <th>87442</th>\n",
       "      <td>star</td>\n",
       "      <td>system</td>\n",
       "      <td>1</td>\n",
       "      <td>4</td>\n",
       "      <td>1</td>\n",
       "      <td>1</td>\n",
       "      <td>0</td>\n",
       "      <td>0.000000</td>\n",
       "      <td>NaN</td>\n",
       "      <td>NaN</td>\n",
       "      <td>NaN</td>\n",
       "      <td>2.111111</td>\n",
       "      <td>system$star</td>\n",
       "    </tr>\n",
       "    <tr>\n",
       "      <th>91000</th>\n",
       "      <td>standard</td>\n",
       "      <td>device</td>\n",
       "      <td>1</td>\n",
       "      <td>4</td>\n",
       "      <td>1</td>\n",
       "      <td>1</td>\n",
       "      <td>0</td>\n",
       "      <td>-0.061553</td>\n",
       "      <td>NaN</td>\n",
       "      <td>NaN</td>\n",
       "      <td>NaN</td>\n",
       "      <td>2.000000</td>\n",
       "      <td>device$standard</td>\n",
       "    </tr>\n",
       "    <tr>\n",
       "      <th>95417</th>\n",
       "      <td>certificate</td>\n",
       "      <td>document</td>\n",
       "      <td>1</td>\n",
       "      <td>4</td>\n",
       "      <td>1</td>\n",
       "      <td>1</td>\n",
       "      <td>0</td>\n",
       "      <td>0.000000</td>\n",
       "      <td>NaN</td>\n",
       "      <td>NaN</td>\n",
       "      <td>NaN</td>\n",
       "      <td>2.000000</td>\n",
       "      <td>document$certificate</td>\n",
       "    </tr>\n",
       "    <tr>\n",
       "      <th>95452</th>\n",
       "      <td>certificate</td>\n",
       "      <td>security</td>\n",
       "      <td>1</td>\n",
       "      <td>4</td>\n",
       "      <td>1</td>\n",
       "      <td>1</td>\n",
       "      <td>0</td>\n",
       "      <td>-0.077831</td>\n",
       "      <td>NaN</td>\n",
       "      <td>NaN</td>\n",
       "      <td>NaN</td>\n",
       "      <td>3.000000</td>\n",
       "      <td>security$certificate</td>\n",
       "    </tr>\n",
       "    <tr>\n",
       "      <th>96386</th>\n",
       "      <td>ethernet</td>\n",
       "      <td>system</td>\n",
       "      <td>1</td>\n",
       "      <td>4</td>\n",
       "      <td>1</td>\n",
       "      <td>1</td>\n",
       "      <td>0</td>\n",
       "      <td>0.000000</td>\n",
       "      <td>NaN</td>\n",
       "      <td>NaN</td>\n",
       "      <td>NaN</td>\n",
       "      <td>1.750000</td>\n",
       "      <td>system$ethernet</td>\n",
       "    </tr>\n",
       "    <tr>\n",
       "      <th>96538</th>\n",
       "      <td>ethernet</td>\n",
       "      <td>network</td>\n",
       "      <td>1</td>\n",
       "      <td>4</td>\n",
       "      <td>1</td>\n",
       "      <td>1</td>\n",
       "      <td>0</td>\n",
       "      <td>0.000000</td>\n",
       "      <td>NaN</td>\n",
       "      <td>NaN</td>\n",
       "      <td>NaN</td>\n",
       "      <td>1.750000</td>\n",
       "      <td>network$ethernet</td>\n",
       "    </tr>\n",
       "    <tr>\n",
       "      <th>97074</th>\n",
       "      <td>firewall</td>\n",
       "      <td>system</td>\n",
       "      <td>1</td>\n",
       "      <td>4</td>\n",
       "      <td>1</td>\n",
       "      <td>1</td>\n",
       "      <td>0</td>\n",
       "      <td>0.000000</td>\n",
       "      <td>NaN</td>\n",
       "      <td>NaN</td>\n",
       "      <td>NaN</td>\n",
       "      <td>2.500000</td>\n",
       "      <td>system$firewall</td>\n",
       "    </tr>\n",
       "    <tr>\n",
       "      <th>98459</th>\n",
       "      <td>applet</td>\n",
       "      <td>software</td>\n",
       "      <td>1</td>\n",
       "      <td>4</td>\n",
       "      <td>1</td>\n",
       "      <td>1</td>\n",
       "      <td>0</td>\n",
       "      <td>0.000000</td>\n",
       "      <td>NaN</td>\n",
       "      <td>NaN</td>\n",
       "      <td>NaN</td>\n",
       "      <td>1.500000</td>\n",
       "      <td>software$applet</td>\n",
       "    </tr>\n",
       "    <tr>\n",
       "      <th>98537</th>\n",
       "      <td>applet</td>\n",
       "      <td>application</td>\n",
       "      <td>1</td>\n",
       "      <td>4</td>\n",
       "      <td>1</td>\n",
       "      <td>1</td>\n",
       "      <td>0</td>\n",
       "      <td>0.036377</td>\n",
       "      <td>NaN</td>\n",
       "      <td>NaN</td>\n",
       "      <td>NaN</td>\n",
       "      <td>1.500000</td>\n",
       "      <td>application$applet</td>\n",
       "    </tr>\n",
       "    <tr>\n",
       "      <th>98561</th>\n",
       "      <td>applet</td>\n",
       "      <td>program</td>\n",
       "      <td>1</td>\n",
       "      <td>4</td>\n",
       "      <td>1</td>\n",
       "      <td>1</td>\n",
       "      <td>0</td>\n",
       "      <td>0.024925</td>\n",
       "      <td>NaN</td>\n",
       "      <td>NaN</td>\n",
       "      <td>NaN</td>\n",
       "      <td>1.500000</td>\n",
       "      <td>program$applet</td>\n",
       "    </tr>\n",
       "    <tr>\n",
       "      <th>101293</th>\n",
       "      <td>address</td>\n",
       "      <td>message</td>\n",
       "      <td>1</td>\n",
       "      <td>4</td>\n",
       "      <td>1</td>\n",
       "      <td>1</td>\n",
       "      <td>0</td>\n",
       "      <td>0.396132</td>\n",
       "      <td>NaN</td>\n",
       "      <td>NaN</td>\n",
       "      <td>NaN</td>\n",
       "      <td>2.000000</td>\n",
       "      <td>message$address</td>\n",
       "    </tr>\n",
       "    <tr>\n",
       "      <th>101337</th>\n",
       "      <td>address</td>\n",
       "      <td>body</td>\n",
       "      <td>1</td>\n",
       "      <td>4</td>\n",
       "      <td>1</td>\n",
       "      <td>1</td>\n",
       "      <td>0</td>\n",
       "      <td>0.000000</td>\n",
       "      <td>NaN</td>\n",
       "      <td>NaN</td>\n",
       "      <td>NaN</td>\n",
       "      <td>0.857143</td>\n",
       "      <td>body$address</td>\n",
       "    </tr>\n",
       "    <tr>\n",
       "      <th>104409</th>\n",
       "      <td>switch</td>\n",
       "      <td>program</td>\n",
       "      <td>1</td>\n",
       "      <td>4</td>\n",
       "      <td>1</td>\n",
       "      <td>1</td>\n",
       "      <td>0</td>\n",
       "      <td>0.000000</td>\n",
       "      <td>NaN</td>\n",
       "      <td>NaN</td>\n",
       "      <td>NaN</td>\n",
       "      <td>1.000000</td>\n",
       "      <td>program$switch</td>\n",
       "    </tr>\n",
       "    <tr>\n",
       "      <th>104416</th>\n",
       "      <td>switch</td>\n",
       "      <td>device</td>\n",
       "      <td>1</td>\n",
       "      <td>4</td>\n",
       "      <td>1</td>\n",
       "      <td>1</td>\n",
       "      <td>0</td>\n",
       "      <td>0.025090</td>\n",
       "      <td>NaN</td>\n",
       "      <td>NaN</td>\n",
       "      <td>NaN</td>\n",
       "      <td>1.000000</td>\n",
       "      <td>device$switch</td>\n",
       "    </tr>\n",
       "    <tr>\n",
       "      <th>105325</th>\n",
       "      <td>flash</td>\n",
       "      <td>information</td>\n",
       "      <td>1</td>\n",
       "      <td>4</td>\n",
       "      <td>1</td>\n",
       "      <td>1</td>\n",
       "      <td>0</td>\n",
       "      <td>0.000000</td>\n",
       "      <td>NaN</td>\n",
       "      <td>NaN</td>\n",
       "      <td>NaN</td>\n",
       "      <td>1.500000</td>\n",
       "      <td>information$flash</td>\n",
       "    </tr>\n",
       "    <tr>\n",
       "      <th>105364</th>\n",
       "      <td>flash</td>\n",
       "      <td>process</td>\n",
       "      <td>1</td>\n",
       "      <td>4</td>\n",
       "      <td>1</td>\n",
       "      <td>1</td>\n",
       "      <td>0</td>\n",
       "      <td>0.000000</td>\n",
       "      <td>NaN</td>\n",
       "      <td>NaN</td>\n",
       "      <td>NaN</td>\n",
       "      <td>1.500000</td>\n",
       "      <td>process$flash</td>\n",
       "    </tr>\n",
       "    <tr>\n",
       "      <th>105421</th>\n",
       "      <td>flash</td>\n",
       "      <td>message</td>\n",
       "      <td>1</td>\n",
       "      <td>4</td>\n",
       "      <td>1</td>\n",
       "      <td>1</td>\n",
       "      <td>0</td>\n",
       "      <td>-0.003478</td>\n",
       "      <td>NaN</td>\n",
       "      <td>NaN</td>\n",
       "      <td>NaN</td>\n",
       "      <td>1.500000</td>\n",
       "      <td>message$flash</td>\n",
       "    </tr>\n",
       "    <tr>\n",
       "      <th>105436</th>\n",
       "      <td>flash</td>\n",
       "      <td>bit</td>\n",
       "      <td>1</td>\n",
       "      <td>4</td>\n",
       "      <td>1</td>\n",
       "      <td>1</td>\n",
       "      <td>0</td>\n",
       "      <td>-0.073758</td>\n",
       "      <td>NaN</td>\n",
       "      <td>NaN</td>\n",
       "      <td>NaN</td>\n",
       "      <td>-0.666667</td>\n",
       "      <td>bit$flash</td>\n",
       "    </tr>\n",
       "    <tr>\n",
       "      <th>105448</th>\n",
       "      <td>flash</td>\n",
       "      <td>device</td>\n",
       "      <td>1</td>\n",
       "      <td>4</td>\n",
       "      <td>1</td>\n",
       "      <td>1</td>\n",
       "      <td>0</td>\n",
       "      <td>-0.018486</td>\n",
       "      <td>NaN</td>\n",
       "      <td>NaN</td>\n",
       "      <td>NaN</td>\n",
       "      <td>1.500000</td>\n",
       "      <td>device$flash</td>\n",
       "    </tr>\n",
       "    <tr>\n",
       "      <th>108035</th>\n",
       "      <td>cloud</td>\n",
       "      <td>swarm</td>\n",
       "      <td>1</td>\n",
       "      <td>4</td>\n",
       "      <td>1</td>\n",
       "      <td>1</td>\n",
       "      <td>0</td>\n",
       "      <td>0.000000</td>\n",
       "      <td>NaN</td>\n",
       "      <td>NaN</td>\n",
       "      <td>NaN</td>\n",
       "      <td>1.000000</td>\n",
       "      <td>swarm$cloud</td>\n",
       "    </tr>\n",
       "    <tr>\n",
       "      <th>108116</th>\n",
       "      <td>cloud</td>\n",
       "      <td>process</td>\n",
       "      <td>1</td>\n",
       "      <td>4</td>\n",
       "      <td>1</td>\n",
       "      <td>1</td>\n",
       "      <td>0</td>\n",
       "      <td>-0.189310</td>\n",
       "      <td>NaN</td>\n",
       "      <td>NaN</td>\n",
       "      <td>NaN</td>\n",
       "      <td>1.000000</td>\n",
       "      <td>process$cloud</td>\n",
       "    </tr>\n",
       "    <tr>\n",
       "      <th>109148</th>\n",
       "      <td>head</td>\n",
       "      <td>process</td>\n",
       "      <td>1</td>\n",
       "      <td>4</td>\n",
       "      <td>1</td>\n",
       "      <td>1</td>\n",
       "      <td>0</td>\n",
       "      <td>-0.081348</td>\n",
       "      <td>NaN</td>\n",
       "      <td>NaN</td>\n",
       "      <td>NaN</td>\n",
       "      <td>1.500000</td>\n",
       "      <td>process$head</td>\n",
       "    </tr>\n",
       "    <tr>\n",
       "      <th>109205</th>\n",
       "      <td>head</td>\n",
       "      <td>message</td>\n",
       "      <td>1</td>\n",
       "      <td>4</td>\n",
       "      <td>1</td>\n",
       "      <td>1</td>\n",
       "      <td>0</td>\n",
       "      <td>0.004553</td>\n",
       "      <td>NaN</td>\n",
       "      <td>NaN</td>\n",
       "      <td>NaN</td>\n",
       "      <td>1.500000</td>\n",
       "      <td>message$head</td>\n",
       "    </tr>\n",
       "    <tr>\n",
       "      <th>109232</th>\n",
       "      <td>head</td>\n",
       "      <td>device</td>\n",
       "      <td>1</td>\n",
       "      <td>4</td>\n",
       "      <td>1</td>\n",
       "      <td>1</td>\n",
       "      <td>0</td>\n",
       "      <td>-0.011559</td>\n",
       "      <td>NaN</td>\n",
       "      <td>NaN</td>\n",
       "      <td>NaN</td>\n",
       "      <td>1.500000</td>\n",
       "      <td>device$head</td>\n",
       "    </tr>\n",
       "    <tr>\n",
       "      <th>110180</th>\n",
       "      <td>computation</td>\n",
       "      <td>process</td>\n",
       "      <td>1</td>\n",
       "      <td>4</td>\n",
       "      <td>1</td>\n",
       "      <td>1</td>\n",
       "      <td>0</td>\n",
       "      <td>0.000000</td>\n",
       "      <td>NaN</td>\n",
       "      <td>NaN</td>\n",
       "      <td>NaN</td>\n",
       "      <td>0.000000</td>\n",
       "      <td>process$computation</td>\n",
       "    </tr>\n",
       "    <tr>\n",
       "      <th>110843</th>\n",
       "      <td>virus</td>\n",
       "      <td>software</td>\n",
       "      <td>1</td>\n",
       "      <td>4</td>\n",
       "      <td>1</td>\n",
       "      <td>1</td>\n",
       "      <td>0</td>\n",
       "      <td>0.000000</td>\n",
       "      <td>NaN</td>\n",
       "      <td>NaN</td>\n",
       "      <td>NaN</td>\n",
       "      <td>2.500000</td>\n",
       "      <td>software$virus</td>\n",
       "    </tr>\n",
       "    <tr>\n",
       "      <th>110945</th>\n",
       "      <td>virus</td>\n",
       "      <td>program</td>\n",
       "      <td>1</td>\n",
       "      <td>4</td>\n",
       "      <td>1</td>\n",
       "      <td>1</td>\n",
       "      <td>0</td>\n",
       "      <td>-0.074082</td>\n",
       "      <td>NaN</td>\n",
       "      <td>NaN</td>\n",
       "      <td>NaN</td>\n",
       "      <td>3.000000</td>\n",
       "      <td>program$virus</td>\n",
       "    </tr>\n",
       "    <tr>\n",
       "      <th>115340</th>\n",
       "      <td>algorithm</td>\n",
       "      <td>process</td>\n",
       "      <td>1</td>\n",
       "      <td>4</td>\n",
       "      <td>1</td>\n",
       "      <td>1</td>\n",
       "      <td>0</td>\n",
       "      <td>0.000000</td>\n",
       "      <td>NaN</td>\n",
       "      <td>NaN</td>\n",
       "      <td>NaN</td>\n",
       "      <td>2.200000</td>\n",
       "      <td>process$algorithm</td>\n",
       "    </tr>\n",
       "  </tbody>\n",
       "</table>\n",
       "<p>132 rows × 13 columns</p>\n",
       "</div>"
      ],
      "text/plain": [
       "               lemma1       lemma2  bid  cap  m1  m2  m2_a        m3  m4  \\\n",
       "6849            swarm        cloud    1    4   1   1     0  0.000000 NaN   \n",
       "8619        streaming        swarm    1    4   1   1     0 -0.070879 NaN   \n",
       "8699        streaming      process    1    4   1   1     0 -0.087676 NaN   \n",
       "9471           anchor       device    1    4   1   1     0  0.000000 NaN   \n",
       "9709             host     computer    1    4   1   1     0  0.000000 NaN   \n",
       "9751             host      machine    1    4   1   1     0 -0.130567 NaN   \n",
       "9797             host       server    1    4   1   1     0  0.000000 NaN   \n",
       "9815             host       device    1    4   1   1     0  0.000000 NaN   \n",
       "9866             host      service    1    4   1   1     0 -0.075900 NaN   \n",
       "10159        repeater       device    1    4   1   1     0  0.011458 NaN   \n",
       "12802         browser     software    1    4   1   1     0  0.048697 NaN   \n",
       "12880         browser  application    1    4   1   1     0  0.000000 NaN   \n",
       "12904         browser      program    1    4   1   1     0  0.000000 NaN   \n",
       "13191          router      machine    1    4   1   1     0  0.046325 NaN   \n",
       "13255          router       device    1    4   1   1     0  0.060344 NaN   \n",
       "15796   administrator         head    1    4   1   1     0  0.000000 NaN   \n",
       "16577             bus       system    1    4   1   1     0  0.000000 NaN   \n",
       "16631             bus      machine    1    4   1   1     0  0.080073 NaN   \n",
       "16695             bus       device    1    4   1   1     0  0.173950 NaN   \n",
       "20373   supercomputer     computer    1    4   1   1     0 -0.371523 NaN   \n",
       "20415   supercomputer      machine    1    4   1   1     0  0.000000 NaN   \n",
       "20479   supercomputer       device    1    4   1   1     0  0.000000 NaN   \n",
       "20700           datum  information    1    4   1   1     0  0.000000 NaN   \n",
       "21140     information      message    1    4   1   1     0  0.000000 NaN   \n",
       "22880          system      program    1    4   1   1     0 -0.018785 NaN   \n",
       "22904          system         body    1    4   1   1     0  0.000000 NaN   \n",
       "23231          bridge       device    1    4   1   1     0  0.000000 NaN   \n",
       "26880        computer          bus    1    4   1   1     0  0.000000 NaN   \n",
       "26951        computer      machine    1    4   1   1     0  0.000000 NaN   \n",
       "27015        computer       device    1    4   1   1     0  0.000000 NaN   \n",
       "...               ...          ...  ...  ...  ..  ..   ...       ...  ..   \n",
       "83061          attack      message    1    4   1   1     0  0.057441 NaN   \n",
       "83564         channel         head    1    4   1   1     0  0.040596 NaN   \n",
       "87442            star       system    1    4   1   1     0  0.000000 NaN   \n",
       "91000        standard       device    1    4   1   1     0 -0.061553 NaN   \n",
       "95417     certificate     document    1    4   1   1     0  0.000000 NaN   \n",
       "95452     certificate     security    1    4   1   1     0 -0.077831 NaN   \n",
       "96386        ethernet       system    1    4   1   1     0  0.000000 NaN   \n",
       "96538        ethernet      network    1    4   1   1     0  0.000000 NaN   \n",
       "97074        firewall       system    1    4   1   1     0  0.000000 NaN   \n",
       "98459          applet     software    1    4   1   1     0  0.000000 NaN   \n",
       "98537          applet  application    1    4   1   1     0  0.036377 NaN   \n",
       "98561          applet      program    1    4   1   1     0  0.024925 NaN   \n",
       "101293        address      message    1    4   1   1     0  0.396132 NaN   \n",
       "101337        address         body    1    4   1   1     0  0.000000 NaN   \n",
       "104409         switch      program    1    4   1   1     0  0.000000 NaN   \n",
       "104416         switch       device    1    4   1   1     0  0.025090 NaN   \n",
       "105325          flash  information    1    4   1   1     0  0.000000 NaN   \n",
       "105364          flash      process    1    4   1   1     0  0.000000 NaN   \n",
       "105421          flash      message    1    4   1   1     0 -0.003478 NaN   \n",
       "105436          flash          bit    1    4   1   1     0 -0.073758 NaN   \n",
       "105448          flash       device    1    4   1   1     0 -0.018486 NaN   \n",
       "108035          cloud        swarm    1    4   1   1     0  0.000000 NaN   \n",
       "108116          cloud      process    1    4   1   1     0 -0.189310 NaN   \n",
       "109148           head      process    1    4   1   1     0 -0.081348 NaN   \n",
       "109205           head      message    1    4   1   1     0  0.004553 NaN   \n",
       "109232           head       device    1    4   1   1     0 -0.011559 NaN   \n",
       "110180    computation      process    1    4   1   1     0  0.000000 NaN   \n",
       "110843          virus     software    1    4   1   1     0  0.000000 NaN   \n",
       "110945          virus      program    1    4   1   1     0 -0.074082 NaN   \n",
       "115340      algorithm      process    1    4   1   1     0  0.000000 NaN   \n",
       "\n",
       "        m4_a  m4_b        m5                    comb  \n",
       "6849     NaN   NaN  0.000000             cloud$swarm  \n",
       "8619     NaN   NaN  1.000000         swarm$streaming  \n",
       "8699     NaN   NaN  1.000000       process$streaming  \n",
       "9471     NaN   NaN  1.500000           device$anchor  \n",
       "9709     NaN   NaN  2.200000           computer$host  \n",
       "9751     NaN   NaN  2.200000            machine$host  \n",
       "9797     NaN   NaN  2.200000             server$host  \n",
       "9815     NaN   NaN  2.666667             device$host  \n",
       "9866     NaN   NaN  2.200000            service$host  \n",
       "10159    NaN   NaN  0.000000         device$repeater  \n",
       "12802    NaN   NaN  2.000000        software$browser  \n",
       "12880    NaN   NaN  2.000000     application$browser  \n",
       "12904    NaN   NaN  1.800000         program$browser  \n",
       "13191    NaN   NaN  1.750000          machine$router  \n",
       "13255    NaN   NaN  2.000000           device$router  \n",
       "15796    NaN   NaN  3.000000      head$administrator  \n",
       "16577    NaN   NaN  2.125000              system$bus  \n",
       "16631    NaN   NaN  2.125000             machine$bus  \n",
       "16695    NaN   NaN  2.600000              device$bus  \n",
       "20373    NaN   NaN  0.000000  computer$supercomputer  \n",
       "20415    NaN   NaN  0.000000   machine$supercomputer  \n",
       "20479    NaN   NaN  0.000000    device$supercomputer  \n",
       "20700    NaN   NaN  0.000000       information$datum  \n",
       "21140    NaN   NaN  2.000000     message$information  \n",
       "22880    NaN   NaN  1.800000          program$system  \n",
       "22904    NaN   NaN  0.857143             body$system  \n",
       "23231    NaN   NaN  0.000000           device$bridge  \n",
       "26880    NaN   NaN  1.400000            bus$computer  \n",
       "26951    NaN   NaN  2.000000        machine$computer  \n",
       "27015    NaN   NaN  2.285714         device$computer  \n",
       "...      ...   ...       ...                     ...  \n",
       "83061    NaN   NaN  2.500000          message$attack  \n",
       "83564    NaN   NaN  0.000000            head$channel  \n",
       "87442    NaN   NaN  2.111111             system$star  \n",
       "91000    NaN   NaN  2.000000         device$standard  \n",
       "95417    NaN   NaN  2.000000    document$certificate  \n",
       "95452    NaN   NaN  3.000000    security$certificate  \n",
       "96386    NaN   NaN  1.750000         system$ethernet  \n",
       "96538    NaN   NaN  1.750000        network$ethernet  \n",
       "97074    NaN   NaN  2.500000         system$firewall  \n",
       "98459    NaN   NaN  1.500000         software$applet  \n",
       "98537    NaN   NaN  1.500000      application$applet  \n",
       "98561    NaN   NaN  1.500000          program$applet  \n",
       "101293   NaN   NaN  2.000000         message$address  \n",
       "101337   NaN   NaN  0.857143            body$address  \n",
       "104409   NaN   NaN  1.000000          program$switch  \n",
       "104416   NaN   NaN  1.000000           device$switch  \n",
       "105325   NaN   NaN  1.500000       information$flash  \n",
       "105364   NaN   NaN  1.500000           process$flash  \n",
       "105421   NaN   NaN  1.500000           message$flash  \n",
       "105436   NaN   NaN -0.666667               bit$flash  \n",
       "105448   NaN   NaN  1.500000            device$flash  \n",
       "108035   NaN   NaN  1.000000             swarm$cloud  \n",
       "108116   NaN   NaN  1.000000           process$cloud  \n",
       "109148   NaN   NaN  1.500000            process$head  \n",
       "109205   NaN   NaN  1.500000            message$head  \n",
       "109232   NaN   NaN  1.500000             device$head  \n",
       "110180   NaN   NaN  0.000000     process$computation  \n",
       "110843   NaN   NaN  2.500000          software$virus  \n",
       "110945   NaN   NaN  3.000000           program$virus  \n",
       "115340   NaN   NaN  2.200000       process$algorithm  \n",
       "\n",
       "[132 rows x 13 columns]"
      ]
     },
     "execution_count": 100,
     "metadata": {},
     "output_type": "execute_result"
    }
   ],
   "source": [
    "subset1 = df[df['m1']==1]\n",
    "subset1\n"
   ]
  },
  {
   "cell_type": "code",
   "execution_count": 101,
   "metadata": {
    "pycharm": {
     "is_executing": false
    }
   },
   "outputs": [
    {
     "data": {
      "text/plain": [
       "False    110\n",
       "True      22\n",
       "Name: comb, dtype: int64"
      ]
     },
     "execution_count": 101,
     "metadata": {},
     "output_type": "execute_result"
    }
   ],
   "source": [
    "subset1['comb'].isin(df2['comb']).value_counts()\n",
    "# pd.merge(subset1, df2,how='inner', on='comb')"
   ]
  },
  {
   "cell_type": "markdown",
   "metadata": {},
   "source": [
    "#### Subset 2: coppie di termini con valore 0 per il metodo m1 (Iponimi/Meronimi)"
   ]
  },
  {
   "cell_type": "code",
   "execution_count": 102,
   "metadata": {
    "pycharm": {
     "is_executing": false
    }
   },
   "outputs": [],
   "source": [
    "subset2 = df[df['m1']==0]"
   ]
  },
  {
   "cell_type": "code",
   "execution_count": 103,
   "metadata": {
    "pycharm": {
     "is_executing": false
    }
   },
   "outputs": [
    {
     "data": {
      "text/plain": [
       "False    117551\n",
       "True        997\n",
       "Name: comb, dtype: int64"
      ]
     },
     "execution_count": 103,
     "metadata": {},
     "output_type": "execute_result"
    }
   ],
   "source": [
    "subset2['comb'].isin(df2['comb']).value_counts()"
   ]
  },
  {
   "cell_type": "markdown",
   "metadata": {},
   "source": [
    "#### Subset 3: coppie di termini con valore 1 per il metodo m2 (Lexical Patterns)"
   ]
  },
  {
   "cell_type": "code",
   "execution_count": 104,
   "metadata": {
    "pycharm": {
     "is_executing": false
    }
   },
   "outputs": [],
   "source": [
    "subset3 = df[df['m2']==1]\n"
   ]
  },
  {
   "cell_type": "code",
   "execution_count": 105,
   "metadata": {
    "pycharm": {
     "is_executing": false
    }
   },
   "outputs": [
    {
     "data": {
      "text/plain": [
       "False    113\n",
       "True      25\n",
       "Name: comb, dtype: int64"
      ]
     },
     "execution_count": 105,
     "metadata": {},
     "output_type": "execute_result"
    }
   ],
   "source": [
    "subset3['comb'].isin(df2['comb']).value_counts()"
   ]
  },
  {
   "cell_type": "markdown",
   "metadata": {},
   "source": [
    "#### Subset 4: coppie di termini con valore 0 per il metodo m2 (Lexical Patterns)\n"
   ]
  },
  {
   "cell_type": "code",
   "execution_count": 106,
   "metadata": {
    "pycharm": {
     "is_executing": false
    }
   },
   "outputs": [],
   "source": [
    "subset4 = df[df['m2']==0]"
   ]
  },
  {
   "cell_type": "code",
   "execution_count": 107,
   "metadata": {
    "pycharm": {
     "is_executing": false
    }
   },
   "outputs": [
    {
     "data": {
      "text/plain": [
       "False    117548\n",
       "True        994\n",
       "Name: comb, dtype: int64"
      ]
     },
     "execution_count": 107,
     "metadata": {},
     "output_type": "execute_result"
    }
   ],
   "source": [
    "subset4['comb'].isin(df2['comb']).value_counts()"
   ]
  },
  {
   "cell_type": "markdown",
   "metadata": {},
   "source": [
    "#### Subset 5: coppie di termini con valore NEGATIVO per il metodo m3 (RefD)\n"
   ]
  },
  {
   "cell_type": "code",
   "execution_count": 108,
   "metadata": {
    "pycharm": {
     "is_executing": false
    }
   },
   "outputs": [],
   "source": [
    "subset5 = df[df['m3']<0]"
   ]
  },
  {
   "cell_type": "code",
   "execution_count": 109,
   "metadata": {
    "pycharm": {
     "is_executing": false
    }
   },
   "outputs": [
    {
     "name": "stdout",
     "output_type": "stream",
     "text": [
      "<class 'pandas.core.frame.DataFrame'>\n",
      "Int64Index: 26028 entries, 3 to 118679\n",
      "Data columns (total 13 columns):\n",
      "lemma1    26028 non-null object\n",
      "lemma2    26028 non-null object\n",
      "bid       26028 non-null int64\n",
      "cap       26028 non-null int64\n",
      "m1        26028 non-null int64\n",
      "m2        26028 non-null int64\n",
      "m2_a      26028 non-null int64\n",
      "m3        26028 non-null float64\n",
      "m4        0 non-null float64\n",
      "m4_a      0 non-null float64\n",
      "m4_b      0 non-null float64\n",
      "m5        26028 non-null float64\n",
      "comb      26028 non-null object\n",
      "dtypes: float64(5), int64(5), object(3)\n",
      "memory usage: 2.8+ MB\n"
     ]
    }
   ],
   "source": [
    "subset5.info()"
   ]
  },
  {
   "cell_type": "code",
   "execution_count": 110,
   "metadata": {
    "pycharm": {
     "is_executing": false
    }
   },
   "outputs": [
    {
     "data": {
      "text/plain": [
       "False    25788\n",
       "True       240\n",
       "Name: comb, dtype: int64"
      ]
     },
     "execution_count": 110,
     "metadata": {},
     "output_type": "execute_result"
    }
   ],
   "source": [
    "subset5['comb'].isin(df2['comb']).value_counts()"
   ]
  },
  {
   "cell_type": "code",
   "execution_count": 111,
   "metadata": {
    "pycharm": {
     "is_executing": false
    }
   },
   "outputs": [
    {
     "data": {
      "text/plain": [
       "Text(0.5, 1.0, 'Confronto M3 RefD Negativo con Gold')"
      ]
     },
     "execution_count": 111,
     "metadata": {},
     "output_type": "execute_result"
    },
    {
     "data": {
      "image/png": "[encoded data removed]",
      "text/plain": [
       "<Figure size 432x288 with 1 Axes>"
      ]
     },
     "metadata": {
      "needs_background": "light"
     },
     "output_type": "display_data"
    }
   ],
   "source": [
    "objects = ('False', 'True')\n",
    "y_pos = np.arange(len(objects))\n",
    "# performance = [22901,358]\n",
    "performance = [25788, 240]\n",
    "plt.barh(y_pos, performance, align='center', alpha=0.5)\n",
    "plt.yticks(y_pos, objects)\n",
    "plt.xlabel('Value Count')\n",
    "plt.title('Confronto M3 RefD Negativo con Gold')\n"
   ]
  },
  {
   "cell_type": "markdown",
   "metadata": {},
   "source": [
    "#### Subset 6: coppie di termini con valore POSITIVO diverso da 0 per il metodo m3 (RefD)"
   ]
  },
  {
   "cell_type": "code",
   "execution_count": 112,
   "metadata": {
    "pycharm": {
     "is_executing": false
    }
   },
   "outputs": [],
   "source": [
    "subset6 = df[df['m3']>0]"
   ]
  },
  {
   "cell_type": "code",
   "execution_count": 113,
   "metadata": {
    "pycharm": {
     "is_executing": false
    }
   },
   "outputs": [
    {
     "data": {
      "text/plain": [
       "False    25791\n",
       "True       237\n",
       "Name: comb, dtype: int64"
      ]
     },
     "execution_count": 113,
     "metadata": {},
     "output_type": "execute_result"
    }
   ],
   "source": [
    "subset6['comb'].isin(df2['comb']).value_counts()"
   ]
  },
  {
   "cell_type": "code",
   "execution_count": 114,
   "metadata": {
    "pycharm": {
     "is_executing": false
    }
   },
   "outputs": [
    {
     "data": {
      "text/plain": [
       "Text(0.5, 1.0, 'Confronto M3 RefD Positivo con Gold')"
      ]
     },
     "execution_count": 114,
     "metadata": {},
     "output_type": "execute_result"
    },
    {
     "data": {
      "image/png": "[encoded data removed]",
      "text/plain": [
       "<Figure size 432x288 with 1 Axes>"
      ]
     },
     "metadata": {
      "needs_background": "light"
     },
     "output_type": "display_data"
    }
   ],
   "source": [
    "objects = ('False', 'True')\n",
    "y_pos = np.arange(len(objects))\n",
    "# performance = [23063,196]\n",
    "performance = [25791,237]\n",
    "plt.barh(y_pos, performance, align='center', alpha=0.5)\n",
    "plt.yticks(y_pos, objects)\n",
    "plt.xlabel('Value Count')\n",
    "plt.title('Confronto M3 RefD Positivo con Gold')\n"
   ]
  },
  {
   "cell_type": "markdown",
   "metadata": {},
   "source": [
    "#### Subset 7: coppie di termini con valore 0 per il metodo m3 (RefD)"
   ]
  },
  {
   "cell_type": "code",
   "execution_count": 115,
   "metadata": {
    "pycharm": {
     "is_executing": false
    }
   },
   "outputs": [],
   "source": [
    "subset7 = df[df['m3']==0]"
   ]
  },
  {
   "cell_type": "code",
   "execution_count": 116,
   "metadata": {
    "pycharm": {
     "is_executing": false
    }
   },
   "outputs": [
    {
     "data": {
      "text/plain": [
       "False    66082\n",
       "True       542\n",
       "Name: comb, dtype: int64"
      ]
     },
     "execution_count": 116,
     "metadata": {},
     "output_type": "execute_result"
    }
   ],
   "source": [
    "subset7['comb'].isin(df2['comb']).value_counts()"
   ]
  },
  {
   "cell_type": "code",
   "execution_count": 117,
   "metadata": {
    "pycharm": {
     "is_executing": false,
     "name": "#%% \n"
    }
   },
   "outputs": [
    {
     "data": {
      "text/plain": [
       "Text(0.5, 1.0, 'Confronto M3 RefD == 0 con Gold')"
      ]
     },
     "execution_count": 117,
     "metadata": {},
     "output_type": "execute_result"
    },
    {
     "data": {
      "image/png": "[encoded data removed]",
      "text/plain": [
       "<Figure size 432x288 with 1 Axes>"
      ]
     },
     "metadata": {
      "needs_background": "light"
     },
     "output_type": "display_data"
    }
   ],
   "source": [
    "# Se refD == 0 potrebbe dire che uno dei due concetti coinvolti non hanno una pagina in wikipedia\n",
    "\n",
    "objects = ('False', 'True')\n",
    "y_pos = np.arange(len(objects))\n",
    "# performance = [73080,464]\n",
    "performance = [66082,542]\n",
    "plt.barh(y_pos, performance, align='center', alpha=0.5)\n",
    "plt.yticks(y_pos, objects)\n",
    "plt.xlabel('Value Count')\n",
    "plt.title('Confronto M3 RefD == 0 con Gold')"
   ]
  },
  {
   "cell_type": "markdown",
   "metadata": {},
   "source": [
    "#### Analisi quantitative per il metodo TOC Distance"
   ]
  },
  {
   "cell_type": "code",
   "execution_count": 118,
   "metadata": {
    "pycharm": {
     "is_executing": false
    }
   },
   "outputs": [],
   "source": [
    "# subset8 = df[df['m5']==0]"
   ]
  },
  {
   "cell_type": "code",
   "execution_count": 119,
   "metadata": {
    "pycharm": {
     "is_executing": false
    }
   },
   "outputs": [],
   "source": [
    "#subset8['comb'].isin(df2['comb']).value_counts()"
   ]
  },
  {
   "cell_type": "code",
   "execution_count": 120,
   "metadata": {
    "pycharm": {
     "is_executing": false
    }
   },
   "outputs": [],
   "source": [
    "subset9 = df[df['m5']>0]"
   ]
  },
  {
   "cell_type": "code",
   "execution_count": 121,
   "metadata": {
    "pycharm": {
     "is_executing": false
    }
   },
   "outputs": [
    {
     "data": {
      "text/plain": [
       "False    60503\n",
       "True       715\n",
       "Name: comb, dtype: int64"
      ]
     },
     "execution_count": 121,
     "metadata": {},
     "output_type": "execute_result"
    }
   ],
   "source": [
    "subset9['comb'].isin(df2['comb']).value_counts()"
   ]
  },
  {
   "cell_type": "code",
   "execution_count": 122,
   "metadata": {
    "pycharm": {
     "is_executing": false
    }
   },
   "outputs": [],
   "source": [
    "subset10 = df[df['m5']<0]"
   ]
  },
  {
   "cell_type": "code",
   "execution_count": 123,
   "metadata": {
    "pycharm": {
     "is_executing": false
    }
   },
   "outputs": [
    {
     "data": {
      "text/plain": [
       "False    28656\n",
       "True        34\n",
       "Name: comb, dtype: int64"
      ]
     },
     "execution_count": 123,
     "metadata": {},
     "output_type": "execute_result"
    }
   ],
   "source": [
    "subset10['comb'].isin(df2['comb']).value_counts()"
   ]
  },
  {
   "cell_type": "code",
   "execution_count": 124,
   "metadata": {
    "pycharm": {
     "is_executing": false,
     "name": "#%%\n"
    }
   },
   "outputs": [],
   "source": [
    "subset11 = df[df['m5']==0]"
   ]
  },
  {
   "cell_type": "code",
   "execution_count": 125,
   "metadata": {
    "pycharm": {
     "is_executing": false,
     "name": "#%%\n"
    }
   },
   "outputs": [
    {
     "data": {
      "text/plain": [
       "False    28502\n",
       "True       270\n",
       "Name: comb, dtype: int64"
      ]
     },
     "execution_count": 125,
     "metadata": {},
     "output_type": "execute_result"
    }
   ],
   "source": [
    "subset11['comb'].isin(df2['comb']).value_counts()"
   ]
  },
  {
   "cell_type": "code",
   "execution_count": 126,
   "metadata": {
    "pycharm": {
     "is_executing": false,
     "name": "#%%\n"
    }
   },
   "outputs": [
    {
     "data": {
      "image/png": "[encoded data removed]",
      "text/plain": [
       "<Figure size 432x288 with 1 Axes>"
      ]
     },
     "metadata": {
      "needs_background": "light"
     },
     "output_type": "display_data"
    }
   ],
   "source": [
    "objects = ('WN_N', 'WN_P', 'LP_N', 'LP_P', 'RefD_N', 'RefD3_P','TOC_N', 'TOC_P')\n",
    "# WN = lex patt wordnet, LP = lex patt, RefD, TOC distance, invece Topic modeling manca\n",
    "# objects = ('M1_Neg', 'M1_Pos', 'M2_Neg', 'M2_Pos', 'M3_Neg', 'M3_Pos','M5_Neg', 'M5_Pos')\n",
    "y_pos = np.arange(len(objects))\n",
    "# performance = [1017,1,1017,1,358,196,464]\n",
    "performance = [997,22,994,25,542,242,304,715]\n",
    "\n",
    "plt.bar(y_pos, performance, align='center', alpha=0.5)\n",
    "plt.xticks(y_pos, objects)\n",
    "plt.xlabel('Subsets')\n",
    "plt.title('Confronto Valori TRUE dei Subset')\n",
    "\n",
    "plt.show()"
   ]
  },
  {
   "cell_type": "code",
   "execution_count": 126,
   "metadata": {
    "pycharm": {
     "is_executing": false
    }
   },
   "outputs": [],
   "source": []
  },
  {
   "cell_type": "markdown",
   "metadata": {},
   "source": [
    "### Precision Recall\n",
    "precision = true positive / true positive + false positive\n",
    "recall = true positive/ trye positive + false negative"
   ]
  },
  {
   "cell_type": "code",
   "execution_count": 127,
   "metadata": {
    "pycharm": {
     "is_executing": false,
     "name": "#%%\n"
    }
   },
   "outputs": [
    {
     "data": {
      "text/plain": [
       "(array([0.66666667, 1.        ]),\n",
       " array([1. , 0.5]),\n",
       " array([0.8       , 0.66666667]),\n",
       " array([2, 2]))"
      ]
     },
     "execution_count": 127,
     "metadata": {},
     "output_type": "execute_result"
    }
   ],
   "source": [
    "y_pred = [0, 1, 0, 0]\n",
    "y_true = [0, 1, 0, 1]\n",
    "precision_recall_fscore_support(y_true, y_pred)\n"
   ]
  }
 ],
 "metadata": {
  "kernelspec": {
   "display_name": "Python 3",
   "language": "python",
   "name": "python3"
  },
  "language_info": {
   "codemirror_mode": {
    "name": "ipython",
    "version": 3
   },
   "file_extension": ".py",
   "mimetype": "text/x-python",
   "name": "python",
   "nbconvert_exporter": "python",
   "pygments_lexer": "ipython3",
   "version": "3.6.8"
  },
  "pycharm": {
   "stem_cell": {
    "cell_type": "raw",
    "metadata": {
     "collapsed": false
    },
    "source": []
   }
  }
 },
 "nbformat": 4,
 "nbformat_minor": 2
}
