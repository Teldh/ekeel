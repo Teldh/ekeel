{
 "cells": [
  {
   "cell_type": "markdown",
   "metadata": {},
   "source": [
    "##### Primary Notion <=> in-degree == 0 & out-degree > 0\n",
    "##### Learning Outcome <=> in-degree > 0 & out-degree == 0"
   ]
  },
  {
   "cell_type": "code",
   "execution_count": 18,
   "metadata": {
    "pycharm": {
     "name": "#%%\n"
    }
   },
   "outputs": [],
   "source": [
    "import networkx as nx\n",
    "import igraph as igraph\n",
    "import pandas as pd\n",
    "import numpy as np\n",
    "from networkx.readwrite import json_graph\n",
    "import json\n",
    "import codecs\n",
    "import csv\n",
    "import ast"
   ]
  },
  {
   "cell_type": "code",
   "execution_count": 19,
   "metadata": {
    "pycharm": {
     "name": "#%%\n"
    }
   },
   "outputs": [
    {
     "name": "stdout",
     "output_type": "stream",
     "text": [
      "Empty DataFrame\n",
      "Columns: [concept, frosina, chiara, samuele, andrea, marco, ilenia]\n",
      "Index: []\n"
     ]
    }
   ],
   "source": [
    "# intialise data of leafs\n",
    "# leafs_dic={'concept':[],'frosina':[],'chiara':[],'samuele':[],'andrea':[],'marco':[],'ilenia':[]}\n",
    "temporal_leafs_df = pd.DataFrame(columns=['concept','frosina','chiara','samuele','andrea', 'marco', 'ilenia'])\n",
    "print(temporal_leafs_df)\n",
    "\n",
    "# intialise data of roots\n",
    "# leafs_dic={'concept':[],'frosina':[],'chiara':[],'samuele':[],'andrea':[],'marco':[],'ilenia':[]}\n",
    "temporal_roots_df = pd.DataFrame(columns=['concept','frosina','chiara','samuele','andrea', 'marco', 'ilenia'])\n",
    "\n",
    "temporal_leafs_roots_df = pd.DataFrame(columns=['concept','frosina','chiara','samuele','andrea', 'marco', 'ilenia'])"
   ]
  },
  {
   "cell_type": "code",
   "execution_count": 20,
   "metadata": {
    "pycharm": {
     "name": "#%%\n"
    }
   },
   "outputs": [
    {
     "name": "stdout",
     "output_type": "stream",
     "text": [
      "combined_terminology_set len: 354\n"
     ]
    }
   ],
   "source": [
    "combined_terminology_set = set()\n",
    "with open('../input_data/annotazioni2/frosina.json', 'r', encoding='utf-8') as json_data:\n",
    "    parsed_json = (json.loads(json_data.read()))\n",
    "    for internal_dic in parsed_json[\"savedInsertedRelations\"]:\n",
    "        combined_terminology_set.add(internal_dic[\"prerequisite\"])\n",
    "        combined_terminology_set.add(internal_dic[\"advanced\"]) \n",
    "with open('../input_data/annotazioni2/chiara.json', 'r', encoding='utf-8') as json_data:\n",
    "    parsed_json = (json.loads(json_data.read()))\n",
    "    for internal_dic in parsed_json[\"savedInsertedRelations\"]:\n",
    "        combined_terminology_set.add(internal_dic[\"prerequisite\"])\n",
    "        combined_terminology_set.add(internal_dic[\"advanced\"])\n",
    "with open('../input_data/annotazioni2/samuele.json', 'r', encoding='utf-8') as json_data:\n",
    "    parsed_json = (json.loads(json_data.read()))\n",
    "    for internal_dic in parsed_json[\"savedInsertedRelations\"]:\n",
    "        combined_terminology_set.add(internal_dic[\"prerequisite\"])\n",
    "        combined_terminology_set.add(internal_dic[\"advanced\"])\n",
    "with open('../input_data/annotazioni2/AndreaGarrone.json', 'r', encoding='utf-8') as json_data:\n",
    "    parsed_json = (json.loads(json_data.read()))\n",
    "    for internal_dic in parsed_json[\"savedInsertedRelations\"]:\n",
    "        combined_terminology_set.add(internal_dic[\"prerequisite\"])\n",
    "        combined_terminology_set.add(internal_dic[\"advanced\"])\n",
    "with open('../input_data/annotazioni2/MarcoMochi.json', 'r', encoding='utf-8') as json_data:\n",
    "    parsed_json = (json.loads(json_data.read()))\n",
    "    for internal_dic in parsed_json[\"savedInsertedRelations\"]:\n",
    "        combined_terminology_set.add(internal_dic[\"prerequisite\"])\n",
    "        combined_terminology_set.add(internal_dic[\"advanced\"])\n",
    "        \n",
    "print('combined_terminology_set len:',len(combined_terminology_set))\n",
    "temporal_leafs_df['concept']=list(combined_terminology_set)\n",
    "leafs_df = temporal_leafs_df.set_index('concept', verify_integrity=True)\n",
    "temporal_roots_df['concept']=list(combined_terminology_set)\n",
    "roots_df = temporal_roots_df.set_index('concept', verify_integrity=True)\n",
    "temporal_leafs_roots_df['concept']=list(combined_terminology_set)\n",
    "leafs_roots_df = temporal_leafs_roots_df.set_index('concept', verify_integrity=True)"
   ]
  },
  {
   "cell_type": "code",
   "execution_count": null,
   "metadata": {
    "pycharm": {
     "name": "#%%\n"
    }
   },
   "outputs": [],
   "source": []
  },
  {
   "cell_type": "markdown",
   "metadata": {},
   "source": [
    "### Get Annotations from json file & create graph\n",
    "#### Run it for every annotator json"
   ]
  },
  {
   "cell_type": "code",
   "execution_count": 32,
   "metadata": {
    "pycharm": {
     "name": "#%%\n"
    }
   },
   "outputs": [
    {
     "name": "stdout",
     "output_type": "stream",
     "text": [
      "# of prereq rel: 282\n",
      "terminology len: 141\n",
      "# rel 275\n",
      "# nodes 141\n"
     ]
    },
    {
     "data": {
      "text/plain": [
       "'IGRAPH DN-- 141 282 -- \\n+ attr: name (v)'"
      ]
     },
     "execution_count": 32,
     "metadata": {},
     "output_type": "execute_result"
    }
   ],
   "source": [
    "# frosina.json\n",
    "# chiara.json\n",
    "# samuele.json\n",
    "# AndreaGarrone.json\n",
    "# MarcoMochi.json\n",
    "# ILENIA_2019-m11-d25-h12-m46-s35.json\n",
    "with open('../input_data/annotazioni2/MarcoMochi.json', 'r', encoding='utf-8') as json_data:\n",
    "    parsed_json = (json.loads(json_data.read()))\n",
    "    # The terminology set is the set terminology of all the annotators\n",
    "    terminology_set = set()\n",
    "    for internal_dic in parsed_json[\"savedInsertedRelations\"]:\n",
    "        terminology_set.add(internal_dic[\"prerequisite\"])\n",
    "        terminology_set.add(internal_dic[\"advanced\"])\n",
    "    # print(terminology_set) \n",
    "    print('# of prereq rel:', len(parsed_json[\"savedInsertedRelations\"]))\n",
    "    print('terminology len:',len(terminology_set))\n",
    "    \n",
    "    networkx_graph = nx.DiGraph()\n",
    "    igraph_graph = igraph.Graph(directed=True)\n",
    "    \n",
    "    networkx_graph.add_nodes_from(terminology_set)\n",
    "    igraph_graph.add_vertices(terminology_set)\n",
    "    terminology_list = list(terminology_set)\n",
    "    \n",
    "    for internal_dic in parsed_json[\"savedInsertedRelations\"]:\n",
    "        prereq = internal_dic[\"prerequisite\"]\n",
    "        subsid = internal_dic[\"advanced\"]\n",
    "        networkx_graph.add_edge(prereq, subsid)\n",
    "        igraph_graph.add_edge(terminology_list.index(prereq), terminology_list.index(subsid))\n",
    "\n",
    "\n",
    "print(\"# rel\",networkx_graph.size())\n",
    "print(\"# nodes\",networkx_graph.number_of_nodes())\n",
    "len(networkx_graph)\n",
    "\n",
    "# len(igraph_graph1.es)\n",
    "igraph.Graph.summary(igraph_graph)"
   ]
  },
  {
   "cell_type": "markdown",
   "metadata": {},
   "source": [
    " ## In-degree, Out-degree calcs"
   ]
  },
  {
   "cell_type": "code",
   "execution_count": 33,
   "metadata": {
    "pycharm": {
     "name": "#%%\n"
    }
   },
   "outputs": [],
   "source": [
    "    # size\n",
    "    num_nodes = len(nx.nodes(networkx_graph))\n",
    "    num_edges = len(nx.edges(networkx_graph))\n",
    "    \n",
    "    # degrees\n",
    "    max_out_degree =igraph.GraphBase.maxdegree(igraph_graph, mode=\"OUT\")\n",
    "\n",
    "    out_degree_dict = {}\n",
    "    in_degree_dict = {}\n",
    "\n",
    "    for (node, val) in networkx_graph.out_degree():\n",
    "        if val > 5:\n",
    "            out_degree_dict[node]=val\n",
    "\n",
    "    for (node, val) in networkx_graph.in_degree():\n",
    "        if val > 1:\n",
    "            in_degree_dict[node]=val\n",
    "\n",
    "    # print(\"out degree\", repr(out_degree_dict))\n",
    "    # print(\"in degree\", repr(in_degree_dict))\n",
    "\n",
    "    with open('out_degree.csv', 'w') as f:\n",
    "        for key in out_degree_dict.keys():\n",
    "            f.write(\"%s,%s\\n\" % (key, out_degree_dict[key]))\n",
    "\n",
    "    with open('in_degree.csv', 'w') as f:\n",
    "        for key in in_degree_dict.keys():\n",
    "            f.write(\"%s,%s\\n\" % (key, in_degree_dict[key]))\n",
    "  \n",
    "    leafs = [{x:networkx_graph.in_degree(x)} for x in networkx_graph.nodes() if networkx_graph.out_degree(x)==0 and networkx_graph.in_degree(x)>=1]\n",
    "    for item in leafs:\n",
    "        leafs_df.loc[next(iter(item)), 'marco'] = item[next(iter(item))]\n",
    "        leafs_roots_df.loc[next(iter(item)), 'marco'] = item[next(iter(item))]\n",
    "    \n",
    "    \n",
    "    roots = [{x:networkx_graph.out_degree(x)}  for x in networkx_graph.nodes() if networkx_graph.in_degree(x)==0 and networkx_graph.out_degree(x)>=1]\n",
    "    for item in roots:\n",
    "        # set negative numbers for the # of out-degree arcs\n",
    "        roots_df.loc[next(iter(item)), 'marco'] = item[next(iter(item))]\n",
    "        leafs_roots_df.loc[next(iter(item)), 'marco'] = -item[next(iter(item))]"
   ]
  },
  {
   "cell_type": "code",
   "execution_count": 34,
   "metadata": {
    "pycharm": {
     "name": "#%% md\t\n"
    }
   },
   "outputs": [
    {
     "name": "stdout",
     "output_type": "stream",
     "text": [
      "                                                   frosina chiara samuele  \\\n",
      "concept                                                                     \n",
      "APPLET                                                   3    NaN       2   \n",
      "TRANSMISSION_CONTROL_PROTOCOL                          NaN      1     NaN   \n",
      "TRANSMISSION_CONTROL_PROTOCOL/INTERNET_PROTOCOL...     NaN    NaN     NaN   \n",
      "FILE_SHARING                                           NaN    NaN       1   \n",
      "CERTIFICATE                                              2    NaN       1   \n",
      "PROPRIETARY_SYSTEM                                     NaN    NaN      -4   \n",
      "PRIVACY                                                 -2    NaN     NaN   \n",
      "REGISTRAR                                              NaN    NaN       1   \n",
      "3G                                                       2      2       2   \n",
      "SEVEN-LEVEL_HIERARCHY                                  NaN    NaN       1   \n",
      "MASS_STORAGE                                           NaN     -1     NaN   \n",
      "WORLD_WIDE_WEB                                           2     -1     NaN   \n",
      "MULTICAST                                              NaN    NaN      -1   \n",
      "DIGITAL_TECHNOLOGY                                     NaN    NaN     NaN   \n",
      "SECURE_VERSION                                         NaN    NaN     NaN   \n",
      "SPYWARE                                                NaN      3     NaN   \n",
      "INTERNET                                               NaN    NaN     NaN   \n",
      "CENTRAL_SERVER                                         NaN    NaN     NaN   \n",
      "FORWARD_MESSAGE                                        NaN    NaN     NaN   \n",
      "HYPERLINK                                              NaN    NaN      -2   \n",
      "OPEN_SYSTEM_INTERCONNECTION                              2    NaN     NaN   \n",
      "SEMANTICS                                               -1    NaN     NaN   \n",
      "INSTANT_MESSAGING                                        1    NaN      -1   \n",
      "PACKET                                                 NaN    NaN     NaN   \n",
      "HYPERTEXT                                               -2    NaN     NaN   \n",
      "ANYCAST                                                  3    NaN       2   \n",
      "AUDITING_SOFTWARE                                        5      3       3   \n",
      "NEWSREADER_APPLICATION                                 NaN    NaN       2   \n",
      "CENTRAL_ACCESS_POINT                                     1     -1      -1   \n",
      "STAR_NETWORK                                            -3      1       2   \n",
      "...                                                    ...    ...     ...   \n",
      "NETWORK_CLASSIFICATIONS                                 -6    NaN     NaN   \n",
      "DIRECTORY_PATH                                         NaN    NaN      -1   \n",
      "HTTPS                                                  NaN    NaN     NaN   \n",
      "INTERNET_APPLICATIONS                                  NaN    NaN     NaN   \n",
      "POST_OFFICE_PROTOCOL_VERSION_3                           4      6       4   \n",
      "INFORMATION                                            NaN    NaN      -1   \n",
      "IPV4                                                   NaN    NaN     NaN   \n",
      "HYPERTEXT_DOCUMENT                                      -4     -5       3   \n",
      "LAYER                                                  NaN    NaN     NaN   \n",
      "OPEN_NETWORK                                           NaN    NaN     NaN   \n",
      "VOICE_OVER_INTERNET_PROTOCOL                           NaN      5     NaN   \n",
      "ANALOG_NETWORK_INFRASTRUCTURE                          NaN    NaN     NaN   \n",
      "BIT_PATTERN                                             -3    NaN      -3   \n",
      "HOST                                                   NaN    NaN     NaN   \n",
      "UNIQUE_ADDRESS                                         NaN    NaN     NaN   \n",
      "BUS_NETWORK                                             -6    NaN     NaN   \n",
      "CARRIER_SENSE_,_MULTIPLE_ACCESS_WITH_COLLISION_...     NaN    NaN     NaN   \n",
      "MULTIPLE_ACCESS_WITH_COLLISION_AVOIDANCE               NaN    NaN     NaN   \n",
      "COLLISION_AVOIDANCE                                    NaN    NaN     NaN   \n",
      "MULTIPURPOSE_INTERNET_MAIL_EXTENSION                   NaN      1       4   \n",
      "FLASH                                                    1    NaN       1   \n",
      "SERVICE                                                NaN    NaN      -1   \n",
      "WIRELESS                                               NaN    NaN     NaN   \n",
      "SEARCH_ENGINE                                          NaN    NaN       1   \n",
      "VIRTUAL_COMPUTER                                       NaN    NaN       2   \n",
      "HYPERTEXT_MARKUP_LANGUAGE                              NaN    NaN     NaN   \n",
      "INTERNET2                                                1    NaN       1   \n",
      "ADDRESS_TRANSLATION_SERVICE                            NaN    NaN     NaN   \n",
      "EARLIER_GENERATION_OF_WIRELESS_PHONE                   NaN    NaN     NaN   \n",
      "ANALOG_NETWORK                                          -1    NaN     NaN   \n",
      "\n",
      "                                                   andrea marco ilenia  \n",
      "concept                                                                 \n",
      "APPLET                                                NaN   NaN    NaN  \n",
      "TRANSMISSION_CONTROL_PROTOCOL                           1     1    NaN  \n",
      "TRANSMISSION_CONTROL_PROTOCOL/INTERNET_PROTOCOL...      2   NaN    NaN  \n",
      "FILE_SHARING                                          NaN   NaN    NaN  \n",
      "CERTIFICATE                                             1     4    NaN  \n",
      "PROPRIETARY_SYSTEM                                    NaN   NaN    NaN  \n",
      "PRIVACY                                               NaN   NaN    NaN  \n",
      "REGISTRAR                                             NaN   NaN    NaN  \n",
      "3G                                                      1   NaN    NaN  \n",
      "SEVEN-LEVEL_HIERARCHY                                 NaN   NaN    NaN  \n",
      "MASS_STORAGE                                          NaN    -2    NaN  \n",
      "WORLD_WIDE_WEB                                        NaN   NaN    NaN  \n",
      "MULTICAST                                             NaN   NaN    NaN  \n",
      "DIGITAL_TECHNOLOGY                                    NaN   NaN    NaN  \n",
      "SECURE_VERSION                                        NaN   NaN    NaN  \n",
      "SPYWARE                                                 3   NaN    NaN  \n",
      "INTERNET                                              NaN   NaN    NaN  \n",
      "CENTRAL_SERVER                                          2   NaN    NaN  \n",
      "FORWARD_MESSAGE                                       NaN   NaN    NaN  \n",
      "HYPERLINK                                             NaN   NaN    NaN  \n",
      "OPEN_SYSTEM_INTERCONNECTION                           NaN   NaN    NaN  \n",
      "SEMANTICS                                             NaN   NaN    NaN  \n",
      "INSTANT_MESSAGING                                       1     2    NaN  \n",
      "PACKET                                                NaN   NaN    NaN  \n",
      "HYPERTEXT                                              -8   NaN    NaN  \n",
      "ANYCAST                                               NaN   NaN    NaN  \n",
      "AUDITING_SOFTWARE                                       3    -1    NaN  \n",
      "NEWSREADER_APPLICATION                                NaN   NaN    NaN  \n",
      "CENTRAL_ACCESS_POINT                                   -1    -1    NaN  \n",
      "STAR_NETWORK                                            2   NaN    NaN  \n",
      "...                                                   ...   ...    ...  \n",
      "NETWORK_CLASSIFICATIONS                               NaN   NaN    NaN  \n",
      "DIRECTORY_PATH                                        NaN   NaN    NaN  \n",
      "HTTPS                                                 NaN   NaN    NaN  \n",
      "INTERNET_APPLICATIONS                                 NaN   NaN    NaN  \n",
      "POST_OFFICE_PROTOCOL_VERSION_3                          1     4    NaN  \n",
      "INFORMATION                                            -4    -3    NaN  \n",
      "IPV4                                                  NaN   NaN    NaN  \n",
      "HYPERTEXT_DOCUMENT                                      2    -2    NaN  \n",
      "LAYER                                                  -5   NaN    NaN  \n",
      "OPEN_NETWORK                                            1     1    NaN  \n",
      "VOICE_OVER_INTERNET_PROTOCOL                            4     5    NaN  \n",
      "ANALOG_NETWORK_INFRASTRUCTURE                         NaN   NaN    NaN  \n",
      "BIT_PATTERN                                           NaN    -2    NaN  \n",
      "HOST                                                  NaN   NaN    NaN  \n",
      "UNIQUE_ADDRESS                                        NaN   NaN    NaN  \n",
      "BUS_NETWORK                                           NaN   NaN    NaN  \n",
      "CARRIER_SENSE_,_MULTIPLE_ACCESS_WITH_COLLISION_...    NaN   NaN    NaN  \n",
      "MULTIPLE_ACCESS_WITH_COLLISION_AVOIDANCE                1   NaN    NaN  \n",
      "COLLISION_AVOIDANCE                                   NaN     4    NaN  \n",
      "MULTIPURPOSE_INTERNET_MAIL_EXTENSION                  NaN   NaN    NaN  \n",
      "FLASH                                                 NaN   NaN    NaN  \n",
      "SERVICE                                               NaN   NaN    NaN  \n",
      "WIRELESS                                              NaN   NaN    NaN  \n",
      "SEARCH_ENGINE                                         NaN     2    NaN  \n",
      "VIRTUAL_COMPUTER                                      NaN   NaN    NaN  \n",
      "HYPERTEXT_MARKUP_LANGUAGE                             NaN   NaN    NaN  \n",
      "INTERNET2                                             NaN     1    NaN  \n",
      "ADDRESS_TRANSLATION_SERVICE                           NaN   NaN    NaN  \n",
      "EARLIER_GENERATION_OF_WIRELESS_PHONE                  NaN   NaN    NaN  \n",
      "ANALOG_NETWORK                                        NaN   NaN    NaN  \n",
      "\n",
      "[354 rows x 6 columns]\n"
     ]
    }
   ],
   "source": [
    "### Create File CSV\n",
    " \n",
    "#print(leafs_df)\n",
    "leafs_df.to_csv (r'export_LOs.csv', index = True, header=True)\n",
    "\n",
    "# print(roots_df)\n",
    "roots_df.to_csv (r'export_PNs.csv', index = True, header=True)\n",
    "\n",
    "print(leafs_roots_df)\n",
    "leafs_roots_df.to_csv (r'export_PNs_LOs.csv', index = True, header=True)"
   ]
  },
  {
   "cell_type": "code",
   "execution_count": 35,
   "metadata": {},
   "outputs": [
    {
     "name": "stdout",
     "output_type": "stream",
     "text": [
      "summary statistic leafs         frosina  chiara  samuele  andrea  marco  ilenia\n",
      "count        76      46      101     100     62     0.0\n",
      "unique        6       7        7       7      6     0.0\n",
      "top           1       2        1       1      2     NaN\n",
      "freq         26      14       48      38     21     NaN\n",
      "mean frosina    2.328947\n",
      "chiara     2.695652\n",
      "samuele    1.920792\n",
      "andrea     2.040000\n",
      "marco      2.306452\n",
      "ilenia          NaN\n",
      "dtype: float64\n",
      "corr Empty DataFrame\n",
      "Columns: []\n",
      "Index: []\n",
      "# of non null frosina     76\n",
      "chiara      46\n",
      "samuele    101\n",
      "andrea     100\n",
      "marco       62\n",
      "ilenia       0\n",
      "dtype: int64\n",
      "standard deviation frosina    1.340529\n",
      "chiara     1.836295\n",
      "samuele    1.205680\n",
      "andrea     1.222020\n",
      "marco      1.325521\n",
      "ilenia          NaN\n",
      "dtype: float64\n"
     ]
    }
   ],
   "source": [
    "print(\"summary statistic leafs\",leafs_df.describe())\n",
    "print(\"mean\", leafs_df.mean())\n",
    "print(\"corr\", leafs_df.corr())\n",
    "print(\"# of non null\", leafs_df.count())\n",
    "print(\"standard deviation\", leafs_df.std())"
   ]
  },
  {
   "cell_type": "code",
   "execution_count": 36,
   "metadata": {},
   "outputs": [
    {
     "name": "stdout",
     "output_type": "stream",
     "text": [
      "summary statistic roots         frosina  chiara  samuele  andrea  marco  ilenia\n",
      "count        58      24       69      28     26     0.0\n",
      "unique       10       8       11      13      6     0.0\n",
      "top           1       1        1       1      1     NaN\n",
      "freq         21      14       36       8     12     NaN\n",
      "mean frosina    3.327586\n",
      "chiara     4.166667\n",
      "samuele    2.753623\n",
      "andrea     6.285714\n",
      "marco      3.461538\n",
      "ilenia          NaN\n",
      "dtype: float64\n",
      "corr Empty DataFrame\n",
      "Columns: []\n",
      "Index: []\n",
      "# of non null frosina    58\n",
      "chiara     24\n",
      "samuele    69\n",
      "andrea     28\n",
      "marco      26\n",
      "ilenia      0\n",
      "dtype: int64\n",
      "standard deviation frosina    3.278788\n",
      "chiara     6.126682\n",
      "samuele    3.331692\n",
      "andrea     7.639358\n",
      "marco      4.456283\n",
      "ilenia          NaN\n",
      "dtype: float64\n"
     ]
    }
   ],
   "source": [
    "print(\"summary statistic roots\",roots_df.describe())\n",
    "print(\"mean\", roots_df.mean())\n",
    "print(\"corr\", roots_df.corr())\n",
    "print(\"# of non null\", roots_df.count())\n",
    "print(\"standard deviation\", roots_df.std())"
   ]
  },
  {
   "cell_type": "code",
   "execution_count": 37,
   "metadata": {},
   "outputs": [
    {
     "name": "stdout",
     "output_type": "stream",
     "text": [
      "          frosina    chiara   samuele    andrea     marco  ilenia\n",
      "frosina  1.000000  0.502648  0.562756  0.316589  0.560976     NaN\n",
      "chiara   0.502648  1.000000  0.418927  0.409685  0.697457     NaN\n",
      "samuele  0.562756  0.418927  1.000000  0.419566  0.371946     NaN\n",
      "andrea   0.316589  0.409685  0.419566  1.000000  0.368816     NaN\n",
      "marco    0.560976  0.697457  0.371946  0.368816  1.000000     NaN\n",
      "ilenia        NaN       NaN       NaN       NaN       NaN     NaN\n",
      "          frosina    chiara   samuele    andrea     marco  ilenia\n",
      "frosina  1.000000  0.251083  0.333624  0.096109  0.290273     NaN\n",
      "chiara   0.251083  1.000000  0.278790  0.295086  0.406904     NaN\n",
      "samuele  0.333624  0.278790  1.000000  0.180666  0.241585     NaN\n",
      "andrea   0.096109  0.295086  0.180666  1.000000  0.262171     NaN\n",
      "marco    0.290273  0.406904  0.241585  0.262171  1.000000     NaN\n",
      "ilenia        NaN       NaN       NaN       NaN       NaN     1.0\n",
      "          frosina    chiara   samuele    andrea     marco  ilenia\n",
      "frosina  1.000000  0.279469  0.389168  0.111137  0.324305     NaN\n",
      "chiara   0.279469  1.000000  0.315552  0.323134  0.433303     NaN\n",
      "samuele  0.389168  0.315552  1.000000  0.211858  0.276327     NaN\n",
      "andrea   0.111137  0.323134  0.211858  1.000000  0.289452     NaN\n",
      "marco    0.324305  0.433303  0.276327  0.289452  1.000000     NaN\n",
      "ilenia        NaN       NaN       NaN       NaN       NaN     NaN\n"
     ]
    }
   ],
   "source": [
    "leafs_roots_df.astype(float)\n",
    "df_0=leafs_roots_df.fillna(0)\n",
    "#print(df_0)\n",
    "print(df_0.corr(method ='pearson'))\n",
    "print(df_0.corr(method ='kendall'))\n",
    "print(df_0.corr(method ='spearman'))"
   ]
  },
  {
   "cell_type": "code",
   "execution_count": null,
   "outputs": [],
   "source": [
    "roots_df.astype(float)\n",
    "df_roots_0=roots_df.fillna(0)\n",
    "#print(df_0)\n",
    "print(df_roots_0.corr(method ='pearson'))\n",
    "print(df_roots_0.corr(method ='kendall'))\n",
    "print(df_roots_0.corr(method ='spearman'))"
   ],
   "metadata": {
    "collapsed": false,
    "pycharm": {
     "name": "#%%\n"
    }
   }
  },
  {
   "cell_type": "code",
   "execution_count": null,
   "outputs": [],
   "source": [
    "leafs_df.astype(float)\n",
    "df_leafs_0=leafs_df.fillna(0)\n",
    "#print(df_0)\n",
    "print(df_leafs_0.corr(method ='pearson'))\n",
    "print(df_leafs_0.corr(method ='kendall'))\n",
    "print(df_leafs_0.corr(method ='spearman'))"
   ],
   "metadata": {
    "collapsed": false,
    "pycharm": {
     "name": "#%%\n"
    }
   }
  },
  {
   "cell_type": "code",
   "execution_count": 37,
   "metadata": {},
   "outputs": [
    {
     "name": "stdout",
     "output_type": "stream",
     "text": [
      "          frosina    chiara   samuele    andrea     marco  ilenia\n",
      "frosina  1.000000  0.563050  0.536119  0.362470  0.665114     NaN\n",
      "chiara   0.563050  1.000000  0.418964  0.380818  0.835807     NaN\n",
      "samuele  0.536119  0.418964  1.000000  0.456579  0.364967     NaN\n",
      "andrea   0.362470  0.380818  0.456579  1.000000  0.358915     NaN\n",
      "marco    0.665114  0.835807  0.364967  0.358915  1.000000     NaN\n",
      "ilenia        NaN       NaN       NaN       NaN       NaN     NaN\n",
      "          frosina    chiara   samuele    andrea     marco  ilenia\n",
      "frosina  1.000000  0.226214  0.086681  0.116420  0.316033     NaN\n",
      "chiara   0.226214  1.000000  0.123328  0.255797  0.573452     NaN\n",
      "samuele  0.086681  0.123328  1.000000  0.186674  0.203627     NaN\n",
      "andrea   0.116420  0.255797  0.186674  1.000000  0.243899     NaN\n",
      "marco    0.316033  0.573452  0.203627  0.243899  1.000000     NaN\n",
      "ilenia        NaN       NaN       NaN       NaN       NaN     1.0\n",
      "          frosina    chiara   samuele    andrea     marco  ilenia\n",
      "frosina  1.000000  0.235081  0.092416  0.123170  0.326168     NaN\n",
      "chiara   0.235081  1.000000  0.128522  0.261310  0.582032     NaN\n",
      "samuele  0.092416  0.128522  1.000000  0.195166  0.211895     NaN\n",
      "andrea   0.123170  0.261310  0.195166  1.000000  0.251000     NaN\n",
      "marco    0.326168  0.582032  0.211895  0.251000  1.000000     NaN\n",
      "ilenia        NaN       NaN       NaN       NaN       NaN     NaN\n"
     ]
    }
   ],
   "source": [
    "### Initialize"
   ]
  },
  {
   "cell_type": "code",
   "execution_count": 38,
   "metadata": {},
   "outputs": [
    {
     "name": "stdout",
     "output_type": "stream",
     "text": [
      "          frosina    chiara   samuele    andrea     marco  ilenia\n",
      "frosina  1.000000  0.277493  0.504072  0.024313  0.243412     NaN\n",
      "chiara   0.277493  1.000000  0.332779  0.471413  0.356157     NaN\n",
      "samuele  0.504072  0.332779  1.000000  0.124101  0.249624     NaN\n",
      "andrea   0.024313  0.471413  0.124101  1.000000  0.344117     NaN\n",
      "marco    0.243412  0.356157  0.249624  0.344117  1.000000     NaN\n",
      "ilenia        NaN       NaN       NaN       NaN       NaN     NaN\n",
      "          frosina    chiara   samuele    andrea     marco  ilenia\n",
      "frosina  1.000000  0.230630  0.382257  0.024037  0.202765     NaN\n",
      "chiara   0.230630  1.000000  0.308206  0.342331  0.345145     NaN\n",
      "samuele  0.382257  0.308206  1.000000  0.089014  0.175743     NaN\n",
      "andrea   0.024037  0.342331  0.089014  1.000000  0.323269     NaN\n",
      "marco    0.202765  0.345145  0.175743  0.323269  1.000000     NaN\n",
      "ilenia        NaN       NaN       NaN       NaN       NaN     1.0\n",
      "          frosina    chiara   samuele    andrea     marco  ilenia\n",
      "frosina  1.000000  0.244328  0.410258  0.026202  0.215465     NaN\n",
      "chiara   0.244328  1.000000  0.328972  0.364155  0.361852     NaN\n",
      "samuele  0.410258  0.328972  1.000000  0.098982  0.188393     NaN\n",
      "andrea   0.026202  0.364155  0.098982  1.000000  0.346979     NaN\n",
      "marco    0.215465  0.361852  0.188393  0.346979  1.000000     NaN\n",
      "ilenia        NaN       NaN       NaN       NaN       NaN     NaN\n"
     ]
    }
   ],
   "source": [
    "leafs_df.astype(float)\n",
    "df_leafs_0=leafs_df.fillna(0)\n",
    "#print(df_0)\n",
    "print(df_leafs_0.corr(method ='pearson'))\n",
    "print(df_leafs_0.corr(method ='kendall'))\n",
    "print(df_leafs_0.corr(method ='spearman'))"
   ]
  },
  {
   "cell_type": "markdown",
   "metadata": {},
   "source": [
    "### Initialize"
   ]
  },
  {
   "cell_type": "code",
   "execution_count": null,
   "metadata": {
    "pycharm": {
     "name": "#%%\n"
    }
   },
   "outputs": [],
   "source": [
    "# G_nx, G_ig, annotator = create_graphs('datasets/prova_relazione_tool.csv', dataset)\n",
    "# metrics = compute_metrics(G_nx, G_ig)\n",
    "# detected_cycles = detect_loops(G_nx, G_ig)\n",
    "# trans_dict = detect_transitive_edges(G_nx, cutoff=metrics['diameter'])\n",
    "# membership = detect_clusters(G_ig)\n",
    "# graph_dict = create_graph_dict(dataset, gold_with_annotators, annotator, metrics, detected_cycles, trans_dict, membership)\n",
    "# output_json = export_to_json(\"output_files//prova.json\", graph_dict)\n",
    "\n",
    "\n",
    "\n",
    "\n"
   ]
  }
 ],
 "metadata": {
  "kernelspec": {
   "display_name": "Python 3",
   "language": "python",
   "name": "python3"
  },
  "language_info": {
   "codemirror_mode": {
    "name": "ipython",
    "version": 3
   },
   "file_extension": ".py",
   "mimetype": "text/x-python",
   "name": "python",
   "nbconvert_exporter": "python",
   "pygments_lexer": "ipython3",
   "version": "3.6.8"
  }
 },
 "nbformat": 4,
 "nbformat_minor": 1
}