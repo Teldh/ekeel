{
 "cells": [
  {
   "cell_type": "code",
   "execution_count": null,
   "metadata": {},
   "outputs": [],
   "source": [
    "import networkx as nx\n",
    "import igraph as igraph\n",
    "import pandas as pd\n",
    "import numpy as np\n",
    "from networkx.readwrite import json_graph\n",
    "import json\n",
    "import codecs\n",
    "import csv\n",
    "import ast\n",
    "from collections import defaultdict"
   ]
  },
  {
   "cell_type": "code",
   "execution_count": null,
   "metadata": {},
   "outputs": [],
   "source": [
    "combined_terminology_set = set()\n",
    "transitive_dict= defaultdict(dict)\n",
    "        \n",
    "        \n",
    "with open('../input_data/annotazioni2/frosina.json', 'r', encoding='utf-8') as json_data:\n",
    "    parsed_json = (json.loads(json_data.read()))\n",
    "    for internal_dic in parsed_json[\"savedInsertedRelations\"]:\n",
    "        combined_terminology_set.add(internal_dic[\"prerequisite\"])\n",
    "        combined_terminology_set.add(internal_dic[\"advanced\"]) \n",
    "with open('../input_data/annotazioni2/chiara.json', 'r', encoding='utf-8') as json_data:\n",
    "    parsed_json = (json.loads(json_data.read()))\n",
    "    for internal_dic in parsed_json[\"savedInsertedRelations\"]:\n",
    "        combined_terminology_set.add(internal_dic[\"prerequisite\"])\n",
    "        combined_terminology_set.add(internal_dic[\"advanced\"]) \n",
    "with open('../input_data/annotazioni2/samuele.json', 'r', encoding='utf-8') as json_data:\n",
    "    parsed_json = (json.loads(json_data.read()))\n",
    "    for internal_dic in parsed_json[\"savedInsertedRelations\"]:\n",
    "        combined_terminology_set.add(internal_dic[\"prerequisite\"])\n",
    "        combined_terminology_set.add(internal_dic[\"advanced\"])\n",
    "with open('../input_data/annotazioni2/AndreaGarrone.json', 'r', encoding='utf-8') as json_data:\n",
    "    parsed_json = (json.loads(json_data.read()))\n",
    "    for internal_dic in parsed_json[\"savedInsertedRelations\"]:\n",
    "        combined_terminology_set.add(internal_dic[\"prerequisite\"])\n",
    "        combined_terminology_set.add(internal_dic[\"advanced\"])\n",
    "with open('../input_data/annotazioni2/MarcoMochi.json', 'r', encoding='utf-8') as json_data:\n",
    "    parsed_json = (json.loads(json_data.read()))\n",
    "    for internal_dic in parsed_json[\"savedInsertedRelations\"]:\n",
    "        combined_terminology_set.add(internal_dic[\"prerequisite\"])\n",
    "        combined_terminology_set.add(internal_dic[\"advanced\"])\n",
    "        \n",
    "print('combined_terminology_set len:',len(combined_terminology_set))\n",
    "\n",
    "for i in combined_terminology_set:\n",
    "    for j in combined_terminology_set:\n",
    "        transitive_dict[i][j]= '0'"
   ]
  }
 ],
 "metadata": {
  "kernelspec": {
   "display_name": "Python 3",
   "language": "python",
   "name": "python3"
  },
  "language_info": {
   "codemirror_mode": {
    "name": "ipython",
    "version": 3
   },
   "file_extension": ".py",
   "mimetype": "text/x-python",
   "name": "python",
   "nbconvert_exporter": "python",
   "pygments_lexer": "ipython3",
   "version": "3.6.8"
  }
 },
 "nbformat": 4,
 "nbformat_minor": 4
}
