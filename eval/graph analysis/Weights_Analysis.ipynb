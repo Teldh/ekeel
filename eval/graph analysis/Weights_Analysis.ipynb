{
 "cells": [
  {
   "cell_type": "code",
   "execution_count": null,
   "metadata": {},
   "outputs": [],
   "source": [
    "import networkx as nx\n",
    "import igraph as igraph\n",
    "import pandas as pd\n",
    "import numpy as np\n",
    "from networkx.readwrite import json_graph\n",
    "import json\n",
    "import codecs\n",
    "import csv\n",
    "import ast\n",
    "from collections import defaultdict"
   ]
  },
  {
   "cell_type": "markdown",
   "metadata": {
    "pycharm": {
     "name": "#%% md\n"
    }
   },
   "source": [
    "# Matrix with weights\n",
    "## 1 == weak, 2 == strong"
   ]
  },
  {
   "cell_type": "code",
   "execution_count": 4,
   "metadata": {},
   "outputs": [],
   "source": [
    "nesteddict = defaultdict(dict)\n",
    "combined_terminology_set = set()\n",
    "networkx_graph1 = nx.DiGraph()\n",
    "networkx_graph2 = nx.DiGraph()\n",
    "networkx_graph3 = nx.DiGraph()\n",
    "networkx_graph4 = nx.DiGraph()\n",
    "networkx_graph5 = nx.DiGraph()\n",
    "with open('../input_data/annotazioni2/frosina.json', 'r', encoding='utf-8') as json_data:\n",
    "    parsed_json = (json.loads(json_data.read()))\n",
    "    for internal_dic in parsed_json[\"savedInsertedRelations\"]:\n",
    "        combined_terminology_set.add(internal_dic[\"prerequisite\"])\n",
    "        combined_terminology_set.add(internal_dic[\"advanced\"]) \n",
    "with open('../input_data/annotazioni2/chiara.json', 'r', encoding='utf-8') as json_data:\n",
    "    parsed_json = (json.loads(json_data.read()))\n",
    "    for internal_dic in parsed_json[\"savedInsertedRelations\"]:\n",
    "        combined_terminology_set.add(internal_dic[\"prerequisite\"])\n",
    "        combined_terminology_set.add(internal_dic[\"advanced\"]) \n",
    "with open('../input_data/annotazioni2/samuele.json', 'r', encoding='utf-8') as json_data:\n",
    "    parsed_json = (json.loads(json_data.read()))\n",
    "    for internal_dic in parsed_json[\"savedInsertedRelations\"]:\n",
    "        combined_terminology_set.add(internal_dic[\"prerequisite\"])\n",
    "        combined_terminology_set.add(internal_dic[\"advanced\"])\n",
    "with open('../input_data/annotazioni2/AndreaGarrone.json', 'r', encoding='utf-8') as json_data:\n",
    "    parsed_json = (json.loads(json_data.read()))\n",
    "    for internal_dic in parsed_json[\"savedInsertedRelations\"]:\n",
    "        combined_terminology_set.add(internal_dic[\"prerequisite\"])\n",
    "        combined_terminology_set.add(internal_dic[\"advanced\"])\n",
    "with open('../input_data/annotazioni2/MarcoMochi.json', 'r', encoding='utf-8') as json_data:\n",
    "    parsed_json = (json.loads(json_data.read()))\n",
    "    for internal_dic in parsed_json[\"savedInsertedRelations\"]:\n",
    "        combined_terminology_set.add(internal_dic[\"prerequisite\"])\n",
    "        combined_terminology_set.add(internal_dic[\"advanced\"])\n",
    "\n",
    "for i in combined_terminology_set:\n",
    "    for j in combined_terminology_set:\n",
    "        nesteddict[i][j]= '0'\n",
    "        \n",
    "networkx_graph1.add_nodes_from(combined_terminology_set)  \n",
    "networkx_graph2.add_nodes_from(combined_terminology_set)\n",
    "networkx_graph3.add_nodes_from(combined_terminology_set)\n",
    "networkx_graph4.add_nodes_from(combined_terminology_set)\n",
    "networkx_graph5.add_nodes_from(combined_terminology_set)\n",
    "        \n",
    "# print('combined_terminology_set len:',len(combined_terminology_set))\n",
    "# print(nesteddict)\n",
    "# print(len(nesteddict))\n",
    "\n",
    "with open('../input_data/annotazioni2/frosina.json', 'r', encoding='utf-8') as json_data1:\n",
    "    parsed_json1 = (json.loads(json_data1.read()))\n",
    "    for internal_dic in parsed_json1[\"savedInsertedRelations\"]:\n",
    "        prereq = internal_dic[\"prerequisite\"]\n",
    "        subsid = internal_dic[\"advanced\"]\n",
    "        if(internal_dic['weight']==\"strong\"):\n",
    "            networkx_graph1.add_edge(prereq, subsid, weight=1)\n",
    "            if(nesteddict[prereq][subsid]=='0'):\n",
    "                nesteddict[prereq][subsid]='f_2'\n",
    "            else:\n",
    "                nesteddict[prereq][subsid]=nesteddict[prereq][subsid]+'f_2'\n",
    "            \n",
    "        elif(internal_dic['weight']==\"weak\"):\n",
    "            networkx_graph1.add_edge(prereq, subsid, weight=0.5)\n",
    "            if(nesteddict[prereq][subsid]=='0'):\n",
    "                nesteddict[prereq][subsid]='f_1'\n",
    "            else:\n",
    "                nesteddict[prereq][subsid]=nesteddict[prereq][subsid]+'f_1'\n",
    "            \n",
    "        \n",
    "with open('../input_data/annotazioni2/chiara.json', 'r', encoding='utf-8') as json_data2:\n",
    "    parsed_json2 = (json.loads(json_data2.read()))\n",
    "    for internal_dic in parsed_json2[\"savedInsertedRelations\"]:\n",
    "        prereq = internal_dic[\"prerequisite\"]\n",
    "        subsid = internal_dic[\"advanced\"]\n",
    "        if(internal_dic['weight']==\"strong\"):\n",
    "            networkx_graph2.add_edge(prereq, subsid, weight=1)\n",
    "            if(nesteddict[prereq][subsid]=='0'):\n",
    "                nesteddict[prereq][subsid]='c_2'\n",
    "            else:\n",
    "                nesteddict[prereq][subsid]=nesteddict[prereq][subsid]+'c_2'\n",
    "            \n",
    "        elif(internal_dic['weight']==\"weak\"):\n",
    "            networkx_graph2.add_edge(prereq, subsid, weight=0.5)\n",
    "            if(nesteddict[prereq][subsid]=='0'):\n",
    "                nesteddict[prereq][subsid]='c_1'\n",
    "            else:\n",
    "                nesteddict[prereq][subsid]=nesteddict[prereq][subsid]+'c_1'\n",
    "\n",
    "with open('../input_data/annotazioni2/samuele.json', 'r', encoding='utf-8') as json_data3:\n",
    "    parsed_json3 = (json.loads(json_data3.read()))\n",
    "    for internal_dic in parsed_json3[\"savedInsertedRelations\"]:\n",
    "        prereq = internal_dic[\"prerequisite\"]\n",
    "        subsid = internal_dic[\"advanced\"]\n",
    "        if(internal_dic['weight']==\"strong\"):\n",
    "            networkx_graph3.add_edge(prereq, subsid, weight=1)\n",
    "            if(nesteddict[prereq][subsid]=='0'):\n",
    "                nesteddict[prereq][subsid]='s_2'\n",
    "            else:\n",
    "                nesteddict[prereq][subsid]=nesteddict[prereq][subsid]+'s_2'\n",
    "            \n",
    "        elif(internal_dic['weight']==\"weak\"):\n",
    "            networkx_graph3.add_edge(prereq, subsid, weight=0.5)\n",
    "            if(nesteddict[prereq][subsid]=='0'):\n",
    "                nesteddict[prereq][subsid]='s_1'\n",
    "            else:\n",
    "                nesteddict[prereq][subsid]=nesteddict[prereq][subsid]+'s_1'\n",
    "    \n",
    "with open('../input_data/annotazioni2/AndreaGarrone.json', 'r', encoding='utf-8') as json_data4:\n",
    "    parsed_json4 = (json.loads(json_data4.read()))\n",
    "    for internal_dic in parsed_json4[\"savedInsertedRelations\"]:\n",
    "        prereq = internal_dic[\"prerequisite\"]\n",
    "        subsid = internal_dic[\"advanced\"]\n",
    "        if(internal_dic['weight']==\"strong\"):\n",
    "            networkx_graph4.add_edge(prereq, subsid, weight=1)\n",
    "            if(nesteddict[prereq][subsid]=='0'):\n",
    "                nesteddict[prereq][subsid]='a_2'\n",
    "            else:\n",
    "                nesteddict[prereq][subsid]=nesteddict[prereq][subsid]+'a_2'\n",
    "            \n",
    "        elif(internal_dic['weight']==\"weak\"):\n",
    "            networkx_graph4.add_edge(prereq, subsid, weight=0.5)\n",
    "            if(nesteddict[prereq][subsid]=='0'):\n",
    "                nesteddict[prereq][subsid]='a_1'\n",
    "            else:\n",
    "                nesteddict[prereq][subsid]=nesteddict[prereq][subsid]+'a_1'\n",
    "    \n",
    "with open('../input_data/annotazioni2/MarcoMochi.json', 'r', encoding='utf-8') as json_data5:\n",
    "    parsed_json5 = (json.loads(json_data5.read()))\n",
    "    for internal_dic in parsed_json5[\"savedInsertedRelations\"]:\n",
    "        prereq = internal_dic[\"prerequisite\"]\n",
    "        subsid = internal_dic[\"advanced\"]\n",
    "        if(internal_dic['weight']==\"strong\"):\n",
    "            networkx_graph5.add_edge(prereq, subsid, weight=1)\n",
    "            if(nesteddict[prereq][subsid]=='0'):\n",
    "                nesteddict[prereq][subsid]='m_2'\n",
    "            else:\n",
    "                nesteddict[prereq][subsid]=nesteddict[prereq][subsid]+'m_2'\n",
    "            \n",
    "        elif(internal_dic['weight']==\"weak\"):\n",
    "            networkx_graph5.add_edge(prereq, subsid, weight=0.5)\n",
    "            if(nesteddict[prereq][subsid]=='0'):\n",
    "                nesteddict[prereq][subsid]='m_1'\n",
    "            else:\n",
    "                nesteddict[prereq][subsid]=nesteddict[prereq][subsid]+'m_1'"
   ]
  },
  {
   "cell_type": "code",
   "execution_count": null,
   "outputs": [],
   "source": [
    "# writing Weights UNION MATRIX\n",
    "with open('weights.csv', 'w') as f:\n",
    "    writer = csv.writer(f)\n",
    "    writer.writerow(combined_terminology_set)\n",
    "    for k_ex,v_ex in nesteddict.items():\n",
    "        row=[]\n",
    "        for k_in, v_in in v_ex.items():\n",
    "            # print(\"[k] + v\",v_in)\n",
    "            row.append(v_in)\n",
    "        writer.writerow(row)"
   ],
   "metadata": {
    "collapsed": false,
    "pycharm": {
     "name": "#%%\n"
    }
   }
  },
  {
   "cell_type": "code",
   "execution_count": null,
   "outputs": [],
   "source": [],
   "metadata": {
    "collapsed": false,
    "pycharm": {
     "name": "#%%\n"
    }
   }
  },
  {
   "cell_type": "code",
   "execution_count": 5,
   "metadata": {},
   "outputs": [],
   "source": []
  },
  {
   "cell_type": "code",
   "execution_count": null,
   "metadata": {},
   "outputs": [],
   "source": []
  }
 ],
 "metadata": {
  "kernelspec": {
   "display_name": "Python 3",
   "language": "python",
   "name": "python3"
  },
  "language_info": {
   "codemirror_mode": {
    "name": "ipython",
    "version": 3
   },
   "file_extension": ".py",
   "mimetype": "text/x-python",
   "name": "python",
   "nbconvert_exporter": "python",
   "pygments_lexer": "ipython3",
   "version": "3.6.8"
  },
  "pycharm": {
   "stem_cell": {
    "cell_type": "raw",
    "source": [],
    "metadata": {
     "collapsed": false
    }
   }
  }
 },
 "nbformat": 4,
 "nbformat_minor": 1
}