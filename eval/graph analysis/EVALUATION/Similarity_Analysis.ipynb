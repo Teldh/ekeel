{
 "cells": [
  {
   "cell_type": "code",
   "execution_count": 1,
   "metadata": {
    "pycharm": {
     "name": "#%%\n"
    }
   },
   "outputs": [],
   "source": [
    "\n",
    "\n",
    "from os import listdir\n",
    "import json\n",
    "import pandas as pd\n",
    "import networkx as nx\n",
    "import os\n",
    "import csv"
   ]
  },
  {
   "cell_type": "markdown",
   "metadata": {},
   "source": [
    "## Data Preparation"
   ]
  },
  {
   "cell_type": "code",
   "execution_count": 2,
   "outputs": [
    {
     "name": "stdout",
     "output_type": "stream",
     "text": [
      "Andrea_Unique.csv\n",
      "File:  Andrea_Unique\n",
      "\tNum of relations: 233 \n",
      "\n",
      "Samu.csv\n",
      "File:  Samu\n",
      "\tNum of relations: 368 \n",
      "\n",
      "Chiara.csv\n",
      "File:  Chiara\n",
      "\tNum of relations: 275 \n",
      "\n",
      "Frosi.csv\n",
      "File:  Frosi\n",
      "\tNum of relations: 392 \n",
      "\n",
      "Marco.csv\n",
      "File:  Marco\n",
      "\tNum of relations: 253 \n",
      "\n",
      "Ilenia.csv\n",
      "File:  Ilenia\n",
      "\tNum of relations: 87 \n",
      "\n"
     ]
    }
   ],
   "source": [
    "from sklearn.neighbors.tests.test_dist_metrics import n2, n1\n",
    "input_dir = \"annotazioni_revisionate/vecchie/\"\n",
    "raters={}\n",
    "\n",
    "\n",
    "for file in listdir(input_dir):\n",
    "    print(file)\n",
    "    name=os.path.splitext(os.path.basename(file))[0]\n",
    "    print(\"File: \", name)\n",
    "    # raters.append(name)\n",
    "\n",
    "    # use only columns [\"prerequisite\", \"advanced\", \"weight\", \"agreem\", \"revised\"]\n",
    "    curr_df = pd.read_csv(input_dir + file, sep=\",\", encoding=\"utf-8\", usecols=[1, 2, 4, 5, 9])\n",
    "    raters[name]=curr_df\n",
    "\n",
    "    # keep only relation with agreemen > 1 or those with agreement 1 but still present after revision\n",
    "    curr_df = curr_df[(curr_df[\"agreem\"] > 1) | (curr_df[\"Revised\"].isin([\"0.5\", \"0,5\", \"1\", 1, 0.5]) ) ]\n",
    "    print(\"\\tNum of relations:\", curr_df.shape[0], \"\\n\")\n",
    "    #for i, rel in curr_df.iterrows():\n",
    "        # if rel['prerequisite'] in concepts and rel['advanced'] in concepts:"
   ],
   "metadata": {
    "collapsed": false,
    "pycharm": {
     "name": "#%%\n"
    }
   }
  },
  {
   "cell_type": "markdown",
   "source": [
    "## Graph"
   ],
   "metadata": {
    "collapsed": false,
    "pycharm": {
     "name": "#%% md\n"
    }
   }
  },
  {
   "cell_type": "code",
   "execution_count": 3,
   "outputs": [],
   "source": [
    "def create_graphs(dataset):\n",
    "    \"\"\"\n",
    "    Returns a networkx graph from a pandas dataframe with columns [\"prerequisite\", \"advanced\"]\n",
    "    \"\"\"\n",
    "\n",
    "    G_nx = nx.DiGraph()\n",
    "\n",
    "    for i, r in dataset.iterrows():\n",
    "        G_nx.add_node(r[\"prerequisite\"],label=r[\"prerequisite\"])\n",
    "        G_nx.add_node(r[\"advanced\"],label=r[\"advanced\"])\n",
    "        G_nx.add_edge(r[\"prerequisite\"], r[\"advanced\"])\n",
    "\n",
    "    return G_nx"
   ],
   "metadata": {
    "collapsed": false,
    "pycharm": {
     "name": "#%%\n"
    }
   }
  },
  {
   "cell_type": "markdown",
   "metadata": {},
   "source": [
    "## Calculating Vertext Edge Overlap"
   ]
  },
  {
   "cell_type": "code",
   "execution_count": 4,
   "metadata": {
    "pycharm": {
     "name": "#%%\n"
    }
   },
   "outputs": [],
   "source": [
    "def veo_metric(raters):\n",
    "    sim_veo = {}\n",
    "    for rater1 in raters:\n",
    "        for rater2 in raters:\n",
    "            num_vertex_1=[]\n",
    "            num_vertex_2=[]\n",
    "            edge_intersection = 0\n",
    "\n",
    "            if rater1 != rater2:\n",
    "                rater1_graph = create_graphs(raters[rater1])\n",
    "                rater2_graph = create_graphs(raters[rater2])\n",
    "                vertexes_1 = set(set(raters[rater1]['prerequisite'] + raters[rater1]['advanced']))\n",
    "                vertexes_2 = set(set(raters[rater2]['prerequisite'] + raters[rater2]['advanced']))\n",
    "                vertex_intersection = vertexes_1.intersection(vertexes_2)\n",
    "                print('#vertex: ', rater1, len(vertexes_1), rater2, len(vertexes_2))\n",
    "                print('intersection #vertex: ', rater1, rater2, len(vertex_intersection))\n",
    "                num_edges_1 = rater1_graph.number_of_edges()\n",
    "                num_edges_2 = rater2_graph.number_of_edges()\n",
    "                for e_1 in rater1_graph.edges:\n",
    "                    for e_2 in rater2_graph.edges:\n",
    "                        # print('PR_1: ',e_1)\n",
    "                        # print('PR_2: ',e_2)\n",
    "                        if e_1==e_2:\n",
    "                            edge_intersection+=1\n",
    "                sim_veo[rater1+rater2]=2*(len(vertex_intersection)+edge_intersection)/(len(vertexes_1)+len(vertexes_2)+num_edges_1+num_edges_2)\n",
    "\n",
    "            #print('edge_intersection',edge_intersection)\n",
    "            print(sim_veo)\n",
    "            a_file = open(\"sim_veo.json\", \"w\")\n",
    "            json.dump(sim_veo, a_file)"
   ]
  },
  {
   "cell_type": "code",
   "execution_count": 5,
   "metadata": {
    "pycharm": {
     "name": "#%%\n"
    }
   },
   "outputs": [
    {
     "name": "stdout",
     "output_type": "stream",
     "text": [
      "{}\n",
      "#vertex:  Andrea_Unique 279 Samu 435\n",
      "intersection #vertex:  Andrea_Unique Samu 98\n",
      "{'Andrea_UniqueSamu': 0.27450980392156865}\n",
      "#vertex:  Andrea_Unique 279 Chiara 274\n",
      "intersection #vertex:  Andrea_Unique Chiara 88\n",
      "{'Andrea_UniqueSamu': 0.27450980392156865, 'Andrea_UniqueChiara': 0.3182640144665461}\n",
      "#vertex:  Andrea_Unique 279 Frosi 410\n",
      "intersection #vertex:  Andrea_Unique Frosi 83\n",
      "{'Andrea_UniqueSamu': 0.27450980392156865, 'Andrea_UniqueChiara': 0.3182640144665461, 'Andrea_UniqueFrosi': 0.2409288824383164}\n",
      "#vertex:  Andrea_Unique 279 Marco 275\n",
      "intersection #vertex:  Andrea_Unique Marco 72\n",
      "{'Andrea_UniqueSamu': 0.27450980392156865, 'Andrea_UniqueChiara': 0.3182640144665461, 'Andrea_UniqueFrosi': 0.2409288824383164, 'Andrea_UniqueMarco': 0.259927797833935}\n",
      "#vertex:  Andrea_Unique 279 Ilenia 91\n",
      "intersection #vertex:  Andrea_Unique Ilenia 32\n",
      "{'Andrea_UniqueSamu': 0.27450980392156865, 'Andrea_UniqueChiara': 0.3182640144665461, 'Andrea_UniqueFrosi': 0.2409288824383164, 'Andrea_UniqueMarco': 0.259927797833935, 'Andrea_UniqueIlenia': 0.17297297297297298}\n",
      "#vertex:  Samu 435 Andrea_Unique 279\n",
      "intersection #vertex:  Samu Andrea_Unique 98\n",
      "{'Andrea_UniqueSamu': 0.27450980392156865, 'Andrea_UniqueChiara': 0.3182640144665461, 'Andrea_UniqueFrosi': 0.2409288824383164, 'Andrea_UniqueMarco': 0.259927797833935, 'Andrea_UniqueIlenia': 0.17297297297297298, 'SamuAndrea_Unique': 0.27450980392156865}\n",
      "{'Andrea_UniqueSamu': 0.27450980392156865, 'Andrea_UniqueChiara': 0.3182640144665461, 'Andrea_UniqueFrosi': 0.2409288824383164, 'Andrea_UniqueMarco': 0.259927797833935, 'Andrea_UniqueIlenia': 0.17297297297297298, 'SamuAndrea_Unique': 0.27450980392156865}\n",
      "#vertex:  Samu 435 Chiara 274\n",
      "intersection #vertex:  Samu Chiara 107\n",
      "{'Andrea_UniqueSamu': 0.27450980392156865, 'Andrea_UniqueChiara': 0.3182640144665461, 'Andrea_UniqueFrosi': 0.2409288824383164, 'Andrea_UniqueMarco': 0.259927797833935, 'Andrea_UniqueIlenia': 0.17297297297297298, 'SamuAndrea_Unique': 0.27450980392156865, 'SamuChiara': 0.3018335684062059}\n",
      "#vertex:  Samu 435 Frosi 410\n",
      "intersection #vertex:  Samu Frosi 156\n",
      "{'Andrea_UniqueSamu': 0.27450980392156865, 'Andrea_UniqueChiara': 0.3182640144665461, 'Andrea_UniqueFrosi': 0.2409288824383164, 'Andrea_UniqueMarco': 0.259927797833935, 'Andrea_UniqueIlenia': 0.17297297297297298, 'SamuAndrea_Unique': 0.27450980392156865, 'SamuChiara': 0.3018335684062059, 'SamuFrosi': 0.36923076923076925}\n",
      "#vertex:  Samu 435 Marco 275\n",
      "intersection #vertex:  Samu Marco 89\n",
      "{'Andrea_UniqueSamu': 0.27450980392156865, 'Andrea_UniqueChiara': 0.3182640144665461, 'Andrea_UniqueFrosi': 0.2409288824383164, 'Andrea_UniqueMarco': 0.259927797833935, 'Andrea_UniqueIlenia': 0.17297297297297298, 'SamuAndrea_Unique': 0.27450980392156865, 'SamuChiara': 0.3018335684062059, 'SamuFrosi': 0.36923076923076925, 'SamuMarco': 0.2507042253521127}\n",
      "#vertex:  Samu 435 Ilenia 91\n",
      "intersection #vertex:  Samu Ilenia 46\n",
      "{'Andrea_UniqueSamu': 0.27450980392156865, 'Andrea_UniqueChiara': 0.3182640144665461, 'Andrea_UniqueFrosi': 0.2409288824383164, 'Andrea_UniqueMarco': 0.259927797833935, 'Andrea_UniqueIlenia': 0.17297297297297298, 'SamuAndrea_Unique': 0.27450980392156865, 'SamuChiara': 0.3018335684062059, 'SamuFrosi': 0.36923076923076925, 'SamuMarco': 0.2507042253521127, 'SamuIlenia': 0.17490494296577946}\n",
      "#vertex:  Chiara 274 Andrea_Unique 279\n",
      "intersection #vertex:  Chiara Andrea_Unique 88\n",
      "{'Andrea_UniqueSamu': 0.27450980392156865, 'Andrea_UniqueChiara': 0.3182640144665461, 'Andrea_UniqueFrosi': 0.2409288824383164, 'Andrea_UniqueMarco': 0.259927797833935, 'Andrea_UniqueIlenia': 0.17297297297297298, 'SamuAndrea_Unique': 0.27450980392156865, 'SamuChiara': 0.3018335684062059, 'SamuFrosi': 0.36923076923076925, 'SamuMarco': 0.2507042253521127, 'SamuIlenia': 0.17490494296577946, 'ChiaraAndrea_Unique': 0.3182640144665461}\n",
      "#vertex:  Chiara 274 Samu 435\n",
      "intersection #vertex:  Chiara Samu 107\n",
      "{'Andrea_UniqueSamu': 0.27450980392156865, 'Andrea_UniqueChiara': 0.3182640144665461, 'Andrea_UniqueFrosi': 0.2409288824383164, 'Andrea_UniqueMarco': 0.259927797833935, 'Andrea_UniqueIlenia': 0.17297297297297298, 'SamuAndrea_Unique': 0.27450980392156865, 'SamuChiara': 0.3018335684062059, 'SamuFrosi': 0.36923076923076925, 'SamuMarco': 0.2507042253521127, 'SamuIlenia': 0.17490494296577946, 'ChiaraAndrea_Unique': 0.3182640144665461, 'ChiaraSamu': 0.3018335684062059}\n",
      "{'Andrea_UniqueSamu': 0.27450980392156865, 'Andrea_UniqueChiara': 0.3182640144665461, 'Andrea_UniqueFrosi': 0.2409288824383164, 'Andrea_UniqueMarco': 0.259927797833935, 'Andrea_UniqueIlenia': 0.17297297297297298, 'SamuAndrea_Unique': 0.27450980392156865, 'SamuChiara': 0.3018335684062059, 'SamuFrosi': 0.36923076923076925, 'SamuMarco': 0.2507042253521127, 'SamuIlenia': 0.17490494296577946, 'ChiaraAndrea_Unique': 0.3182640144665461, 'ChiaraSamu': 0.3018335684062059}\n",
      "#vertex:  Chiara 274 Frosi 410\n",
      "intersection #vertex:  Chiara Frosi 104\n",
      "{'Andrea_UniqueSamu': 0.27450980392156865, 'Andrea_UniqueChiara': 0.3182640144665461, 'Andrea_UniqueFrosi': 0.2409288824383164, 'Andrea_UniqueMarco': 0.259927797833935, 'Andrea_UniqueIlenia': 0.17297297297297298, 'SamuAndrea_Unique': 0.27450980392156865, 'SamuChiara': 0.3018335684062059, 'SamuFrosi': 0.36923076923076925, 'SamuMarco': 0.2507042253521127, 'SamuIlenia': 0.17490494296577946, 'ChiaraAndrea_Unique': 0.3182640144665461, 'ChiaraSamu': 0.3018335684062059, 'ChiaraFrosi': 0.30409356725146197}\n",
      "#vertex:  Chiara 274 Marco 275\n",
      "intersection #vertex:  Chiara Marco 94\n",
      "{'Andrea_UniqueSamu': 0.27450980392156865, 'Andrea_UniqueChiara': 0.3182640144665461, 'Andrea_UniqueFrosi': 0.2409288824383164, 'Andrea_UniqueMarco': 0.259927797833935, 'Andrea_UniqueIlenia': 0.17297297297297298, 'SamuAndrea_Unique': 0.27450980392156865, 'SamuChiara': 0.3018335684062059, 'SamuFrosi': 0.36923076923076925, 'SamuMarco': 0.2507042253521127, 'SamuIlenia': 0.17490494296577946, 'ChiaraAndrea_Unique': 0.3182640144665461, 'ChiaraSamu': 0.3018335684062059, 'ChiaraFrosi': 0.30409356725146197, 'ChiaraMarco': 0.3424408014571949}\n",
      "#vertex:  Chiara 274 Ilenia 91\n",
      "intersection #vertex:  Chiara Ilenia 50\n",
      "{'Andrea_UniqueSamu': 0.27450980392156865, 'Andrea_UniqueChiara': 0.3182640144665461, 'Andrea_UniqueFrosi': 0.2409288824383164, 'Andrea_UniqueMarco': 0.259927797833935, 'Andrea_UniqueIlenia': 0.17297297297297298, 'SamuAndrea_Unique': 0.27450980392156865, 'SamuChiara': 0.3018335684062059, 'SamuFrosi': 0.36923076923076925, 'SamuMarco': 0.2507042253521127, 'SamuIlenia': 0.17490494296577946, 'ChiaraAndrea_Unique': 0.3182640144665461, 'ChiaraSamu': 0.3018335684062059, 'ChiaraFrosi': 0.30409356725146197, 'ChiaraMarco': 0.3424408014571949, 'ChiaraIlenia': 0.273972602739726}\n",
      "#vertex:  Frosi 410 Andrea_Unique 279\n",
      "intersection #vertex:  Frosi Andrea_Unique 83\n",
      "{'Andrea_UniqueSamu': 0.27450980392156865, 'Andrea_UniqueChiara': 0.3182640144665461, 'Andrea_UniqueFrosi': 0.2409288824383164, 'Andrea_UniqueMarco': 0.259927797833935, 'Andrea_UniqueIlenia': 0.17297297297297298, 'SamuAndrea_Unique': 0.27450980392156865, 'SamuChiara': 0.3018335684062059, 'SamuFrosi': 0.36923076923076925, 'SamuMarco': 0.2507042253521127, 'SamuIlenia': 0.17490494296577946, 'ChiaraAndrea_Unique': 0.3182640144665461, 'ChiaraSamu': 0.3018335684062059, 'ChiaraFrosi': 0.30409356725146197, 'ChiaraMarco': 0.3424408014571949, 'ChiaraIlenia': 0.273972602739726, 'FrosiAndrea_Unique': 0.2409288824383164}\n",
      "#vertex:  Frosi 410 Samu 435\n",
      "intersection #vertex:  Frosi Samu 156\n",
      "{'Andrea_UniqueSamu': 0.27450980392156865, 'Andrea_UniqueChiara': 0.3182640144665461, 'Andrea_UniqueFrosi': 0.2409288824383164, 'Andrea_UniqueMarco': 0.259927797833935, 'Andrea_UniqueIlenia': 0.17297297297297298, 'SamuAndrea_Unique': 0.27450980392156865, 'SamuChiara': 0.3018335684062059, 'SamuFrosi': 0.36923076923076925, 'SamuMarco': 0.2507042253521127, 'SamuIlenia': 0.17490494296577946, 'ChiaraAndrea_Unique': 0.3182640144665461, 'ChiaraSamu': 0.3018335684062059, 'ChiaraFrosi': 0.30409356725146197, 'ChiaraMarco': 0.3424408014571949, 'ChiaraIlenia': 0.273972602739726, 'FrosiAndrea_Unique': 0.2409288824383164, 'FrosiSamu': 0.36923076923076925}\n",
      "#vertex:  Frosi 410 Chiara 274\n",
      "intersection #vertex:  Frosi Chiara 104\n",
      "{'Andrea_UniqueSamu': 0.27450980392156865, 'Andrea_UniqueChiara': 0.3182640144665461, 'Andrea_UniqueFrosi': 0.2409288824383164, 'Andrea_UniqueMarco': 0.259927797833935, 'Andrea_UniqueIlenia': 0.17297297297297298, 'SamuAndrea_Unique': 0.27450980392156865, 'SamuChiara': 0.3018335684062059, 'SamuFrosi': 0.36923076923076925, 'SamuMarco': 0.2507042253521127, 'SamuIlenia': 0.17490494296577946, 'ChiaraAndrea_Unique': 0.3182640144665461, 'ChiaraSamu': 0.3018335684062059, 'ChiaraFrosi': 0.30409356725146197, 'ChiaraMarco': 0.3424408014571949, 'ChiaraIlenia': 0.273972602739726, 'FrosiAndrea_Unique': 0.2409288824383164, 'FrosiSamu': 0.36923076923076925, 'FrosiChiara': 0.30409356725146197}\n",
      "{'Andrea_UniqueSamu': 0.27450980392156865, 'Andrea_UniqueChiara': 0.3182640144665461, 'Andrea_UniqueFrosi': 0.2409288824383164, 'Andrea_UniqueMarco': 0.259927797833935, 'Andrea_UniqueIlenia': 0.17297297297297298, 'SamuAndrea_Unique': 0.27450980392156865, 'SamuChiara': 0.3018335684062059, 'SamuFrosi': 0.36923076923076925, 'SamuMarco': 0.2507042253521127, 'SamuIlenia': 0.17490494296577946, 'ChiaraAndrea_Unique': 0.3182640144665461, 'ChiaraSamu': 0.3018335684062059, 'ChiaraFrosi': 0.30409356725146197, 'ChiaraMarco': 0.3424408014571949, 'ChiaraIlenia': 0.273972602739726, 'FrosiAndrea_Unique': 0.2409288824383164, 'FrosiSamu': 0.36923076923076925, 'FrosiChiara': 0.30409356725146197}\n",
      "#vertex:  Frosi 410 Marco 275\n",
      "intersection #vertex:  Frosi Marco 98\n",
      "{'Andrea_UniqueSamu': 0.27450980392156865, 'Andrea_UniqueChiara': 0.3182640144665461, 'Andrea_UniqueFrosi': 0.2409288824383164, 'Andrea_UniqueMarco': 0.259927797833935, 'Andrea_UniqueIlenia': 0.17297297297297298, 'SamuAndrea_Unique': 0.27450980392156865, 'SamuChiara': 0.3018335684062059, 'SamuFrosi': 0.36923076923076925, 'SamuMarco': 0.2507042253521127, 'SamuIlenia': 0.17490494296577946, 'ChiaraAndrea_Unique': 0.3182640144665461, 'ChiaraSamu': 0.3018335684062059, 'ChiaraFrosi': 0.30409356725146197, 'ChiaraMarco': 0.3424408014571949, 'ChiaraIlenia': 0.273972602739726, 'FrosiAndrea_Unique': 0.2409288824383164, 'FrosiSamu': 0.36923076923076925, 'FrosiChiara': 0.30409356725146197, 'FrosiMarco': 0.28613138686131384}\n",
      "#vertex:  Frosi 410 Ilenia 91\n",
      "intersection #vertex:  Frosi Ilenia 44\n",
      "{'Andrea_UniqueSamu': 0.27450980392156865, 'Andrea_UniqueChiara': 0.3182640144665461, 'Andrea_UniqueFrosi': 0.2409288824383164, 'Andrea_UniqueMarco': 0.259927797833935, 'Andrea_UniqueIlenia': 0.17297297297297298, 'SamuAndrea_Unique': 0.27450980392156865, 'SamuChiara': 0.3018335684062059, 'SamuFrosi': 0.36923076923076925, 'SamuMarco': 0.2507042253521127, 'SamuIlenia': 0.17490494296577946, 'ChiaraAndrea_Unique': 0.3182640144665461, 'ChiaraSamu': 0.3018335684062059, 'ChiaraFrosi': 0.30409356725146197, 'ChiaraMarco': 0.3424408014571949, 'ChiaraIlenia': 0.273972602739726, 'FrosiAndrea_Unique': 0.2409288824383164, 'FrosiSamu': 0.36923076923076925, 'FrosiChiara': 0.30409356725146197, 'FrosiMarco': 0.28613138686131384, 'FrosiIlenia': 0.17564870259481039}\n",
      "#vertex:  Marco 275 Andrea_Unique 279\n",
      "intersection #vertex:  Marco Andrea_Unique 72\n",
      "{'Andrea_UniqueSamu': 0.27450980392156865, 'Andrea_UniqueChiara': 0.3182640144665461, 'Andrea_UniqueFrosi': 0.2409288824383164, 'Andrea_UniqueMarco': 0.259927797833935, 'Andrea_UniqueIlenia': 0.17297297297297298, 'SamuAndrea_Unique': 0.27450980392156865, 'SamuChiara': 0.3018335684062059, 'SamuFrosi': 0.36923076923076925, 'SamuMarco': 0.2507042253521127, 'SamuIlenia': 0.17490494296577946, 'ChiaraAndrea_Unique': 0.3182640144665461, 'ChiaraSamu': 0.3018335684062059, 'ChiaraFrosi': 0.30409356725146197, 'ChiaraMarco': 0.3424408014571949, 'ChiaraIlenia': 0.273972602739726, 'FrosiAndrea_Unique': 0.2409288824383164, 'FrosiSamu': 0.36923076923076925, 'FrosiChiara': 0.30409356725146197, 'FrosiMarco': 0.28613138686131384, 'FrosiIlenia': 0.17564870259481039, 'MarcoAndrea_Unique': 0.259927797833935}\n",
      "#vertex:  Marco 275 Samu 435\n",
      "intersection #vertex:  Marco Samu 89\n",
      "{'Andrea_UniqueSamu': 0.27450980392156865, 'Andrea_UniqueChiara': 0.3182640144665461, 'Andrea_UniqueFrosi': 0.2409288824383164, 'Andrea_UniqueMarco': 0.259927797833935, 'Andrea_UniqueIlenia': 0.17297297297297298, 'SamuAndrea_Unique': 0.27450980392156865, 'SamuChiara': 0.3018335684062059, 'SamuFrosi': 0.36923076923076925, 'SamuMarco': 0.2507042253521127, 'SamuIlenia': 0.17490494296577946, 'ChiaraAndrea_Unique': 0.3182640144665461, 'ChiaraSamu': 0.3018335684062059, 'ChiaraFrosi': 0.30409356725146197, 'ChiaraMarco': 0.3424408014571949, 'ChiaraIlenia': 0.273972602739726, 'FrosiAndrea_Unique': 0.2409288824383164, 'FrosiSamu': 0.36923076923076925, 'FrosiChiara': 0.30409356725146197, 'FrosiMarco': 0.28613138686131384, 'FrosiIlenia': 0.17564870259481039, 'MarcoAndrea_Unique': 0.259927797833935, 'MarcoSamu': 0.2507042253521127}\n",
      "#vertex:  Marco 275 Chiara 274\n",
      "intersection #vertex:  Marco Chiara 94\n",
      "{'Andrea_UniqueSamu': 0.27450980392156865, 'Andrea_UniqueChiara': 0.3182640144665461, 'Andrea_UniqueFrosi': 0.2409288824383164, 'Andrea_UniqueMarco': 0.259927797833935, 'Andrea_UniqueIlenia': 0.17297297297297298, 'SamuAndrea_Unique': 0.27450980392156865, 'SamuChiara': 0.3018335684062059, 'SamuFrosi': 0.36923076923076925, 'SamuMarco': 0.2507042253521127, 'SamuIlenia': 0.17490494296577946, 'ChiaraAndrea_Unique': 0.3182640144665461, 'ChiaraSamu': 0.3018335684062059, 'ChiaraFrosi': 0.30409356725146197, 'ChiaraMarco': 0.3424408014571949, 'ChiaraIlenia': 0.273972602739726, 'FrosiAndrea_Unique': 0.2409288824383164, 'FrosiSamu': 0.36923076923076925, 'FrosiChiara': 0.30409356725146197, 'FrosiMarco': 0.28613138686131384, 'FrosiIlenia': 0.17564870259481039, 'MarcoAndrea_Unique': 0.259927797833935, 'MarcoSamu': 0.2507042253521127, 'MarcoChiara': 0.3424408014571949}\n",
      "#vertex:  Marco 275 Frosi 410\n",
      "intersection #vertex:  Marco Frosi 98\n",
      "{'Andrea_UniqueSamu': 0.27450980392156865, 'Andrea_UniqueChiara': 0.3182640144665461, 'Andrea_UniqueFrosi': 0.2409288824383164, 'Andrea_UniqueMarco': 0.259927797833935, 'Andrea_UniqueIlenia': 0.17297297297297298, 'SamuAndrea_Unique': 0.27450980392156865, 'SamuChiara': 0.3018335684062059, 'SamuFrosi': 0.36923076923076925, 'SamuMarco': 0.2507042253521127, 'SamuIlenia': 0.17490494296577946, 'ChiaraAndrea_Unique': 0.3182640144665461, 'ChiaraSamu': 0.3018335684062059, 'ChiaraFrosi': 0.30409356725146197, 'ChiaraMarco': 0.3424408014571949, 'ChiaraIlenia': 0.273972602739726, 'FrosiAndrea_Unique': 0.2409288824383164, 'FrosiSamu': 0.36923076923076925, 'FrosiChiara': 0.30409356725146197, 'FrosiMarco': 0.28613138686131384, 'FrosiIlenia': 0.17564870259481039, 'MarcoAndrea_Unique': 0.259927797833935, 'MarcoSamu': 0.2507042253521127, 'MarcoChiara': 0.3424408014571949, 'MarcoFrosi': 0.28613138686131384}\n",
      "{'Andrea_UniqueSamu': 0.27450980392156865, 'Andrea_UniqueChiara': 0.3182640144665461, 'Andrea_UniqueFrosi': 0.2409288824383164, 'Andrea_UniqueMarco': 0.259927797833935, 'Andrea_UniqueIlenia': 0.17297297297297298, 'SamuAndrea_Unique': 0.27450980392156865, 'SamuChiara': 0.3018335684062059, 'SamuFrosi': 0.36923076923076925, 'SamuMarco': 0.2507042253521127, 'SamuIlenia': 0.17490494296577946, 'ChiaraAndrea_Unique': 0.3182640144665461, 'ChiaraSamu': 0.3018335684062059, 'ChiaraFrosi': 0.30409356725146197, 'ChiaraMarco': 0.3424408014571949, 'ChiaraIlenia': 0.273972602739726, 'FrosiAndrea_Unique': 0.2409288824383164, 'FrosiSamu': 0.36923076923076925, 'FrosiChiara': 0.30409356725146197, 'FrosiMarco': 0.28613138686131384, 'FrosiIlenia': 0.17564870259481039, 'MarcoAndrea_Unique': 0.259927797833935, 'MarcoSamu': 0.2507042253521127, 'MarcoChiara': 0.3424408014571949, 'MarcoFrosi': 0.28613138686131384}\n",
      "#vertex:  Marco 275 Ilenia 91\n",
      "intersection #vertex:  Marco Ilenia 31\n",
      "{'Andrea_UniqueSamu': 0.27450980392156865, 'Andrea_UniqueChiara': 0.3182640144665461, 'Andrea_UniqueFrosi': 0.2409288824383164, 'Andrea_UniqueMarco': 0.259927797833935, 'Andrea_UniqueIlenia': 0.17297297297297298, 'SamuAndrea_Unique': 0.27450980392156865, 'SamuChiara': 0.3018335684062059, 'SamuFrosi': 0.36923076923076925, 'SamuMarco': 0.2507042253521127, 'SamuIlenia': 0.17490494296577946, 'ChiaraAndrea_Unique': 0.3182640144665461, 'ChiaraSamu': 0.3018335684062059, 'ChiaraFrosi': 0.30409356725146197, 'ChiaraMarco': 0.3424408014571949, 'ChiaraIlenia': 0.273972602739726, 'FrosiAndrea_Unique': 0.2409288824383164, 'FrosiSamu': 0.36923076923076925, 'FrosiChiara': 0.30409356725146197, 'FrosiMarco': 0.28613138686131384, 'FrosiIlenia': 0.17564870259481039, 'MarcoAndrea_Unique': 0.259927797833935, 'MarcoSamu': 0.2507042253521127, 'MarcoChiara': 0.3424408014571949, 'MarcoFrosi': 0.28613138686131384, 'MarcoIlenia': 0.16939890710382513}\n",
      "#vertex:  Ilenia 91 Andrea_Unique 279\n",
      "intersection #vertex:  Ilenia Andrea_Unique 32\n",
      "{'Andrea_UniqueSamu': 0.27450980392156865, 'Andrea_UniqueChiara': 0.3182640144665461, 'Andrea_UniqueFrosi': 0.2409288824383164, 'Andrea_UniqueMarco': 0.259927797833935, 'Andrea_UniqueIlenia': 0.17297297297297298, 'SamuAndrea_Unique': 0.27450980392156865, 'SamuChiara': 0.3018335684062059, 'SamuFrosi': 0.36923076923076925, 'SamuMarco': 0.2507042253521127, 'SamuIlenia': 0.17490494296577946, 'ChiaraAndrea_Unique': 0.3182640144665461, 'ChiaraSamu': 0.3018335684062059, 'ChiaraFrosi': 0.30409356725146197, 'ChiaraMarco': 0.3424408014571949, 'ChiaraIlenia': 0.273972602739726, 'FrosiAndrea_Unique': 0.2409288824383164, 'FrosiSamu': 0.36923076923076925, 'FrosiChiara': 0.30409356725146197, 'FrosiMarco': 0.28613138686131384, 'FrosiIlenia': 0.17564870259481039, 'MarcoAndrea_Unique': 0.259927797833935, 'MarcoSamu': 0.2507042253521127, 'MarcoChiara': 0.3424408014571949, 'MarcoFrosi': 0.28613138686131384, 'MarcoIlenia': 0.16939890710382513, 'IleniaAndrea_Unique': 0.17297297297297298}\n",
      "#vertex:  Ilenia 91 Samu 435\n",
      "intersection #vertex:  Ilenia Samu 46\n",
      "{'Andrea_UniqueSamu': 0.27450980392156865, 'Andrea_UniqueChiara': 0.3182640144665461, 'Andrea_UniqueFrosi': 0.2409288824383164, 'Andrea_UniqueMarco': 0.259927797833935, 'Andrea_UniqueIlenia': 0.17297297297297298, 'SamuAndrea_Unique': 0.27450980392156865, 'SamuChiara': 0.3018335684062059, 'SamuFrosi': 0.36923076923076925, 'SamuMarco': 0.2507042253521127, 'SamuIlenia': 0.17490494296577946, 'ChiaraAndrea_Unique': 0.3182640144665461, 'ChiaraSamu': 0.3018335684062059, 'ChiaraFrosi': 0.30409356725146197, 'ChiaraMarco': 0.3424408014571949, 'ChiaraIlenia': 0.273972602739726, 'FrosiAndrea_Unique': 0.2409288824383164, 'FrosiSamu': 0.36923076923076925, 'FrosiChiara': 0.30409356725146197, 'FrosiMarco': 0.28613138686131384, 'FrosiIlenia': 0.17564870259481039, 'MarcoAndrea_Unique': 0.259927797833935, 'MarcoSamu': 0.2507042253521127, 'MarcoChiara': 0.3424408014571949, 'MarcoFrosi': 0.28613138686131384, 'MarcoIlenia': 0.16939890710382513, 'IleniaAndrea_Unique': 0.17297297297297298, 'IleniaSamu': 0.17490494296577946}\n",
      "#vertex:  Ilenia 91 Chiara 274\n",
      "intersection #vertex:  Ilenia Chiara 50\n",
      "{'Andrea_UniqueSamu': 0.27450980392156865, 'Andrea_UniqueChiara': 0.3182640144665461, 'Andrea_UniqueFrosi': 0.2409288824383164, 'Andrea_UniqueMarco': 0.259927797833935, 'Andrea_UniqueIlenia': 0.17297297297297298, 'SamuAndrea_Unique': 0.27450980392156865, 'SamuChiara': 0.3018335684062059, 'SamuFrosi': 0.36923076923076925, 'SamuMarco': 0.2507042253521127, 'SamuIlenia': 0.17490494296577946, 'ChiaraAndrea_Unique': 0.3182640144665461, 'ChiaraSamu': 0.3018335684062059, 'ChiaraFrosi': 0.30409356725146197, 'ChiaraMarco': 0.3424408014571949, 'ChiaraIlenia': 0.273972602739726, 'FrosiAndrea_Unique': 0.2409288824383164, 'FrosiSamu': 0.36923076923076925, 'FrosiChiara': 0.30409356725146197, 'FrosiMarco': 0.28613138686131384, 'FrosiIlenia': 0.17564870259481039, 'MarcoAndrea_Unique': 0.259927797833935, 'MarcoSamu': 0.2507042253521127, 'MarcoChiara': 0.3424408014571949, 'MarcoFrosi': 0.28613138686131384, 'MarcoIlenia': 0.16939890710382513, 'IleniaAndrea_Unique': 0.17297297297297298, 'IleniaSamu': 0.17490494296577946, 'IleniaChiara': 0.273972602739726}\n",
      "#vertex:  Ilenia 91 Frosi 410\n",
      "intersection #vertex:  Ilenia Frosi 44\n",
      "{'Andrea_UniqueSamu': 0.27450980392156865, 'Andrea_UniqueChiara': 0.3182640144665461, 'Andrea_UniqueFrosi': 0.2409288824383164, 'Andrea_UniqueMarco': 0.259927797833935, 'Andrea_UniqueIlenia': 0.17297297297297298, 'SamuAndrea_Unique': 0.27450980392156865, 'SamuChiara': 0.3018335684062059, 'SamuFrosi': 0.36923076923076925, 'SamuMarco': 0.2507042253521127, 'SamuIlenia': 0.17490494296577946, 'ChiaraAndrea_Unique': 0.3182640144665461, 'ChiaraSamu': 0.3018335684062059, 'ChiaraFrosi': 0.30409356725146197, 'ChiaraMarco': 0.3424408014571949, 'ChiaraIlenia': 0.273972602739726, 'FrosiAndrea_Unique': 0.2409288824383164, 'FrosiSamu': 0.36923076923076925, 'FrosiChiara': 0.30409356725146197, 'FrosiMarco': 0.28613138686131384, 'FrosiIlenia': 0.17564870259481039, 'MarcoAndrea_Unique': 0.259927797833935, 'MarcoSamu': 0.2507042253521127, 'MarcoChiara': 0.3424408014571949, 'MarcoFrosi': 0.28613138686131384, 'MarcoIlenia': 0.16939890710382513, 'IleniaAndrea_Unique': 0.17297297297297298, 'IleniaSamu': 0.17490494296577946, 'IleniaChiara': 0.273972602739726, 'IleniaFrosi': 0.17564870259481039}\n",
      "#vertex:  Ilenia 91 Marco 275\n",
      "intersection #vertex:  Ilenia Marco 31\n",
      "{'Andrea_UniqueSamu': 0.27450980392156865, 'Andrea_UniqueChiara': 0.3182640144665461, 'Andrea_UniqueFrosi': 0.2409288824383164, 'Andrea_UniqueMarco': 0.259927797833935, 'Andrea_UniqueIlenia': 0.17297297297297298, 'SamuAndrea_Unique': 0.27450980392156865, 'SamuChiara': 0.3018335684062059, 'SamuFrosi': 0.36923076923076925, 'SamuMarco': 0.2507042253521127, 'SamuIlenia': 0.17490494296577946, 'ChiaraAndrea_Unique': 0.3182640144665461, 'ChiaraSamu': 0.3018335684062059, 'ChiaraFrosi': 0.30409356725146197, 'ChiaraMarco': 0.3424408014571949, 'ChiaraIlenia': 0.273972602739726, 'FrosiAndrea_Unique': 0.2409288824383164, 'FrosiSamu': 0.36923076923076925, 'FrosiChiara': 0.30409356725146197, 'FrosiMarco': 0.28613138686131384, 'FrosiIlenia': 0.17564870259481039, 'MarcoAndrea_Unique': 0.259927797833935, 'MarcoSamu': 0.2507042253521127, 'MarcoChiara': 0.3424408014571949, 'MarcoFrosi': 0.28613138686131384, 'MarcoIlenia': 0.16939890710382513, 'IleniaAndrea_Unique': 0.17297297297297298, 'IleniaSamu': 0.17490494296577946, 'IleniaChiara': 0.273972602739726, 'IleniaFrosi': 0.17564870259481039, 'IleniaMarco': 0.16939890710382513}\n",
      "{'Andrea_UniqueSamu': 0.27450980392156865, 'Andrea_UniqueChiara': 0.3182640144665461, 'Andrea_UniqueFrosi': 0.2409288824383164, 'Andrea_UniqueMarco': 0.259927797833935, 'Andrea_UniqueIlenia': 0.17297297297297298, 'SamuAndrea_Unique': 0.27450980392156865, 'SamuChiara': 0.3018335684062059, 'SamuFrosi': 0.36923076923076925, 'SamuMarco': 0.2507042253521127, 'SamuIlenia': 0.17490494296577946, 'ChiaraAndrea_Unique': 0.3182640144665461, 'ChiaraSamu': 0.3018335684062059, 'ChiaraFrosi': 0.30409356725146197, 'ChiaraMarco': 0.3424408014571949, 'ChiaraIlenia': 0.273972602739726, 'FrosiAndrea_Unique': 0.2409288824383164, 'FrosiSamu': 0.36923076923076925, 'FrosiChiara': 0.30409356725146197, 'FrosiMarco': 0.28613138686131384, 'FrosiIlenia': 0.17564870259481039, 'MarcoAndrea_Unique': 0.259927797833935, 'MarcoSamu': 0.2507042253521127, 'MarcoChiara': 0.3424408014571949, 'MarcoFrosi': 0.28613138686131384, 'MarcoIlenia': 0.16939890710382513, 'IleniaAndrea_Unique': 0.17297297297297298, 'IleniaSamu': 0.17490494296577946, 'IleniaChiara': 0.273972602739726, 'IleniaFrosi': 0.17564870259481039, 'IleniaMarco': 0.16939890710382513}\n"
     ]
    }
   ],
   "source": [
    "veo_metric(raters)\n"
   ]
  },
  {
   "cell_type": "markdown",
   "source": [
    "## Graph editi distance"
   ],
   "metadata": {
    "collapsed": false,
    "pycharm": {
     "name": "#%% md\n"
    }
   }
  },
  {
   "cell_type": "code",
   "execution_count": null,
   "outputs": [
    {
     "name": "stdout",
     "output_type": "stream",
     "text": [
      "<class 'networkx.classes.digraph.DiGraph'>\n",
      "<class 'networkx.classes.digraph.DiGraph'>\n",
      "396.0\n",
      "395.0\n",
      "393.0\n"
     ]
    }
   ],
   "source": [
    "rater1_graph = create_graphs(raters['Chiara'])\n",
    "print(type(rater1_graph))\n",
    "rater2_graph = create_graphs(raters['Marco'])\n",
    "print(type(rater2_graph))\n",
    "optimized_edit_distance=0\n",
    "edit_distance=0\n",
    "# degree=nx.degree_histogram(rater1_graph)\n",
    "# sp = dict(nx.all_pairs_shortest_path(rater1_graph))\n",
    "# pagerank=nx.pagerank(rater1_graph)\n",
    "\n",
    "# Ci mette troppo e non riesco ad arrivarci ad un risultato.\n",
    "# edit_distance=nx.graph_edit_distance(rater1_graph, rater2_graph, node_match=lambda node1, node2:node1['label']==node2['label'], upper_bound=396)\n",
    "for v in nx.optimize_graph_edit_distance(rater1_graph, rater2_graph, node_match=lambda node1, node2:node1['label']==node2['label']):\n",
    "    print(v)\n",
    "    optimized_edit_distance=v\n",
    "print(\"optimized_edit_distance\",optimized_edit_distance)\n",
    "print(\"edit_distance\", edit_distance)"
   ],
   "metadata": {
    "collapsed": false,
    "pycharm": {
     "name": "#%%\n",
     "is_executing": true
    }
   }
  },
  {
   "cell_type": "markdown",
   "metadata": {
    "pycharm": {
     "name": "#%% md\n"
    }
   },
   "source": [
    "## PageRank"
   ]
  },
  {
   "cell_type": "code",
   "execution_count": 4,
   "outputs": [
    {
     "name": "stdout",
     "output_type": "stream",
     "text": [
      "pagerank:  {'NETWORK SOFTWARE': 0.00949903446862644, 'PROPRIETARY SYSTEM': 0.015249089204274438, 'OWNERSHIP RIGHT': 0.020137212207672193, 'BUS NETWORK': 0.010480748059705784, 'SHORT BUS': 0.009402319758519961, 'INTERNET PROTOCOL ADDRESS': 0.011952940662457215, 'DOTTED DECIMAL NOTATION': 0.01733925320080033, 'INFORMATION': 0.007175150244163736, 'COMPUTER': 0.0132738804399433, 'INTERNET': 0.014355778597997061, 'ADDRESSING SYSTEM': 0.011242601097595468, 'DOMAIN NAME': 0.011952940662457215, 'SOFTWARE': 0.010936110013015168, 'TOPOLOGY': 0.007175150244163736, 'ETHERNET NETWORK': 0.010480748059705784, 'STAR NETWORK': 0.010480748059705784, 'DISTRIBUTED COMPUTE': 0.007175150244163736, 'CLUSTER COMPUTE': 0.009208060309423591, 'GRID COMPUTE': 0.009208060309423591, 'CLOUD COMPUTING': 0.009208060309423591, 'NETWORK PROTOCOL': 0.007175150244163736, 'NNTP': 0.008191605276793664, 'TELNET': 0.008191605276793664, 'SIMPLE MAIL TRANSFER PROTOCOL': 0.008191605276793664, 'EMAIL MESSAGE': 0.014137905291739089, 'OPEN SOURCE SYSTEM': 0.007175150244163736, 'PHP': 0.0132738804399433, 'MALICIOUS SOFTWARE': 0.00949903446862644, 'SPAM': 0.008328570095608123, 'COMPUTER SYSTEM': 0.010936110013015168, 'NETWORK': 0.016470687142014554, 'PERSONAL AREA NETWORK': 0.008447837994445928, 'LOCAL AREA NETWORK': 0.008447837994445928, 'METROPOLITAN AREA NETWORK': 0.008447837994445928, 'WIDE AREA NETWORK': 0.008447837994445928, 'OPEN NETWORK': 0.008447837994445928, 'PROTOCOL': 0.008447837994445928, 'CARRIER SENSE': 0.014355778597997061, 'MULTIPLE ACCESS WITH COLLISION DETECTION': 0.013276326524311332, 'COLLISION AVOIDANCE': 0.013276326524311332, 'CENTRAL ACCESS POINT': 0.016083828301588637, 'REPEATER': 0.009402319758519961, 'BRIDGE': 0.009402319758519961, 'SWITCH': 0.009402319758519961, 'WIFI NETWORK': 0.008447837994445928, 'ROUTER': 0.010936110013015168, 'GATEWAY': 0.019520052239904336, 'ACCESS POINT': 0.007175150244163736, 'INTERPROCESS COMMUNICATION': 0.007175150244163736, 'CLIENT/SERVER MODEL': 0.010224515342053517, 'SERVER': 0.007175150244163736, 'FILE SERVER': 0.008191605276793664, 'PEER-TO-PEER MODEL': 0.010224515342053517, 'INSTANT MESSAGING': 0.015865954995330667, 'INTERNET SERVICE PROVIDER': 0.011242601097595468, 'TIER-1 INTERNET SERVICE PROVIDER': 0.010360343856359387, 'TIER-2 INTERNET SERVICE PROVIDER': 0.010360343856359387, 'ACCESS INTERNET SERVICE PROVIDER': 0.010360343856359387, 'END SYSTEM': 0.011579639595672528, 'HOT SPOT': 0.010224515342053517, 'INTERNET PROTOCOL': 0.011242601097595468, 'NAME SERVER': 0.008191605276793664, 'DOMAIN NAME SYSTEM': 0.014137905291739089, 'INTRANET': 0.011579639595672528, 'FILE TRANSFER PROTOCOL': 0.008191605276793664, 'SECURE SHELL': 0.008191605276793664, 'HYPERTEXT TRANSFER PROTOCOL': 0.008191605276793664, 'REMOTE MAIL SERVER': 0.008191605276793664, 'MAIL SERVER': 0.008191605276793664, 'POST OFFICE PROTOCOL VERSION 3': 0.010656527767951413, 'INTERNET MAIL ACCESS PROTOCOL': 0.010656527767951413, 'VOICE OVER INTERNET PROTOCOL': 0.016730731080750693, 'PHONE NETWORK': 0.008447837994445928, '4G': 0.009568693028774843, '1G': 0.009568693028774843, '3G': 0.009568693028774843, 'CONTENT DELIVERY NETWORK': 0.008191605276793664, 'BROWSER': 0.00949903446862644, 'UNIFORM RESOURCE LOCATOR': 0.014137905291739089, 'HYPERTEXT DOCUMENT': 0.007175150244163736, 'HYPERTEXT MARKUP LANGUAGE': 0.0132738804399433, 'EXTENSIBLE MARKUP LANGUAGE': 0.01845802955071803, 'CLIENT-SIDE ACTIVITY': 0.011520552619747201, 'SERVER-SIDE ACTIVITY': 0.011520552619747201, 'INTERNET SOFTWARE': 0.007175150244163736, 'APPLICATION LAYER': 0.008699832793108627, 'TRANSPORT LAYER': 0.008699832793108627, 'NETWORK LAYER': 0.008699832793108627, 'LINK LAYER': 0.008699832793108627, 'TROJAN HORSE': 0.008328570095608123, 'SPYWARE': 0.008328570095608123, 'WORM': 0.008328570095608123, 'PHISHING': 0.008328570095608123, 'FIREWALL': 0.008328570095608123, 'PROXY SERVER': 0.010515489501256367, 'ANTIVIRUS SOFTWARE': 0.008328570095608123}\n"
     ]
    }
   ],
   "source": [
    "# rater1_graph = create_graphs(raters['Frosi'])\n",
    "# print(type(rater1_graph))\n",
    "# rater2_graph = create_graphs(raters['Chiara'])\n",
    "# print(type(rater2_graph))\n",
    "# edit_path_distance=0\n",
    "# degree=nx.degree_histogram(rater1_graph)\n",
    "# sp = dict(nx.all_pairs_shortest_path(rater1_graph))\n",
    "# pagerank=nx.pagerank(rater1_graph)\n",
    "results_list=[]\n",
    "\n",
    "for rater in raters:\n",
    "    rater_graph = create_graphs(raters[rater])\n",
    "    pagerank=nx.pagerank(rater_graph)\n",
    "    for k,v in pagerank.items():\n",
    "\n",
    "        if rater==\"Samu\":\n",
    "            new_raw = {\"concept\":k,\"Samu\":v, \"Chiara\":'', \"Frosi\":'',\"Andrea\":'',\"Marco\":''}\n",
    "            results_list.append(new_raw)\n",
    "        elif rater==\"Chiara\":\n",
    "            new_raw = {\"concept\":k,\"Samu\":'', \"Chiara\":v, \"Frosi\":'',\"Andrea\":'',\"Marco\":''}\n",
    "            results_list.append(new_raw)\n",
    "        elif rater==\"Frosi\":\n",
    "            new_raw = {\"concept\":k,\"Samu\":'', \"Chiara\":'', \"Frosi\":v,\"Andrea\":'',\"Marco\":''}\n",
    "            results_list.append(new_raw)\n",
    "        elif rater==\"Andrea_Unique\":\n",
    "            new_raw = {\"concept\":k,\"Samu\":'', \"Chiara\":'', \"Frosi\":'',\"Andrea\":v,\"Marco\":''}\n",
    "            results_list.append(new_raw)\n",
    "        elif rater==\"Marco\":\n",
    "            new_raw = {\"concept\":k,\"Samu\":'', \"Chiara\":'', \"Frosi\":'',\"Andrea\":'',\"Marco\":v}\n",
    "            results_list.append(new_raw)\n",
    "\n",
    "\n",
    "pagerank_df = pd.DataFrame(results_list,columns=[\"concept\",\"Samu\", \"Chiara\", \"Frosi\",\"Andrea\",\"Marco\"])\n",
    "pagerank_df.to_csv(\"pagerank.csv\", sep=\";\", encoding=\"utf-8\")\n",
    "\n",
    "# optimize_edit_paths=nx.optimize_edit_paths(rater1_graph, rater2_graph, node_match=lambda node1, node2:node1['label']==node2['label'])\n",
    "#\n",
    "# print(\"optimize_edit_paths\")\n",
    "# for i in optimize_edit_paths:\n",
    "#     print(i,\"\\n\")\n",
    "\n",
    "print(\"pagerank: \", pagerank)"
   ],
   "metadata": {
    "collapsed": false,
    "pycharm": {
     "name": "#%%\n"
    }
   }
  },
  {
   "cell_type": "markdown",
   "source": [
    "## Hubs and Authorities"
   ],
   "metadata": {
    "collapsed": false,
    "pycharm": {
     "name": "#%% md\n"
    }
   }
  },
  {
   "cell_type": "code",
   "execution_count": 13,
   "outputs": [
    {
     "name": "stdout",
     "output_type": "stream",
     "text": [
      "hits {'ACCESS INTERNET SERVICE PROVIDER': 0.006048943749040595, 'HOST': 0.021438583681552256, 'GATEWAY': 0.0051290503221034945, 'VOICE OVER INTERNET PROTOCOL': 0.0, 'BROWSER': 0.012701150566432496, 'WEBSERVER': 0.006231811709115577, 'COMPUTER': 0.14695835643421706, 'HYPERTEXT TRANSFER PROTOCOL': 0.005515679435961098, 'COMMON GATEWAY INTERFACE': 0.0012721802376263408, 'SERVLETS': 0.0, 'SERVER': 0.03392628347256312, 'SERVER SIDE': 0.0013185221265762893, 'SERVLET': 0.0, 'ACTIVE SERVER PAGE': 2.337452514172505e-05, 'ASP': 0.0, 'BUS': 0.00028500125833242517, 'STAR': 1.4159668848142142e-40, 'MACHINE': 0.05347196746579334, 'PROTOCOL': 0.028317107914718625, 'ETHERNET NETWORK': 0.000781949444563868, 'CARRIER SENSE': 0.004835050025698207, 'INTERNET ACCESS': 0.0, 'ACCESS POINT': 0.011314612088107731, 'END SYSTEM': 0.00045814950028630634, 'INTERNET SERVICE PROVIDER': 0.004455420099715446, 'WIFI NETWORK': 0.0040245546883293, 'INTERNET MAIL ACCESS PROTOCOL': 0.0, 'TRANSPORT LAYER': 0.004843418817172761, 'LINK LAYER': 0.0, 'TROJAN HORSE': 0.0, 'MALICIOUS SOFTWARE': 0.027528060588584598, 'PROXY SERVER': 0.0, 'AUDITING SOFTWARE': 0.0, 'NETWORK': 0.17340026841018147, 'HUB': 0.0, 'MESSAGE': 0.06618554108748838, 'HIDDEN TERMINAL PROBLEM': 0.0, 'COLLISION AVOIDANCE': 0.000982786838016914, 'BUSY CHANNEL': 0.0, 'SILENT CHANNEL': 0.0, 'BRIDGE': 0.010736616670112914, 'FORWARDING TABLE': 0.0023578777575118475, 'PEER-TO-PEER MODEL': 0.0, 'DISTRIBUTED SYSTEM': 0.0, 'INTERNET PROTOCOL ADDRESS': 0.015558285652887438, 'DOTTED DECIMAL NOTATION': 0.0038077471911927936, 'BIT PATTERN': 1.4159668848142142e-40, 'NAME SERVER': 0.004984638842461608, 'SIMPLE MAIL TRANSFER PROTOCOL': 1.4159668848142142e-40, 'INTERNET': 0.05732079978914013, 'MAIL SERVER': 0.0189906748270602, 'DOMAIN NAME SYSTEM': 0.0090212227445053, 'POST OFFICE PROTOCOL VERSION 3': 0.0, 'TRANSMISSION CONTROL PROTOCOL/INTERNET PROTOCOL PROTOCOL SUITE': 0.0051290503221034945, '4G': 0.0, '1G': 0.0, '3G': 0.0, 'WORLD WIDE WEB': 0.005515679435961098, 'UNIFORM RESOURCE LOCATOR': 0.0, 'HYPERTEXT DOCUMENT': 0.012688225976377589, 'HYPERTEXT MARKUP LANGUAGE SOURCE DOCUMENT': 0.0, 'HOP COUNT': 0.0, 'IPV4': 0.0011235107758867642, 'IPV6': 0.0, 'COMPUTER SYSTEM': 0.009888658724637608, 'VIRUS': 0.0, 'DENIAL OF SERVICE': 0.0, 'PERSONAL AREA NETWORK': 0.006235312955999715, 'METROPOLITAN AREA NETWORK': 0.006235312955999715, 'WIDE AREA NETWORK': 0.00642483636423606, 'BUS NETWORK': 0.01579149507856036, 'MULTIPLE ACCESS WITH COLLISION DETECTION': 0.0, 'REPEATER': 0.011909942134853335, 'CLIENT/SERVER MODEL': 0.0009539914696379744, 'INTRANET': 1.4159668848142142e-40, 'ROUTER': 0.016002572540028022, 'HOT SPOT': 0.0, 'MNEMONIC DOMAIN NAME': 0.0, 'DOMAIN NAME': 0.0017612180278550665, 'MNEMONIC ADDRESS': 0.01132067518784979, 'EMAIL MESSAGE': 0.0090212227445053, 'NETWORK PROTOCOL': 0.0007320671564934464, 'MULTIPURPOSE INTERNET MAIL EXTENSION': 0.0, 'PHONE NETWORK': 0.013844148006849797, 'CONTENT DELIVERY NETWORK': 0.0, 'END USER': 0.004798855631673852, 'EXTENSIBLE MARKUP LANGUAGE': 0.0004500983376864754, 'HYPERTEXT MARKUP LANGUAGE': 0.00022493460642858471, 'CLIENT-SIDE ACTIVITY': 0.0, 'SERVER-SIDE ACTIVITY': 0.0006122937356298185, 'PHP': 0.0, 'APPLICATION LAYER': 0.00272817927379854, 'SOFTWARE': 0.043182144713125314, 'NETWORK LAYER': 0.0011235107758867642, 'PORT NUMBER': 0.00272817927379854, 'INTERNET PROTOCOL': 0.0060547687429663224, 'SPYWARE': 0.0, 'FIREWALL': 0.0016613380115717326, 'ANTIVIRUS SOFTWARE': 0.0, 'NETWORK SOFTWARE': 0.0, 'OPEN SYSTEM': 0.006235312955999715, 'STAR NETWORK': 0.0, 'SWITCH': 0.007254060159947031, 'LOCAL AREA NETWORK': 0.006235312955999715, 'JAVASERVER PAGE': 0.0, 'TRANSMISSION CONTROL PROTOCOL': 0.0, 'OPEN NETWORK': 0.006235312955999715, 'CENTRAL ACCESS POINT': 0.002121266963357008, 'TIER-1 INTERNET SERVICE PROVIDER': 1.4159668848142142e-40, 'TIER-2 INTERNET SERVICE PROVIDER': 0.0, 'LOCAL MACHINE': 0.00470057181903151, 'MASS STORAGE': 0.00470057181903151, 'INTERNET PROTOCOL NETWORK': 0.007320919429420876, 'INTERNET SOFTWARE': 0.011655434553879572, 'USER DATAGRAM PROTOCOL': 0.0, 'INTERNET PROTOCOL NETWORK LAYER': 0.001173325464740421, 'WORM': 0.0, 'PRINT SERVER': 0.0, nan: 5.938995568843798e-34, '72': 5.938995568843798e-34}\n",
      "authorities {'ACCESS INTERNET SERVICE PROVIDER': 5.532870245101053e-40, 'HOST': 0.00041171876445375056, 'GATEWAY': 0.013935676998185, 'VOICE OVER INTERNET PROTOCOL': 0.02004169039342743, 'BROWSER': 0.016843347400518363, 'WEBSERVER': 0.011730774573463823, 'COMPUTER': 0.0, 'HYPERTEXT TRANSFER PROTOCOL': 0.013658166389539437, 'COMMON GATEWAY INTERFACE': 0.002350853458176694, 'SERVLETS': 0.0024855129942152267, 'SERVER': 0.011802414941197222, 'SERVER SIDE': 0.0, 'SERVLET': 0.0024855129942152267, 'ACTIVE SERVER PAGE': 0.0, 'ASP': 9.133562093649236e-05, 'BUS': 0.02544461902725274, 'STAR': 0.02621474324905459, 'MACHINE': 0.0, 'PROTOCOL': 0.02994950951685522, 'ETHERNET NETWORK': 0.0010942398310600356, 'CARRIER SENSE': 0.003055456212571229, 'INTERNET ACCESS': 0.0017902125855680708, 'ACCESS POINT': 0.0037064395104043674, 'END SYSTEM': 0.00041171876445375056, 'INTERNET SERVICE PROVIDER': 0.015703930623786957, 'WIFI NETWORK': 0.011802414941197222, 'INTERNET MAIL ACCESS PROTOCOL': 0.017727531990102966, 'TRANSPORT LAYER': 0.01066032128942188, 'LINK LAYER': 0.00905288549787529, 'TROJAN HORSE': 0.012549410503635562, 'MALICIOUS SOFTWARE': 0.01541465643606412, 'PROXY SERVER': 0.018924452711699135, 'AUDITING SOFTWARE': 0.0064916543952132375, 'NETWORK': 0.010675724857892454, 'HUB': 0.012877256283837292, 'MESSAGE': 0.0, 'HIDDEN TERMINAL PROBLEM': 0.008288820161930414, 'COLLISION AVOIDANCE': 0.018563792854465952, 'BUSY CHANNEL': 6.689296482593729e-05, 'SILENT CHANNEL': 6.689296482593729e-05, 'BRIDGE': 0.01819279187948056, 'FORWARDING TABLE': 0.017396513676202305, 'PEER-TO-PEER MODEL': 0.014111592888504491, 'DISTRIBUTED SYSTEM': 0.028383793204704275, 'INTERNET PROTOCOL ADDRESS': 0.0148787174057266, 'DOTTED DECIMAL NOTATION': 5.532870245101053e-40, 'BIT PATTERN': 0.0, 'NAME SERVER': 0.006066074718433473, 'SIMPLE MAIL TRANSFER PROTOCOL': 0.035250298176324406, 'INTERNET': 0.024364395730674504, 'MAIL SERVER': 0.0, 'DOMAIN NAME SYSTEM': 0.0028605418890921127, 'POST OFFICE PROTOCOL VERSION 3': 0.018367416802895345, 'TRANSMISSION CONTROL PROTOCOL/INTERNET PROTOCOL PROTOCOL SUITE': 0.005828907498665351, '4G': 0.02860638741783824, '1G': 0.012744710941027741, '3G': 0.012744710941027741, 'WORLD WIDE WEB': 0.0, 'UNIFORM RESOURCE LOCATOR': 0.021552438097271646, 'HYPERTEXT DOCUMENT': 0.0, 'HYPERTEXT MARKUP LANGUAGE SOURCE DOCUMENT': 0.0008789287407420726, 'HOP COUNT': 0.004584752384610622, 'IPV4': 0.00439010220409914, 'IPV6': 0.00439010220409914, 'COMPUTER SYSTEM': 0.010002657540477092, 'VIRUS': 0.019914271919672797, 'DENIAL OF SERVICE': 0.021805072481674313, 'PERSONAL AREA NETWORK': 0.021805072481674313, 'METROPOLITAN AREA NETWORK': 0.021805072481674313, 'WIDE AREA NETWORK': 0.02544461902725274, 'BUS NETWORK': 1.9398488419965804e-05, 'MULTIPLE ACCESS WITH COLLISION DETECTION': 0.00032909560759064447, 'REPEATER': 0.012877256283837292, 'CLIENT/SERVER MODEL': 0.024114250428981583, 'INTRANET': 0.0, 'ROUTER': 0.028345135783602763, 'HOT SPOT': 0.0022710512316582083, 'MNEMONIC DOMAIN NAME': 0.004021392233776461, 'DOMAIN NAME': 0.003901515682589737, 'MNEMONIC ADDRESS': 0.0, 'EMAIL MESSAGE': 0.0, 'NETWORK PROTOCOL': 0.0, 'MULTIPURPOSE INTERNET MAIL EXTENSION': 5.532870245101053e-40, 'PHONE NETWORK': 0.0, 'CONTENT DELIVERY NETWORK': 0.018751459387772073, 'END USER': 0.0, 'EXTENSIBLE MARKUP LANGUAGE': 0.0, 'HYPERTEXT MARKUP LANGUAGE': 0.001758752783460538, 'CLIENT-SIDE ACTIVITY': 0.0009294313905652185, 'SERVER-SIDE ACTIVITY': 0.0027982765615404055, 'PHP': 8.974464387958054e-05, 'APPLICATION LAYER': 0.016616862723833854, 'SOFTWARE': 0.0, 'NETWORK LAYER': 0.00921337343834465, 'PORT NUMBER': 0.0, 'INTERNET PROTOCOL': 0.005828907498665351, 'SPYWARE': 0.014815517363671737, 'FIREWALL': 0.0281836486170199, 'ANTIVIRUS SOFTWARE': 0.004812859823194644, 'NETWORK SOFTWARE': 0.014741589118648757, 'OPEN SYSTEM': 0.0, 'STAR NETWORK': 5.532870245101053e-40, 'SWITCH': 0.013608039494869942, 'LOCAL AREA NETWORK': 0.021805072481674313, 'JAVASERVER PAGE': 4.167551086942322e-05, 'TRANSMISSION CONTROL PROTOCOL': 0.00032966522910281965, 'OPEN NETWORK': 0.011802414941197222, 'CENTRAL ACCESS POINT': 0.0, 'TIER-1 INTERNET SERVICE PROVIDER': 0.0007405599929115607, 'TIER-2 INTERNET SERVICE PROVIDER': 5.532870245101053e-40, 'LOCAL MACHINE': 0.0, 'MASS STORAGE': 0.0, 'INTERNET PROTOCOL NETWORK': 0.0, 'INTERNET SOFTWARE': 0.0, 'USER DATAGRAM PROTOCOL': 0.00032966522910281965, 'INTERNET PROTOCOL NETWORK LAYER': 0.0, 'WORM': 0.0018736856457431076, 'PRINT SERVER': 0.002309177947307271, nan: 2.3206539800508327e-33, '72': 0.0}\n"
     ]
    }
   ],
   "source": [
    "rater1_graph = create_graphs(raters['Chiara'])\n",
    "h,a=nx.hits(rater1_graph)\n",
    "print(\"hits\",h)\n",
    "print(\"authorities\",a)\n",
    "with open('hits_chiara.csv', 'w') as f:\n",
    "    for key in h.keys():\n",
    "        f.write(\"%s,%s\\n\"%(key,h[key]))\n",
    "\n",
    "with open('authorities_chiara.csv', 'w') as f:\n",
    "    for key in a.keys():\n",
    "        f.write(\"%s,%s\\n\"%(key,a[key]))"
   ],
   "metadata": {
    "collapsed": false,
    "pycharm": {
     "name": "#%%\n"
    }
   }
  }
 ],
 "metadata": {
  "kernelspec": {
   "display_name": "Python 3",
   "language": "python",
   "name": "python3"
  },
  "language_info": {
   "codemirror_mode": {
    "name": "ipython",
    "version": 3
   },
   "file_extension": ".py",
   "mimetype": "text/x-python",
   "name": "python",
   "nbconvert_exporter": "python",
   "pygments_lexer": "ipython3",
   "version": "3.6.8"
  }
 },
 "nbformat": 4,
 "nbformat_minor": 1
}